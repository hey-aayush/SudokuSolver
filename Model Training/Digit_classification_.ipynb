{
  "nbformat": 4,
  "nbformat_minor": 0,
  "metadata": {
    "accelerator": "GPU",
    "colab": {
      "name": "Digit_classification .ipynb",
      "provenance": [],
      "collapsed_sections": []
    },
    "kernelspec": {
      "display_name": "Python 3",
      "language": "python",
      "name": "python3"
    },
    "language_info": {
      "codemirror_mode": {
        "name": "ipython",
        "version": 3
      },
      "file_extension": ".py",
      "mimetype": "text/x-python",
      "name": "python",
      "nbconvert_exporter": "python",
      "pygments_lexer": "ipython3",
      "version": "3.8.3"
    }
  },
  "cells": [
    {
      "cell_type": "code",
      "metadata": {
        "colab_type": "code",
        "id": "5j-vjSQyTFZb",
        "colab": {}
      },
      "source": [
        "import os\n",
        "import cv2\n",
        "import random\n",
        "import numpy as np\n",
        "import pandas as pd\n",
        "import tensorflow as tf\n",
        "from sklearn.model_selection import train_test_split\n",
        "from tensorflow.keras.datasets import mnist"
      ],
      "execution_count": null,
      "outputs": []
    },
    {
      "cell_type": "code",
      "metadata": {
        "id": "zlnwKxKlyjVh",
        "colab_type": "code",
        "colab": {
          "base_uri": "https://localhost:8080/",
          "height": 34
        },
        "outputId": "3d183101-8953-4874-ea38-398f55f6de23"
      },
      "source": [
        "from google.colab import drive\n",
        "drive.mount('/content/drive')"
      ],
      "execution_count": null,
      "outputs": [
        {
          "output_type": "stream",
          "text": [
            "Mounted at /content/drive\n"
          ],
          "name": "stdout"
        }
      ]
    },
    {
      "cell_type": "code",
      "metadata": {
        "id": "XdTJvBrNkEcV",
        "colab_type": "code",
        "colab": {
          "base_uri": "https://localhost:8080/",
          "height": 51
        },
        "outputId": "842ac49d-1300-4692-ae0d-d1190a6b9bcd"
      },
      "source": [
        "(x_train,y_train),(x_test,y_test)= mnist.load_data()"
      ],
      "execution_count": null,
      "outputs": [
        {
          "output_type": "stream",
          "text": [
            "Downloading data from https://storage.googleapis.com/tensorflow/tf-keras-datasets/mnist.npz\n",
            "11493376/11490434 [==============================] - 0s 0us/step\n"
          ],
          "name": "stdout"
        }
      ]
    },
    {
      "cell_type": "code",
      "metadata": {
        "colab_type": "code",
        "id": "dWlfN1uxTN5s",
        "colab": {}
      },
      "source": [
        "images=[]\n",
        "labels=[]\n",
        "X_train=[]\n",
        "Y_train=[]\n",
        "X_test=[]\n",
        "Y_test=[]"
      ],
      "execution_count": null,
      "outputs": []
    },
    {
      "cell_type": "code",
      "metadata": {
        "id": "QnKBs-wtrEJL",
        "colab_type": "code",
        "colab": {}
      },
      "source": [
        "image_size=(28,28)"
      ],
      "execution_count": null,
      "outputs": []
    },
    {
      "cell_type": "code",
      "metadata": {
        "colab_type": "code",
        "id": "QiFQBuBso8Hp",
        "colab": {
          "base_uri": "https://localhost:8080/",
          "height": 51
        },
        "outputId": "cddf8dee-0468-4520-b54f-36b152055d1b"
      },
      "source": [
        "# load numpy array from npy file\n",
        "from numpy import load\n",
        "# load array\n",
        "loaded_image_data = load('/content/drive/My Drive/Data_soduku/Final_Data/Processed_images20.npy')\n",
        "loaded_label_data = load('/content/drive/My Drive/Data_soduku/Final_Data/Processed_labels20.npy')\n",
        "# print the array\n",
        "print(loaded_image_data.shape)\n",
        "print(loaded_label_data.shape)"
      ],
      "execution_count": null,
      "outputs": [
        {
          "output_type": "stream",
          "text": [
            "(140693, 28, 28)\n",
            "(140693,)\n"
          ],
          "name": "stdout"
        }
      ]
    },
    {
      "cell_type": "code",
      "metadata": {
        "colab_type": "code",
        "id": "jYWLETpHT2ln",
        "colab": {}
      },
      "source": [
        "X_train, X_test, Y_train, Y_test = train_test_split(loaded_image_data, loaded_label_data, test_size=0.15)"
      ],
      "execution_count": null,
      "outputs": []
    },
    {
      "cell_type": "code",
      "metadata": {
        "colab_type": "code",
        "id": "erYJ4xrzT7J3",
        "colab": {}
      },
      "source": [
        "X_train=np.array(X_train)"
      ],
      "execution_count": null,
      "outputs": []
    },
    {
      "cell_type": "code",
      "metadata": {
        "colab_type": "code",
        "id": "lGVEVliLT9oR",
        "colab": {
          "base_uri": "https://localhost:8080/",
          "height": 34
        },
        "outputId": "c54f022a-d18c-41e8-8e1d-bd06e7a346e2"
      },
      "source": [
        "X_train.shape"
      ],
      "execution_count": null,
      "outputs": [
        {
          "output_type": "execute_result",
          "data": {
            "text/plain": [
              "(119589, 28, 28)"
            ]
          },
          "metadata": {
            "tags": []
          },
          "execution_count": 9
        }
      ]
    },
    {
      "cell_type": "code",
      "metadata": {
        "colab_type": "code",
        "id": "qmcVd-WFT_BH",
        "colab": {}
      },
      "source": [
        "Y_test=np.array(Y_test)"
      ],
      "execution_count": null,
      "outputs": []
    },
    {
      "cell_type": "code",
      "metadata": {
        "colab_type": "code",
        "id": "rgEbWkdVUBOQ",
        "colab": {}
      },
      "source": [
        "Y_train=np.array(Y_train)"
      ],
      "execution_count": null,
      "outputs": []
    },
    {
      "cell_type": "code",
      "metadata": {
        "colab_type": "code",
        "id": "m8FR2DKxUEbC",
        "colab": {}
      },
      "source": [
        "Y_train=np.array(Y_train)"
      ],
      "execution_count": null,
      "outputs": []
    },
    {
      "cell_type": "code",
      "metadata": {
        "colab_type": "code",
        "id": "lduQ4RsLUGKy",
        "colab": {
          "base_uri": "https://localhost:8080/",
          "height": 34
        },
        "outputId": "dcdbfd1b-d092-415c-84b1-aae359cd50ff"
      },
      "source": [
        "Y_train.shape"
      ],
      "execution_count": null,
      "outputs": [
        {
          "output_type": "execute_result",
          "data": {
            "text/plain": [
              "(119589,)"
            ]
          },
          "metadata": {
            "tags": []
          },
          "execution_count": 13
        }
      ]
    },
    {
      "cell_type": "code",
      "metadata": {
        "colab_type": "code",
        "id": "aJWOnf3oUIZ-",
        "colab": {}
      },
      "source": [
        "combined = list(zip(X_train, Y_train))\n",
        "\n",
        "random.shuffle(combined)\n",
        "\n",
        "X_train, Y_train = zip(*combined)"
      ],
      "execution_count": null,
      "outputs": []
    },
    {
      "cell_type": "code",
      "metadata": {
        "colab_type": "code",
        "id": "Lj8giZ4aUKJm",
        "colab": {}
      },
      "source": [
        "combined = list(zip(X_test, Y_test))\n",
        "\n",
        "random.shuffle(combined)\n",
        "\n",
        "X_test, Y_test = zip(*combined)"
      ],
      "execution_count": null,
      "outputs": []
    },
    {
      "cell_type": "code",
      "metadata": {
        "colab_type": "code",
        "id": "gzBWjiu_UL8z",
        "colab": {}
      },
      "source": [
        "X_train=np.array(X_train)"
      ],
      "execution_count": null,
      "outputs": []
    },
    {
      "cell_type": "code",
      "metadata": {
        "colab_type": "code",
        "id": "LEpSfp-mURGe",
        "colab": {}
      },
      "source": [
        "Y_train=np.array(Y_train)"
      ],
      "execution_count": null,
      "outputs": []
    },
    {
      "cell_type": "code",
      "metadata": {
        "colab_type": "code",
        "id": "vYNvhKR-USXl",
        "colab": {}
      },
      "source": [
        "X_test=np.array(X_test)"
      ],
      "execution_count": null,
      "outputs": []
    },
    {
      "cell_type": "code",
      "metadata": {
        "colab_type": "code",
        "id": "VTB89N2gUTv3",
        "colab": {}
      },
      "source": [
        "Y_test=np.array(Y_test)"
      ],
      "execution_count": null,
      "outputs": []
    },
    {
      "cell_type": "code",
      "metadata": {
        "colab_type": "code",
        "id": "ynMEksZ_UVKK",
        "colab": {
          "base_uri": "https://localhost:8080/",
          "height": 34
        },
        "outputId": "ad0ccd2d-05f4-47b0-f307-baa836f10b51"
      },
      "source": [
        "(X_train).shape"
      ],
      "execution_count": null,
      "outputs": [
        {
          "output_type": "execute_result",
          "data": {
            "text/plain": [
              "(119589, 28, 28)"
            ]
          },
          "metadata": {
            "tags": []
          },
          "execution_count": 20
        }
      ]
    },
    {
      "cell_type": "code",
      "metadata": {
        "id": "qzXoIV_yCHBN",
        "colab_type": "code",
        "colab": {
          "base_uri": "https://localhost:8080/",
          "height": 34
        },
        "outputId": "6ac2feae-f870-4cb8-b2ff-75f6c0051ce9"
      },
      "source": [
        "X_train[900].max()"
      ],
      "execution_count": null,
      "outputs": [
        {
          "output_type": "execute_result",
          "data": {
            "text/plain": [
              "255"
            ]
          },
          "metadata": {
            "tags": []
          },
          "execution_count": 21
        }
      ]
    },
    {
      "cell_type": "code",
      "metadata": {
        "colab_type": "code",
        "id": "6TQjmkSGUWmN",
        "colab": {}
      },
      "source": [
        "X_train=X_train/255"
      ],
      "execution_count": null,
      "outputs": []
    },
    {
      "cell_type": "code",
      "metadata": {
        "colab_type": "code",
        "id": "9w-DbSaXUYxc",
        "colab": {}
      },
      "source": [
        "X_train = X_train.reshape(119589,28,28,1)"
      ],
      "execution_count": null,
      "outputs": []
    },
    {
      "cell_type": "code",
      "metadata": {
        "colab_type": "code",
        "id": "Gq2NGOTnUZ_f",
        "colab": {
          "base_uri": "https://localhost:8080/",
          "height": 34
        },
        "outputId": "b4978398-800c-437b-81d0-89badf264aa3"
      },
      "source": [
        "(X_test).shape"
      ],
      "execution_count": null,
      "outputs": [
        {
          "output_type": "execute_result",
          "data": {
            "text/plain": [
              "(21104, 28, 28)"
            ]
          },
          "metadata": {
            "tags": []
          },
          "execution_count": 24
        }
      ]
    },
    {
      "cell_type": "code",
      "metadata": {
        "colab_type": "code",
        "id": "QDsxTRG0UbmT",
        "colab": {}
      },
      "source": [
        "X_test=X_test/255"
      ],
      "execution_count": null,
      "outputs": []
    },
    {
      "cell_type": "code",
      "metadata": {
        "colab_type": "code",
        "id": "l5RTngYTUdTg",
        "colab": {
          "base_uri": "https://localhost:8080/",
          "height": 34
        },
        "outputId": "7bb688a8-53bc-471e-fe66-68786e58c659"
      },
      "source": [
        "X_test.shape"
      ],
      "execution_count": null,
      "outputs": [
        {
          "output_type": "execute_result",
          "data": {
            "text/plain": [
              "(21104, 28, 28)"
            ]
          },
          "metadata": {
            "tags": []
          },
          "execution_count": 26
        }
      ]
    },
    {
      "cell_type": "code",
      "metadata": {
        "colab_type": "code",
        "id": "rijASU32UfLL",
        "colab": {}
      },
      "source": [
        "X_test = X_test.reshape(21104,28,28,1)"
      ],
      "execution_count": null,
      "outputs": []
    },
    {
      "cell_type": "code",
      "metadata": {
        "colab_type": "code",
        "id": "kp2e_pjtUg1-",
        "colab": {}
      },
      "source": [
        "from tensorflow.keras.utils import to_categorical"
      ],
      "execution_count": null,
      "outputs": []
    },
    {
      "cell_type": "code",
      "metadata": {
        "colab_type": "code",
        "id": "qSZEuMAoUipQ",
        "colab": {}
      },
      "source": [
        "Y_cat_train = to_categorical(Y_train,num_classes=10)\n",
        "Y_cat_test = to_categorical(Y_test,num_classes=10)"
      ],
      "execution_count": null,
      "outputs": []
    },
    {
      "cell_type": "code",
      "metadata": {
        "colab_type": "code",
        "id": "eGkGNRKVUkBT",
        "colab": {}
      },
      "source": [
        "from tensorflow.keras.models import Sequential"
      ],
      "execution_count": null,
      "outputs": []
    },
    {
      "cell_type": "code",
      "metadata": {
        "colab_type": "code",
        "id": "L-LEvGxCUlbv",
        "colab": {}
      },
      "source": [
        "from tensorflow.keras.layers import Dense,Conv2D,MaxPool2D,Flatten,Dropout"
      ],
      "execution_count": null,
      "outputs": []
    },
    {
      "cell_type": "code",
      "metadata": {
        "colab_type": "code",
        "id": "s2IweMKLUnYJ",
        "colab": {}
      },
      "source": [
        "model = Sequential()\n",
        "model.add(Conv2D(32, kernel_size=(3, 3),\n",
        "                 activation='relu',\n",
        "                 input_shape=(28,28,1)))\n",
        "model.add(Conv2D(64, (3, 3), activation='relu'))\n",
        "model.add(MaxPool2D(pool_size=(2, 2)))\n",
        "model.add(Dropout(0.25))\n",
        "model.add(Flatten())\n",
        "model.add(Dense(128, activation='relu'))\n",
        "model.add(Dropout(0.5))\n",
        "model.add(Dense(10, activation='softmax'))\n",
        "\n",
        "model.compile(loss=\"categorical_crossentropy\",\n",
        "              optimizer=tf.keras.optimizers.Adadelta(),\n",
        "              metrics=['accuracy'])"
      ],
      "execution_count": null,
      "outputs": []
    },
    {
      "cell_type": "code",
      "metadata": {
        "colab_type": "code",
        "id": "KHCIM_aIUp2j",
        "colab": {
          "base_uri": "https://localhost:8080/",
          "height": 425
        },
        "outputId": "30b1c5a3-7715-4efe-d044-ba5a960b953a"
      },
      "source": [
        "model.summary()"
      ],
      "execution_count": null,
      "outputs": [
        {
          "output_type": "stream",
          "text": [
            "Model: \"sequential_4\"\n",
            "_________________________________________________________________\n",
            "Layer (type)                 Output Shape              Param #   \n",
            "=================================================================\n",
            "conv2d_6 (Conv2D)            (None, 26, 26, 32)        320       \n",
            "_________________________________________________________________\n",
            "conv2d_7 (Conv2D)            (None, 24, 24, 64)        18496     \n",
            "_________________________________________________________________\n",
            "max_pooling2d_2 (MaxPooling2 (None, 12, 12, 64)        0         \n",
            "_________________________________________________________________\n",
            "dropout_4 (Dropout)          (None, 12, 12, 64)        0         \n",
            "_________________________________________________________________\n",
            "flatten_2 (Flatten)          (None, 9216)              0         \n",
            "_________________________________________________________________\n",
            "dense_3 (Dense)              (None, 128)               1179776   \n",
            "_________________________________________________________________\n",
            "dropout_5 (Dropout)          (None, 128)               0         \n",
            "_________________________________________________________________\n",
            "dense_4 (Dense)              (None, 10)                1290      \n",
            "=================================================================\n",
            "Total params: 1,199,882\n",
            "Trainable params: 1,199,882\n",
            "Non-trainable params: 0\n",
            "_________________________________________________________________\n"
          ],
          "name": "stdout"
        }
      ]
    },
    {
      "cell_type": "code",
      "metadata": {
        "colab_type": "code",
        "id": "Fh8xBmB-Ur09",
        "colab": {}
      },
      "source": [
        "from tensorflow.keras.callbacks import EarlyStopping"
      ],
      "execution_count": null,
      "outputs": []
    },
    {
      "cell_type": "code",
      "metadata": {
        "colab_type": "code",
        "id": "btZ1A2hYUu9a",
        "colab": {}
      },
      "source": [
        "early_stop = EarlyStopping(monitor='val_loss',patience=2)"
      ],
      "execution_count": null,
      "outputs": []
    },
    {
      "cell_type": "code",
      "metadata": {
        "colab_type": "code",
        "id": "GRbrpe-fUwQP",
        "colab": {
          "base_uri": "https://localhost:8080/",
          "height": 1000
        },
        "outputId": "d92e05f0-6b87-46ad-8038-b95053b13977"
      },
      "source": [
        "model.fit(X_train,Y_cat_train,epochs=1000,validation_data=(X_test,Y_cat_test),callbacks=[early_stop])"
      ],
      "execution_count": null,
      "outputs": [
        {
          "output_type": "stream",
          "text": [
            "Epoch 1/1000\n",
            "3738/3738 [==============================] - 16s 4ms/step - loss: 2.2726 - accuracy: 0.1833 - val_loss: 2.2127 - val_accuracy: 0.4146\n",
            "Epoch 2/1000\n",
            "3738/3738 [==============================] - 16s 4ms/step - loss: 2.1662 - accuracy: 0.3124 - val_loss: 2.0665 - val_accuracy: 0.5638\n",
            "Epoch 3/1000\n",
            "3738/3738 [==============================] - 16s 4ms/step - loss: 2.0188 - accuracy: 0.3937 - val_loss: 1.8761 - val_accuracy: 0.6212\n",
            "Epoch 4/1000\n",
            "3738/3738 [==============================] - 16s 4ms/step - loss: 1.8391 - accuracy: 0.4630 - val_loss: 1.6567 - val_accuracy: 0.6785\n",
            "Epoch 5/1000\n",
            "3738/3738 [==============================] - 16s 4ms/step - loss: 1.6487 - accuracy: 0.5238 - val_loss: 1.4368 - val_accuracy: 0.7253\n",
            "Epoch 6/1000\n",
            "3738/3738 [==============================] - 16s 4ms/step - loss: 1.4720 - accuracy: 0.5738 - val_loss: 1.2444 - val_accuracy: 0.7589\n",
            "Epoch 7/1000\n",
            "3738/3738 [==============================] - 16s 4ms/step - loss: 1.3161 - accuracy: 0.6177 - val_loss: 1.0794 - val_accuracy: 0.7856\n",
            "Epoch 8/1000\n",
            "3738/3738 [==============================] - 16s 4ms/step - loss: 1.1802 - accuracy: 0.6583 - val_loss: 0.9427 - val_accuracy: 0.8067\n",
            "Epoch 9/1000\n",
            "3738/3738 [==============================] - 16s 4ms/step - loss: 1.0662 - accuracy: 0.6899 - val_loss: 0.8315 - val_accuracy: 0.8216\n",
            "Epoch 10/1000\n",
            "3738/3738 [==============================] - 16s 4ms/step - loss: 0.9694 - accuracy: 0.7173 - val_loss: 0.7389 - val_accuracy: 0.8344\n",
            "Epoch 11/1000\n",
            "3738/3738 [==============================] - 17s 4ms/step - loss: 0.8832 - accuracy: 0.7417 - val_loss: 0.6658 - val_accuracy: 0.8456\n",
            "Epoch 12/1000\n",
            "3738/3738 [==============================] - 16s 4ms/step - loss: 0.8145 - accuracy: 0.7603 - val_loss: 0.6038 - val_accuracy: 0.8541\n",
            "Epoch 13/1000\n",
            "3738/3738 [==============================] - 16s 4ms/step - loss: 0.7582 - accuracy: 0.7785 - val_loss: 0.5538 - val_accuracy: 0.8650\n",
            "Epoch 14/1000\n",
            "3738/3738 [==============================] - 16s 4ms/step - loss: 0.7062 - accuracy: 0.7919 - val_loss: 0.5108 - val_accuracy: 0.8740\n",
            "Epoch 15/1000\n",
            "3738/3738 [==============================] - 17s 4ms/step - loss: 0.6604 - accuracy: 0.8067 - val_loss: 0.4744 - val_accuracy: 0.8817\n",
            "Epoch 16/1000\n",
            "3738/3738 [==============================] - 17s 4ms/step - loss: 0.6226 - accuracy: 0.8160 - val_loss: 0.4444 - val_accuracy: 0.8887\n",
            "Epoch 17/1000\n",
            "3738/3738 [==============================] - 16s 4ms/step - loss: 0.5909 - accuracy: 0.8262 - val_loss: 0.4173 - val_accuracy: 0.8948\n",
            "Epoch 18/1000\n",
            "3738/3738 [==============================] - 16s 4ms/step - loss: 0.5586 - accuracy: 0.8350 - val_loss: 0.3934 - val_accuracy: 0.9005\n",
            "Epoch 19/1000\n",
            "3738/3738 [==============================] - 16s 4ms/step - loss: 0.5338 - accuracy: 0.8427 - val_loss: 0.3723 - val_accuracy: 0.9044\n",
            "Epoch 20/1000\n",
            "3738/3738 [==============================] - 16s 4ms/step - loss: 0.5070 - accuracy: 0.8523 - val_loss: 0.3542 - val_accuracy: 0.9078\n",
            "Epoch 21/1000\n",
            "3738/3738 [==============================] - 17s 4ms/step - loss: 0.4869 - accuracy: 0.8581 - val_loss: 0.3381 - val_accuracy: 0.9105\n",
            "Epoch 22/1000\n",
            "3738/3738 [==============================] - 16s 4ms/step - loss: 0.4690 - accuracy: 0.8626 - val_loss: 0.3228 - val_accuracy: 0.9141\n",
            "Epoch 23/1000\n",
            "3738/3738 [==============================] - 16s 4ms/step - loss: 0.4511 - accuracy: 0.8684 - val_loss: 0.3091 - val_accuracy: 0.9171\n",
            "Epoch 24/1000\n",
            "3738/3738 [==============================] - 16s 4ms/step - loss: 0.4339 - accuracy: 0.8721 - val_loss: 0.2968 - val_accuracy: 0.9205\n",
            "Epoch 25/1000\n",
            "3738/3738 [==============================] - 16s 4ms/step - loss: 0.4186 - accuracy: 0.8763 - val_loss: 0.2857 - val_accuracy: 0.9225\n",
            "Epoch 26/1000\n",
            "3738/3738 [==============================] - 16s 4ms/step - loss: 0.4054 - accuracy: 0.8805 - val_loss: 0.2750 - val_accuracy: 0.9258\n",
            "Epoch 27/1000\n",
            "3738/3738 [==============================] - 16s 4ms/step - loss: 0.3895 - accuracy: 0.8858 - val_loss: 0.2657 - val_accuracy: 0.9277\n",
            "Epoch 28/1000\n",
            "3738/3738 [==============================] - 16s 4ms/step - loss: 0.3794 - accuracy: 0.8877 - val_loss: 0.2571 - val_accuracy: 0.9299\n",
            "Epoch 29/1000\n",
            "3738/3738 [==============================] - 16s 4ms/step - loss: 0.3673 - accuracy: 0.8917 - val_loss: 0.2492 - val_accuracy: 0.9311\n",
            "Epoch 30/1000\n",
            "3738/3738 [==============================] - 16s 4ms/step - loss: 0.3571 - accuracy: 0.8953 - val_loss: 0.2416 - val_accuracy: 0.9334\n",
            "Epoch 31/1000\n",
            "3738/3738 [==============================] - 16s 4ms/step - loss: 0.3491 - accuracy: 0.8974 - val_loss: 0.2347 - val_accuracy: 0.9353\n",
            "Epoch 32/1000\n",
            "3738/3738 [==============================] - 16s 4ms/step - loss: 0.3385 - accuracy: 0.9001 - val_loss: 0.2282 - val_accuracy: 0.9367\n",
            "Epoch 33/1000\n",
            "3738/3738 [==============================] - 16s 4ms/step - loss: 0.3315 - accuracy: 0.9018 - val_loss: 0.2220 - val_accuracy: 0.9378\n",
            "Epoch 34/1000\n",
            "3738/3738 [==============================] - 16s 4ms/step - loss: 0.3223 - accuracy: 0.9045 - val_loss: 0.2167 - val_accuracy: 0.9388\n",
            "Epoch 35/1000\n",
            "3738/3738 [==============================] - 17s 4ms/step - loss: 0.3184 - accuracy: 0.9058 - val_loss: 0.2112 - val_accuracy: 0.9403\n",
            "Epoch 36/1000\n",
            "3738/3738 [==============================] - 16s 4ms/step - loss: 0.3082 - accuracy: 0.9085 - val_loss: 0.2061 - val_accuracy: 0.9416\n",
            "Epoch 37/1000\n",
            "3738/3738 [==============================] - 16s 4ms/step - loss: 0.3017 - accuracy: 0.9110 - val_loss: 0.2013 - val_accuracy: 0.9432\n",
            "Epoch 38/1000\n",
            "3738/3738 [==============================] - 16s 4ms/step - loss: 0.2956 - accuracy: 0.9124 - val_loss: 0.1970 - val_accuracy: 0.9443\n",
            "Epoch 39/1000\n",
            "3738/3738 [==============================] - 17s 4ms/step - loss: 0.2902 - accuracy: 0.9149 - val_loss: 0.1930 - val_accuracy: 0.9456\n",
            "Epoch 40/1000\n",
            "3738/3738 [==============================] - 16s 4ms/step - loss: 0.2862 - accuracy: 0.9153 - val_loss: 0.1887 - val_accuracy: 0.9467\n",
            "Epoch 41/1000\n",
            "3738/3738 [==============================] - 16s 4ms/step - loss: 0.2792 - accuracy: 0.9171 - val_loss: 0.1853 - val_accuracy: 0.9474\n",
            "Epoch 42/1000\n",
            "3738/3738 [==============================] - 16s 4ms/step - loss: 0.2735 - accuracy: 0.9188 - val_loss: 0.1815 - val_accuracy: 0.9484\n",
            "Epoch 43/1000\n",
            "3738/3738 [==============================] - 16s 4ms/step - loss: 0.2682 - accuracy: 0.9205 - val_loss: 0.1784 - val_accuracy: 0.9491\n",
            "Epoch 44/1000\n",
            "3738/3738 [==============================] - 16s 4ms/step - loss: 0.2657 - accuracy: 0.9221 - val_loss: 0.1752 - val_accuracy: 0.9498\n",
            "Epoch 45/1000\n",
            "3738/3738 [==============================] - 16s 4ms/step - loss: 0.2609 - accuracy: 0.9218 - val_loss: 0.1720 - val_accuracy: 0.9503\n",
            "Epoch 46/1000\n",
            "3738/3738 [==============================] - 16s 4ms/step - loss: 0.2554 - accuracy: 0.9242 - val_loss: 0.1689 - val_accuracy: 0.9514\n",
            "Epoch 47/1000\n",
            "3738/3738 [==============================] - 16s 4ms/step - loss: 0.2501 - accuracy: 0.9254 - val_loss: 0.1660 - val_accuracy: 0.9516\n",
            "Epoch 48/1000\n",
            "3738/3738 [==============================] - 16s 4ms/step - loss: 0.2485 - accuracy: 0.9259 - val_loss: 0.1635 - val_accuracy: 0.9523\n",
            "Epoch 49/1000\n",
            "3738/3738 [==============================] - 16s 4ms/step - loss: 0.2449 - accuracy: 0.9277 - val_loss: 0.1612 - val_accuracy: 0.9527\n",
            "Epoch 50/1000\n",
            "3738/3738 [==============================] - 16s 4ms/step - loss: 0.2408 - accuracy: 0.9287 - val_loss: 0.1585 - val_accuracy: 0.9535\n",
            "Epoch 51/1000\n",
            "3738/3738 [==============================] - 16s 4ms/step - loss: 0.2364 - accuracy: 0.9294 - val_loss: 0.1561 - val_accuracy: 0.9537\n",
            "Epoch 52/1000\n",
            "3738/3738 [==============================] - 16s 4ms/step - loss: 0.2334 - accuracy: 0.9302 - val_loss: 0.1539 - val_accuracy: 0.9545\n",
            "Epoch 53/1000\n",
            "3738/3738 [==============================] - 16s 4ms/step - loss: 0.2304 - accuracy: 0.9316 - val_loss: 0.1520 - val_accuracy: 0.9547\n",
            "Epoch 54/1000\n",
            "3738/3738 [==============================] - 16s 4ms/step - loss: 0.2293 - accuracy: 0.9319 - val_loss: 0.1496 - val_accuracy: 0.9555\n",
            "Epoch 55/1000\n",
            "3738/3738 [==============================] - 16s 4ms/step - loss: 0.2248 - accuracy: 0.9332 - val_loss: 0.1476 - val_accuracy: 0.9559\n",
            "Epoch 56/1000\n",
            "3738/3738 [==============================] - 16s 4ms/step - loss: 0.2233 - accuracy: 0.9325 - val_loss: 0.1459 - val_accuracy: 0.9565\n",
            "Epoch 57/1000\n",
            "3738/3738 [==============================] - 16s 4ms/step - loss: 0.2194 - accuracy: 0.9350 - val_loss: 0.1439 - val_accuracy: 0.9566\n",
            "Epoch 58/1000\n",
            "3738/3738 [==============================] - 17s 4ms/step - loss: 0.2150 - accuracy: 0.9361 - val_loss: 0.1420 - val_accuracy: 0.9569\n",
            "Epoch 59/1000\n",
            "3738/3738 [==============================] - 16s 4ms/step - loss: 0.2140 - accuracy: 0.9363 - val_loss: 0.1406 - val_accuracy: 0.9573\n",
            "Epoch 60/1000\n",
            "3738/3738 [==============================] - 16s 4ms/step - loss: 0.2130 - accuracy: 0.9354 - val_loss: 0.1389 - val_accuracy: 0.9579\n",
            "Epoch 61/1000\n",
            "3738/3738 [==============================] - 16s 4ms/step - loss: 0.2094 - accuracy: 0.9377 - val_loss: 0.1373 - val_accuracy: 0.9582\n",
            "Epoch 62/1000\n",
            "3738/3738 [==============================] - 16s 4ms/step - loss: 0.2074 - accuracy: 0.9384 - val_loss: 0.1363 - val_accuracy: 0.9583\n",
            "Epoch 63/1000\n",
            "3738/3738 [==============================] - 16s 4ms/step - loss: 0.2063 - accuracy: 0.9379 - val_loss: 0.1344 - val_accuracy: 0.9589\n",
            "Epoch 64/1000\n",
            "3738/3738 [==============================] - 17s 4ms/step - loss: 0.2022 - accuracy: 0.9391 - val_loss: 0.1328 - val_accuracy: 0.9591\n",
            "Epoch 65/1000\n",
            "3738/3738 [==============================] - 16s 4ms/step - loss: 0.2014 - accuracy: 0.9396 - val_loss: 0.1314 - val_accuracy: 0.9595\n",
            "Epoch 66/1000\n",
            "3738/3738 [==============================] - 15s 4ms/step - loss: 0.1994 - accuracy: 0.9402 - val_loss: 0.1300 - val_accuracy: 0.9597\n",
            "Epoch 67/1000\n",
            "3738/3738 [==============================] - 16s 4ms/step - loss: 0.1982 - accuracy: 0.9410 - val_loss: 0.1288 - val_accuracy: 0.9601\n",
            "Epoch 68/1000\n",
            "3738/3738 [==============================] - 16s 4ms/step - loss: 0.1946 - accuracy: 0.9418 - val_loss: 0.1273 - val_accuracy: 0.9604\n",
            "Epoch 69/1000\n",
            "3738/3738 [==============================] - 16s 4ms/step - loss: 0.1938 - accuracy: 0.9419 - val_loss: 0.1261 - val_accuracy: 0.9605\n",
            "Epoch 70/1000\n",
            "3738/3738 [==============================] - 16s 4ms/step - loss: 0.1921 - accuracy: 0.9425 - val_loss: 0.1249 - val_accuracy: 0.9610\n",
            "Epoch 71/1000\n",
            "3738/3738 [==============================] - 16s 4ms/step - loss: 0.1900 - accuracy: 0.9426 - val_loss: 0.1235 - val_accuracy: 0.9612\n",
            "Epoch 72/1000\n",
            "3738/3738 [==============================] - 16s 4ms/step - loss: 0.1871 - accuracy: 0.9442 - val_loss: 0.1226 - val_accuracy: 0.9613\n",
            "Epoch 73/1000\n",
            "3738/3738 [==============================] - 17s 4ms/step - loss: 0.1866 - accuracy: 0.9434 - val_loss: 0.1214 - val_accuracy: 0.9620\n",
            "Epoch 74/1000\n",
            "3738/3738 [==============================] - 16s 4ms/step - loss: 0.1845 - accuracy: 0.9450 - val_loss: 0.1204 - val_accuracy: 0.9624\n",
            "Epoch 75/1000\n",
            "3738/3738 [==============================] - 16s 4ms/step - loss: 0.1833 - accuracy: 0.9446 - val_loss: 0.1192 - val_accuracy: 0.9627\n",
            "Epoch 76/1000\n",
            "3738/3738 [==============================] - 16s 4ms/step - loss: 0.1817 - accuracy: 0.9454 - val_loss: 0.1183 - val_accuracy: 0.9630\n",
            "Epoch 77/1000\n",
            "3738/3738 [==============================] - 16s 4ms/step - loss: 0.1794 - accuracy: 0.9463 - val_loss: 0.1174 - val_accuracy: 0.9634\n",
            "Epoch 78/1000\n",
            "3738/3738 [==============================] - 16s 4ms/step - loss: 0.1784 - accuracy: 0.9465 - val_loss: 0.1161 - val_accuracy: 0.9636\n",
            "Epoch 79/1000\n",
            "3738/3738 [==============================] - 16s 4ms/step - loss: 0.1774 - accuracy: 0.9466 - val_loss: 0.1155 - val_accuracy: 0.9637\n",
            "Epoch 80/1000\n",
            "3738/3738 [==============================] - 16s 4ms/step - loss: 0.1770 - accuracy: 0.9463 - val_loss: 0.1146 - val_accuracy: 0.9639\n",
            "Epoch 81/1000\n",
            "3738/3738 [==============================] - 16s 4ms/step - loss: 0.1759 - accuracy: 0.9472 - val_loss: 0.1137 - val_accuracy: 0.9643\n",
            "Epoch 82/1000\n",
            "3738/3738 [==============================] - 16s 4ms/step - loss: 0.1738 - accuracy: 0.9475 - val_loss: 0.1125 - val_accuracy: 0.9649\n",
            "Epoch 83/1000\n",
            "3738/3738 [==============================] - 16s 4ms/step - loss: 0.1718 - accuracy: 0.9487 - val_loss: 0.1118 - val_accuracy: 0.9647\n",
            "Epoch 84/1000\n",
            "3738/3738 [==============================] - 16s 4ms/step - loss: 0.1711 - accuracy: 0.9487 - val_loss: 0.1107 - val_accuracy: 0.9655\n",
            "Epoch 85/1000\n",
            "3738/3738 [==============================] - 17s 4ms/step - loss: 0.1686 - accuracy: 0.9496 - val_loss: 0.1100 - val_accuracy: 0.9652\n",
            "Epoch 86/1000\n",
            "3738/3738 [==============================] - 16s 4ms/step - loss: 0.1681 - accuracy: 0.9495 - val_loss: 0.1092 - val_accuracy: 0.9657\n",
            "Epoch 87/1000\n",
            "3738/3738 [==============================] - 16s 4ms/step - loss: 0.1673 - accuracy: 0.9503 - val_loss: 0.1085 - val_accuracy: 0.9656\n",
            "Epoch 88/1000\n",
            "3738/3738 [==============================] - 15s 4ms/step - loss: 0.1652 - accuracy: 0.9501 - val_loss: 0.1078 - val_accuracy: 0.9659\n",
            "Epoch 89/1000\n",
            "3738/3738 [==============================] - 16s 4ms/step - loss: 0.1641 - accuracy: 0.9502 - val_loss: 0.1069 - val_accuracy: 0.9662\n",
            "Epoch 90/1000\n",
            "3738/3738 [==============================] - 16s 4ms/step - loss: 0.1639 - accuracy: 0.9502 - val_loss: 0.1062 - val_accuracy: 0.9666\n",
            "Epoch 91/1000\n",
            "3738/3738 [==============================] - 16s 4ms/step - loss: 0.1607 - accuracy: 0.9514 - val_loss: 0.1054 - val_accuracy: 0.9665\n",
            "Epoch 92/1000\n",
            "3738/3738 [==============================] - 16s 4ms/step - loss: 0.1604 - accuracy: 0.9513 - val_loss: 0.1048 - val_accuracy: 0.9670\n",
            "Epoch 93/1000\n",
            "3738/3738 [==============================] - 16s 4ms/step - loss: 0.1601 - accuracy: 0.9513 - val_loss: 0.1040 - val_accuracy: 0.9673\n",
            "Epoch 94/1000\n",
            "3738/3738 [==============================] - 16s 4ms/step - loss: 0.1597 - accuracy: 0.9518 - val_loss: 0.1034 - val_accuracy: 0.9674\n",
            "Epoch 95/1000\n",
            "3738/3738 [==============================] - 16s 4ms/step - loss: 0.1581 - accuracy: 0.9528 - val_loss: 0.1027 - val_accuracy: 0.9676\n",
            "Epoch 96/1000\n",
            "3738/3738 [==============================] - 16s 4ms/step - loss: 0.1553 - accuracy: 0.9529 - val_loss: 0.1020 - val_accuracy: 0.9679\n",
            "Epoch 97/1000\n",
            "3738/3738 [==============================] - 16s 4ms/step - loss: 0.1576 - accuracy: 0.9519 - val_loss: 0.1013 - val_accuracy: 0.9679\n",
            "Epoch 98/1000\n",
            "3738/3738 [==============================] - 16s 4ms/step - loss: 0.1569 - accuracy: 0.9521 - val_loss: 0.1008 - val_accuracy: 0.9683\n",
            "Epoch 99/1000\n",
            "3738/3738 [==============================] - 16s 4ms/step - loss: 0.1538 - accuracy: 0.9534 - val_loss: 0.1000 - val_accuracy: 0.9683\n",
            "Epoch 100/1000\n",
            "3738/3738 [==============================] - 17s 4ms/step - loss: 0.1553 - accuracy: 0.9531 - val_loss: 0.0994 - val_accuracy: 0.9685\n",
            "Epoch 101/1000\n",
            "3738/3738 [==============================] - 17s 4ms/step - loss: 0.1532 - accuracy: 0.9539 - val_loss: 0.0990 - val_accuracy: 0.9688\n",
            "Epoch 102/1000\n",
            "3738/3738 [==============================] - 16s 4ms/step - loss: 0.1529 - accuracy: 0.9539 - val_loss: 0.0983 - val_accuracy: 0.9690\n",
            "Epoch 103/1000\n",
            "3738/3738 [==============================] - 16s 4ms/step - loss: 0.1502 - accuracy: 0.9546 - val_loss: 0.0977 - val_accuracy: 0.9690\n",
            "Epoch 104/1000\n",
            "3738/3738 [==============================] - 16s 4ms/step - loss: 0.1506 - accuracy: 0.9543 - val_loss: 0.0973 - val_accuracy: 0.9692\n",
            "Epoch 105/1000\n",
            "3738/3738 [==============================] - 16s 4ms/step - loss: 0.1479 - accuracy: 0.9553 - val_loss: 0.0965 - val_accuracy: 0.9692\n",
            "Epoch 106/1000\n",
            "3738/3738 [==============================] - 16s 4ms/step - loss: 0.1491 - accuracy: 0.9547 - val_loss: 0.0960 - val_accuracy: 0.9700\n",
            "Epoch 107/1000\n",
            "3738/3738 [==============================] - 16s 4ms/step - loss: 0.1467 - accuracy: 0.9555 - val_loss: 0.0956 - val_accuracy: 0.9699\n",
            "Epoch 108/1000\n",
            "3738/3738 [==============================] - 17s 4ms/step - loss: 0.1464 - accuracy: 0.9554 - val_loss: 0.0950 - val_accuracy: 0.9701\n",
            "Epoch 109/1000\n",
            "3738/3738 [==============================] - 17s 5ms/step - loss: 0.1466 - accuracy: 0.9559 - val_loss: 0.0945 - val_accuracy: 0.9705\n",
            "Epoch 110/1000\n",
            "3738/3738 [==============================] - 16s 4ms/step - loss: 0.1452 - accuracy: 0.9561 - val_loss: 0.0943 - val_accuracy: 0.9704\n",
            "Epoch 111/1000\n",
            "3738/3738 [==============================] - 16s 4ms/step - loss: 0.1456 - accuracy: 0.9561 - val_loss: 0.0938 - val_accuracy: 0.9705\n",
            "Epoch 112/1000\n",
            "3738/3738 [==============================] - 17s 4ms/step - loss: 0.1438 - accuracy: 0.9569 - val_loss: 0.0931 - val_accuracy: 0.9709\n",
            "Epoch 113/1000\n",
            "3738/3738 [==============================] - 16s 4ms/step - loss: 0.1416 - accuracy: 0.9569 - val_loss: 0.0927 - val_accuracy: 0.9708\n",
            "Epoch 114/1000\n",
            "3738/3738 [==============================] - 16s 4ms/step - loss: 0.1436 - accuracy: 0.9558 - val_loss: 0.0922 - val_accuracy: 0.9711\n",
            "Epoch 115/1000\n",
            "3738/3738 [==============================] - 16s 4ms/step - loss: 0.1413 - accuracy: 0.9573 - val_loss: 0.0916 - val_accuracy: 0.9712\n",
            "Epoch 116/1000\n",
            "3738/3738 [==============================] - 16s 4ms/step - loss: 0.1427 - accuracy: 0.9570 - val_loss: 0.0914 - val_accuracy: 0.9711\n",
            "Epoch 117/1000\n",
            "3738/3738 [==============================] - 16s 4ms/step - loss: 0.1391 - accuracy: 0.9571 - val_loss: 0.0908 - val_accuracy: 0.9712\n",
            "Epoch 118/1000\n",
            "3738/3738 [==============================] - 16s 4ms/step - loss: 0.1381 - accuracy: 0.9576 - val_loss: 0.0903 - val_accuracy: 0.9716\n",
            "Epoch 119/1000\n",
            "3738/3738 [==============================] - 16s 4ms/step - loss: 0.1380 - accuracy: 0.9578 - val_loss: 0.0901 - val_accuracy: 0.9716\n",
            "Epoch 120/1000\n",
            "3738/3738 [==============================] - 16s 4ms/step - loss: 0.1380 - accuracy: 0.9581 - val_loss: 0.0893 - val_accuracy: 0.9719\n",
            "Epoch 121/1000\n",
            "3738/3738 [==============================] - 16s 4ms/step - loss: 0.1378 - accuracy: 0.9584 - val_loss: 0.0891 - val_accuracy: 0.9719\n",
            "Epoch 122/1000\n",
            "3738/3738 [==============================] - 16s 4ms/step - loss: 0.1385 - accuracy: 0.9579 - val_loss: 0.0886 - val_accuracy: 0.9721\n",
            "Epoch 123/1000\n",
            "3738/3738 [==============================] - 16s 4ms/step - loss: 0.1354 - accuracy: 0.9595 - val_loss: 0.0881 - val_accuracy: 0.9722\n",
            "Epoch 124/1000\n",
            "3738/3738 [==============================] - 16s 4ms/step - loss: 0.1358 - accuracy: 0.9589 - val_loss: 0.0878 - val_accuracy: 0.9725\n",
            "Epoch 125/1000\n",
            "3738/3738 [==============================] - 16s 4ms/step - loss: 0.1354 - accuracy: 0.9595 - val_loss: 0.0875 - val_accuracy: 0.9722\n",
            "Epoch 126/1000\n",
            "3738/3738 [==============================] - 16s 4ms/step - loss: 0.1355 - accuracy: 0.9593 - val_loss: 0.0873 - val_accuracy: 0.9726\n",
            "Epoch 127/1000\n",
            "3738/3738 [==============================] - 15s 4ms/step - loss: 0.1342 - accuracy: 0.9592 - val_loss: 0.0867 - val_accuracy: 0.9729\n",
            "Epoch 128/1000\n",
            "3738/3738 [==============================] - 16s 4ms/step - loss: 0.1333 - accuracy: 0.9593 - val_loss: 0.0865 - val_accuracy: 0.9728\n",
            "Epoch 129/1000\n",
            "3738/3738 [==============================] - 16s 4ms/step - loss: 0.1338 - accuracy: 0.9593 - val_loss: 0.0858 - val_accuracy: 0.9731\n",
            "Epoch 130/1000\n",
            "3738/3738 [==============================] - 16s 4ms/step - loss: 0.1346 - accuracy: 0.9593 - val_loss: 0.0855 - val_accuracy: 0.9735\n",
            "Epoch 131/1000\n",
            "3738/3738 [==============================] - 16s 4ms/step - loss: 0.1307 - accuracy: 0.9604 - val_loss: 0.0852 - val_accuracy: 0.9737\n",
            "Epoch 132/1000\n",
            "3738/3738 [==============================] - 16s 4ms/step - loss: 0.1305 - accuracy: 0.9602 - val_loss: 0.0851 - val_accuracy: 0.9733\n",
            "Epoch 133/1000\n",
            "3738/3738 [==============================] - 16s 4ms/step - loss: 0.1297 - accuracy: 0.9606 - val_loss: 0.0845 - val_accuracy: 0.9738\n",
            "Epoch 134/1000\n",
            "3738/3738 [==============================] - 16s 4ms/step - loss: 0.1293 - accuracy: 0.9606 - val_loss: 0.0845 - val_accuracy: 0.9738\n",
            "Epoch 135/1000\n",
            "3738/3738 [==============================] - 15s 4ms/step - loss: 0.1306 - accuracy: 0.9599 - val_loss: 0.0840 - val_accuracy: 0.9742\n",
            "Epoch 136/1000\n",
            "3738/3738 [==============================] - 16s 4ms/step - loss: 0.1290 - accuracy: 0.9603 - val_loss: 0.0835 - val_accuracy: 0.9745\n",
            "Epoch 137/1000\n",
            "3738/3738 [==============================] - 16s 4ms/step - loss: 0.1279 - accuracy: 0.9611 - val_loss: 0.0833 - val_accuracy: 0.9745\n",
            "Epoch 138/1000\n",
            "3738/3738 [==============================] - 16s 4ms/step - loss: 0.1287 - accuracy: 0.9611 - val_loss: 0.0831 - val_accuracy: 0.9746\n",
            "Epoch 139/1000\n",
            "3738/3738 [==============================] - 16s 4ms/step - loss: 0.1266 - accuracy: 0.9614 - val_loss: 0.0825 - val_accuracy: 0.9746\n",
            "Epoch 140/1000\n",
            "3738/3738 [==============================] - 16s 4ms/step - loss: 0.1276 - accuracy: 0.9612 - val_loss: 0.0823 - val_accuracy: 0.9746\n",
            "Epoch 141/1000\n",
            "3738/3738 [==============================] - 16s 4ms/step - loss: 0.1271 - accuracy: 0.9613 - val_loss: 0.0819 - val_accuracy: 0.9750\n",
            "Epoch 142/1000\n",
            "3738/3738 [==============================] - 16s 4ms/step - loss: 0.1269 - accuracy: 0.9620 - val_loss: 0.0817 - val_accuracy: 0.9753\n",
            "Epoch 143/1000\n",
            "3738/3738 [==============================] - 16s 4ms/step - loss: 0.1266 - accuracy: 0.9613 - val_loss: 0.0812 - val_accuracy: 0.9754\n",
            "Epoch 144/1000\n",
            "3738/3738 [==============================] - 16s 4ms/step - loss: 0.1251 - accuracy: 0.9620 - val_loss: 0.0808 - val_accuracy: 0.9752\n",
            "Epoch 145/1000\n",
            "3738/3738 [==============================] - 16s 4ms/step - loss: 0.1243 - accuracy: 0.9623 - val_loss: 0.0808 - val_accuracy: 0.9755\n",
            "Epoch 146/1000\n",
            "3738/3738 [==============================] - 16s 4ms/step - loss: 0.1240 - accuracy: 0.9620 - val_loss: 0.0802 - val_accuracy: 0.9757\n",
            "Epoch 147/1000\n",
            "3738/3738 [==============================] - 16s 4ms/step - loss: 0.1241 - accuracy: 0.9624 - val_loss: 0.0800 - val_accuracy: 0.9757\n",
            "Epoch 148/1000\n",
            "3738/3738 [==============================] - 17s 4ms/step - loss: 0.1241 - accuracy: 0.9631 - val_loss: 0.0797 - val_accuracy: 0.9755\n",
            "Epoch 149/1000\n",
            "3738/3738 [==============================] - 16s 4ms/step - loss: 0.1237 - accuracy: 0.9626 - val_loss: 0.0793 - val_accuracy: 0.9760\n",
            "Epoch 150/1000\n",
            "3738/3738 [==============================] - 16s 4ms/step - loss: 0.1225 - accuracy: 0.9634 - val_loss: 0.0792 - val_accuracy: 0.9762\n",
            "Epoch 151/1000\n",
            "3738/3738 [==============================] - 16s 4ms/step - loss: 0.1228 - accuracy: 0.9628 - val_loss: 0.0789 - val_accuracy: 0.9765\n",
            "Epoch 152/1000\n",
            "3738/3738 [==============================] - 16s 4ms/step - loss: 0.1217 - accuracy: 0.9625 - val_loss: 0.0788 - val_accuracy: 0.9764\n",
            "Epoch 153/1000\n",
            "3738/3738 [==============================] - 16s 4ms/step - loss: 0.1211 - accuracy: 0.9632 - val_loss: 0.0785 - val_accuracy: 0.9765\n",
            "Epoch 154/1000\n",
            "3738/3738 [==============================] - 16s 4ms/step - loss: 0.1212 - accuracy: 0.9631 - val_loss: 0.0782 - val_accuracy: 0.9766\n",
            "Epoch 155/1000\n",
            "3738/3738 [==============================] - 16s 4ms/step - loss: 0.1203 - accuracy: 0.9631 - val_loss: 0.0779 - val_accuracy: 0.9768\n",
            "Epoch 156/1000\n",
            "3738/3738 [==============================] - 16s 4ms/step - loss: 0.1205 - accuracy: 0.9639 - val_loss: 0.0774 - val_accuracy: 0.9768\n",
            "Epoch 157/1000\n",
            "3738/3738 [==============================] - 15s 4ms/step - loss: 0.1200 - accuracy: 0.9637 - val_loss: 0.0772 - val_accuracy: 0.9768\n",
            "Epoch 158/1000\n",
            "3738/3738 [==============================] - 16s 4ms/step - loss: 0.1195 - accuracy: 0.9638 - val_loss: 0.0769 - val_accuracy: 0.9772\n",
            "Epoch 159/1000\n",
            "3738/3738 [==============================] - 16s 4ms/step - loss: 0.1175 - accuracy: 0.9642 - val_loss: 0.0768 - val_accuracy: 0.9769\n",
            "Epoch 160/1000\n",
            "3738/3738 [==============================] - 16s 4ms/step - loss: 0.1174 - accuracy: 0.9645 - val_loss: 0.0766 - val_accuracy: 0.9771\n",
            "Epoch 161/1000\n",
            "3738/3738 [==============================] - 16s 4ms/step - loss: 0.1184 - accuracy: 0.9637 - val_loss: 0.0763 - val_accuracy: 0.9771\n",
            "Epoch 162/1000\n",
            "3738/3738 [==============================] - 16s 4ms/step - loss: 0.1169 - accuracy: 0.9648 - val_loss: 0.0762 - val_accuracy: 0.9773\n",
            "Epoch 163/1000\n",
            "3738/3738 [==============================] - 16s 4ms/step - loss: 0.1187 - accuracy: 0.9638 - val_loss: 0.0759 - val_accuracy: 0.9772\n",
            "Epoch 164/1000\n",
            "3738/3738 [==============================] - 16s 4ms/step - loss: 0.1164 - accuracy: 0.9646 - val_loss: 0.0755 - val_accuracy: 0.9773\n",
            "Epoch 165/1000\n",
            "3738/3738 [==============================] - 16s 4ms/step - loss: 0.1166 - accuracy: 0.9642 - val_loss: 0.0754 - val_accuracy: 0.9774\n",
            "Epoch 166/1000\n",
            "3738/3738 [==============================] - 16s 4ms/step - loss: 0.1163 - accuracy: 0.9647 - val_loss: 0.0751 - val_accuracy: 0.9778\n",
            "Epoch 167/1000\n",
            "3738/3738 [==============================] - 16s 4ms/step - loss: 0.1164 - accuracy: 0.9645 - val_loss: 0.0748 - val_accuracy: 0.9777\n",
            "Epoch 168/1000\n",
            "3738/3738 [==============================] - 16s 4ms/step - loss: 0.1140 - accuracy: 0.9651 - val_loss: 0.0746 - val_accuracy: 0.9778\n",
            "Epoch 169/1000\n",
            "3738/3738 [==============================] - 17s 5ms/step - loss: 0.1150 - accuracy: 0.9650 - val_loss: 0.0744 - val_accuracy: 0.9778\n",
            "Epoch 170/1000\n",
            "3738/3738 [==============================] - 16s 4ms/step - loss: 0.1150 - accuracy: 0.9647 - val_loss: 0.0741 - val_accuracy: 0.9780\n",
            "Epoch 171/1000\n",
            "3738/3738 [==============================] - 17s 4ms/step - loss: 0.1141 - accuracy: 0.9654 - val_loss: 0.0738 - val_accuracy: 0.9780\n",
            "Epoch 172/1000\n",
            "3738/3738 [==============================] - 16s 4ms/step - loss: 0.1150 - accuracy: 0.9651 - val_loss: 0.0735 - val_accuracy: 0.9780\n",
            "Epoch 173/1000\n",
            "3738/3738 [==============================] - 16s 4ms/step - loss: 0.1154 - accuracy: 0.9653 - val_loss: 0.0736 - val_accuracy: 0.9783\n",
            "Epoch 174/1000\n",
            "3738/3738 [==============================] - 16s 4ms/step - loss: 0.1135 - accuracy: 0.9655 - val_loss: 0.0732 - val_accuracy: 0.9781\n",
            "Epoch 175/1000\n",
            "3738/3738 [==============================] - 16s 4ms/step - loss: 0.1133 - accuracy: 0.9661 - val_loss: 0.0731 - val_accuracy: 0.9782\n",
            "Epoch 176/1000\n",
            "3738/3738 [==============================] - 16s 4ms/step - loss: 0.1134 - accuracy: 0.9657 - val_loss: 0.0728 - val_accuracy: 0.9781\n",
            "Epoch 177/1000\n",
            "3738/3738 [==============================] - 16s 4ms/step - loss: 0.1126 - accuracy: 0.9656 - val_loss: 0.0726 - val_accuracy: 0.9783\n",
            "Epoch 178/1000\n",
            "3738/3738 [==============================] - 17s 4ms/step - loss: 0.1131 - accuracy: 0.9655 - val_loss: 0.0724 - val_accuracy: 0.9783\n",
            "Epoch 179/1000\n",
            "3738/3738 [==============================] - 16s 4ms/step - loss: 0.1113 - accuracy: 0.9662 - val_loss: 0.0722 - val_accuracy: 0.9785\n",
            "Epoch 180/1000\n",
            "3738/3738 [==============================] - 16s 4ms/step - loss: 0.1131 - accuracy: 0.9659 - val_loss: 0.0719 - val_accuracy: 0.9786\n",
            "Epoch 181/1000\n",
            "3738/3738 [==============================] - 16s 4ms/step - loss: 0.1115 - accuracy: 0.9658 - val_loss: 0.0717 - val_accuracy: 0.9785\n",
            "Epoch 182/1000\n",
            "3738/3738 [==============================] - 16s 4ms/step - loss: 0.1105 - accuracy: 0.9663 - val_loss: 0.0716 - val_accuracy: 0.9787\n",
            "Epoch 183/1000\n",
            "3738/3738 [==============================] - 16s 4ms/step - loss: 0.1121 - accuracy: 0.9654 - val_loss: 0.0713 - val_accuracy: 0.9787\n",
            "Epoch 184/1000\n",
            "3738/3738 [==============================] - 16s 4ms/step - loss: 0.1104 - accuracy: 0.9662 - val_loss: 0.0711 - val_accuracy: 0.9789\n",
            "Epoch 185/1000\n",
            "3738/3738 [==============================] - 16s 4ms/step - loss: 0.1087 - accuracy: 0.9672 - val_loss: 0.0710 - val_accuracy: 0.9789\n",
            "Epoch 186/1000\n",
            "3738/3738 [==============================] - 17s 4ms/step - loss: 0.1110 - accuracy: 0.9660 - val_loss: 0.0710 - val_accuracy: 0.9788\n",
            "Epoch 187/1000\n",
            "3738/3738 [==============================] - 16s 4ms/step - loss: 0.1095 - accuracy: 0.9662 - val_loss: 0.0704 - val_accuracy: 0.9791\n",
            "Epoch 188/1000\n",
            "3738/3738 [==============================] - 16s 4ms/step - loss: 0.1087 - accuracy: 0.9675 - val_loss: 0.0705 - val_accuracy: 0.9792\n",
            "Epoch 189/1000\n",
            "3738/3738 [==============================] - 16s 4ms/step - loss: 0.1092 - accuracy: 0.9672 - val_loss: 0.0702 - val_accuracy: 0.9792\n",
            "Epoch 190/1000\n",
            "3738/3738 [==============================] - 16s 4ms/step - loss: 0.1092 - accuracy: 0.9673 - val_loss: 0.0700 - val_accuracy: 0.9793\n",
            "Epoch 191/1000\n",
            "3738/3738 [==============================] - 16s 4ms/step - loss: 0.1091 - accuracy: 0.9670 - val_loss: 0.0699 - val_accuracy: 0.9794\n",
            "Epoch 192/1000\n",
            "3738/3738 [==============================] - 16s 4ms/step - loss: 0.1091 - accuracy: 0.9669 - val_loss: 0.0697 - val_accuracy: 0.9793\n",
            "Epoch 193/1000\n",
            "3738/3738 [==============================] - 16s 4ms/step - loss: 0.1085 - accuracy: 0.9674 - val_loss: 0.0694 - val_accuracy: 0.9794\n",
            "Epoch 194/1000\n",
            "3738/3738 [==============================] - 16s 4ms/step - loss: 0.1064 - accuracy: 0.9678 - val_loss: 0.0693 - val_accuracy: 0.9795\n",
            "Epoch 195/1000\n",
            "3738/3738 [==============================] - 16s 4ms/step - loss: 0.1071 - accuracy: 0.9673 - val_loss: 0.0692 - val_accuracy: 0.9794\n",
            "Epoch 196/1000\n",
            "3738/3738 [==============================] - 16s 4ms/step - loss: 0.1065 - accuracy: 0.9675 - val_loss: 0.0689 - val_accuracy: 0.9794\n",
            "Epoch 197/1000\n",
            "3738/3738 [==============================] - 16s 4ms/step - loss: 0.1065 - accuracy: 0.9679 - val_loss: 0.0688 - val_accuracy: 0.9797\n",
            "Epoch 198/1000\n",
            "3738/3738 [==============================] - 16s 4ms/step - loss: 0.1055 - accuracy: 0.9682 - val_loss: 0.0688 - val_accuracy: 0.9798\n",
            "Epoch 199/1000\n",
            "3738/3738 [==============================] - 16s 4ms/step - loss: 0.1074 - accuracy: 0.9675 - val_loss: 0.0686 - val_accuracy: 0.9797\n",
            "Epoch 200/1000\n",
            "3738/3738 [==============================] - 16s 4ms/step - loss: 0.1069 - accuracy: 0.9676 - val_loss: 0.0684 - val_accuracy: 0.9797\n",
            "Epoch 201/1000\n",
            "3738/3738 [==============================] - 16s 4ms/step - loss: 0.1057 - accuracy: 0.9680 - val_loss: 0.0681 - val_accuracy: 0.9800\n",
            "Epoch 202/1000\n",
            "3738/3738 [==============================] - 16s 4ms/step - loss: 0.1059 - accuracy: 0.9676 - val_loss: 0.0680 - val_accuracy: 0.9801\n",
            "Epoch 203/1000\n",
            "3738/3738 [==============================] - 17s 4ms/step - loss: 0.1052 - accuracy: 0.9679 - val_loss: 0.0678 - val_accuracy: 0.9801\n",
            "Epoch 204/1000\n",
            "3738/3738 [==============================] - 16s 4ms/step - loss: 0.1046 - accuracy: 0.9686 - val_loss: 0.0677 - val_accuracy: 0.9802\n",
            "Epoch 205/1000\n",
            "3738/3738 [==============================] - 16s 4ms/step - loss: 0.1043 - accuracy: 0.9687 - val_loss: 0.0674 - val_accuracy: 0.9801\n",
            "Epoch 206/1000\n",
            "3738/3738 [==============================] - 16s 4ms/step - loss: 0.1038 - accuracy: 0.9688 - val_loss: 0.0673 - val_accuracy: 0.9801\n",
            "Epoch 207/1000\n",
            "3738/3738 [==============================] - 16s 4ms/step - loss: 0.1036 - accuracy: 0.9684 - val_loss: 0.0670 - val_accuracy: 0.9801\n",
            "Epoch 208/1000\n",
            "3738/3738 [==============================] - 15s 4ms/step - loss: 0.1051 - accuracy: 0.9680 - val_loss: 0.0668 - val_accuracy: 0.9803\n",
            "Epoch 209/1000\n",
            "3738/3738 [==============================] - 17s 4ms/step - loss: 0.1033 - accuracy: 0.9684 - val_loss: 0.0666 - val_accuracy: 0.9804\n",
            "Epoch 210/1000\n",
            "3738/3738 [==============================] - 16s 4ms/step - loss: 0.1043 - accuracy: 0.9682 - val_loss: 0.0666 - val_accuracy: 0.9806\n",
            "Epoch 211/1000\n",
            "3738/3738 [==============================] - 16s 4ms/step - loss: 0.1025 - accuracy: 0.9688 - val_loss: 0.0665 - val_accuracy: 0.9806\n",
            "Epoch 212/1000\n",
            "3738/3738 [==============================] - 16s 4ms/step - loss: 0.1039 - accuracy: 0.9689 - val_loss: 0.0664 - val_accuracy: 0.9802\n",
            "Epoch 213/1000\n",
            "3738/3738 [==============================] - 16s 4ms/step - loss: 0.1021 - accuracy: 0.9687 - val_loss: 0.0662 - val_accuracy: 0.9808\n",
            "Epoch 214/1000\n",
            "3738/3738 [==============================] - 16s 4ms/step - loss: 0.1029 - accuracy: 0.9683 - val_loss: 0.0660 - val_accuracy: 0.9807\n",
            "Epoch 215/1000\n",
            "3738/3738 [==============================] - 16s 4ms/step - loss: 0.1017 - accuracy: 0.9693 - val_loss: 0.0660 - val_accuracy: 0.9810\n",
            "Epoch 216/1000\n",
            "3738/3738 [==============================] - 16s 4ms/step - loss: 0.1016 - accuracy: 0.9689 - val_loss: 0.0657 - val_accuracy: 0.9810\n",
            "Epoch 217/1000\n",
            "3738/3738 [==============================] - 16s 4ms/step - loss: 0.1021 - accuracy: 0.9690 - val_loss: 0.0654 - val_accuracy: 0.9807\n",
            "Epoch 218/1000\n",
            "3738/3738 [==============================] - 16s 4ms/step - loss: 0.1010 - accuracy: 0.9696 - val_loss: 0.0654 - val_accuracy: 0.9808\n",
            "Epoch 219/1000\n",
            "3738/3738 [==============================] - 16s 4ms/step - loss: 0.1015 - accuracy: 0.9692 - val_loss: 0.0654 - val_accuracy: 0.9807\n",
            "Epoch 220/1000\n",
            "3738/3738 [==============================] - 16s 4ms/step - loss: 0.1013 - accuracy: 0.9697 - val_loss: 0.0652 - val_accuracy: 0.9809\n",
            "Epoch 221/1000\n",
            "3738/3738 [==============================] - 16s 4ms/step - loss: 0.1022 - accuracy: 0.9695 - val_loss: 0.0651 - val_accuracy: 0.9810\n",
            "Epoch 222/1000\n",
            "3738/3738 [==============================] - 16s 4ms/step - loss: 0.1008 - accuracy: 0.9692 - val_loss: 0.0649 - val_accuracy: 0.9812\n",
            "Epoch 223/1000\n",
            "3738/3738 [==============================] - 16s 4ms/step - loss: 0.1008 - accuracy: 0.9689 - val_loss: 0.0647 - val_accuracy: 0.9811\n",
            "Epoch 224/1000\n",
            "3738/3738 [==============================] - 17s 4ms/step - loss: 0.1004 - accuracy: 0.9693 - val_loss: 0.0645 - val_accuracy: 0.9811\n",
            "Epoch 225/1000\n",
            "3738/3738 [==============================] - 16s 4ms/step - loss: 0.1002 - accuracy: 0.9695 - val_loss: 0.0645 - val_accuracy: 0.9812\n",
            "Epoch 226/1000\n",
            "3738/3738 [==============================] - 16s 4ms/step - loss: 0.1017 - accuracy: 0.9690 - val_loss: 0.0644 - val_accuracy: 0.9813\n",
            "Epoch 227/1000\n",
            "3738/3738 [==============================] - 16s 4ms/step - loss: 0.1007 - accuracy: 0.9698 - val_loss: 0.0643 - val_accuracy: 0.9814\n",
            "Epoch 228/1000\n",
            "3738/3738 [==============================] - 17s 5ms/step - loss: 0.0999 - accuracy: 0.9701 - val_loss: 0.0641 - val_accuracy: 0.9814\n",
            "Epoch 229/1000\n",
            "3738/3738 [==============================] - 16s 4ms/step - loss: 0.0983 - accuracy: 0.9701 - val_loss: 0.0639 - val_accuracy: 0.9812\n",
            "Epoch 230/1000\n",
            "3738/3738 [==============================] - 16s 4ms/step - loss: 0.0989 - accuracy: 0.9697 - val_loss: 0.0640 - val_accuracy: 0.9815\n",
            "Epoch 231/1000\n",
            "3738/3738 [==============================] - 16s 4ms/step - loss: 0.1001 - accuracy: 0.9695 - val_loss: 0.0638 - val_accuracy: 0.9814\n",
            "Epoch 232/1000\n",
            "3738/3738 [==============================] - 16s 4ms/step - loss: 0.0987 - accuracy: 0.9702 - val_loss: 0.0636 - val_accuracy: 0.9816\n",
            "Epoch 233/1000\n",
            "3738/3738 [==============================] - 16s 4ms/step - loss: 0.0990 - accuracy: 0.9701 - val_loss: 0.0634 - val_accuracy: 0.9816\n",
            "Epoch 234/1000\n",
            "3738/3738 [==============================] - 16s 4ms/step - loss: 0.0977 - accuracy: 0.9700 - val_loss: 0.0631 - val_accuracy: 0.9816\n",
            "Epoch 235/1000\n",
            "3738/3738 [==============================] - 16s 4ms/step - loss: 0.0985 - accuracy: 0.9697 - val_loss: 0.0631 - val_accuracy: 0.9814\n",
            "Epoch 236/1000\n",
            "3738/3738 [==============================] - 15s 4ms/step - loss: 0.0991 - accuracy: 0.9697 - val_loss: 0.0630 - val_accuracy: 0.9815\n",
            "Epoch 237/1000\n",
            "3738/3738 [==============================] - 16s 4ms/step - loss: 0.0971 - accuracy: 0.9704 - val_loss: 0.0627 - val_accuracy: 0.9815\n",
            "Epoch 238/1000\n",
            "3738/3738 [==============================] - 16s 4ms/step - loss: 0.0979 - accuracy: 0.9700 - val_loss: 0.0629 - val_accuracy: 0.9818\n",
            "Epoch 239/1000\n",
            "3738/3738 [==============================] - 16s 4ms/step - loss: 0.0971 - accuracy: 0.9701 - val_loss: 0.0628 - val_accuracy: 0.9818\n"
          ],
          "name": "stdout"
        },
        {
          "output_type": "execute_result",
          "data": {
            "text/plain": [
              "<tensorflow.python.keras.callbacks.History at 0x7f70df318630>"
            ]
          },
          "metadata": {
            "tags": []
          },
          "execution_count": 47
        }
      ]
    },
    {
      "cell_type": "code",
      "metadata": {
        "id": "nya0oZgdDOhQ",
        "colab_type": "code",
        "colab": {}
      },
      "source": [
        "model=load_model('/content/drive/My Drive/Data_soduku/Digit_Model_34.h5')"
      ],
      "execution_count": null,
      "outputs": []
    },
    {
      "cell_type": "code",
      "metadata": {
        "colab_type": "code",
        "id": "rvfFpldgWTMk",
        "colab": {}
      },
      "source": [
        "metrics = pd.DataFrame(model.history.history)"
      ],
      "execution_count": null,
      "outputs": []
    },
    {
      "cell_type": "code",
      "metadata": {
        "colab_type": "code",
        "id": "LNdrg_4gU25u",
        "colab": {
          "base_uri": "https://localhost:8080/",
          "height": 282
        },
        "outputId": "a693d0cb-4620-4487-f37b-a4dcf13d67c8"
      },
      "source": [
        "metrics[['loss','val_loss']].plot()"
      ],
      "execution_count": null,
      "outputs": [
        {
          "output_type": "execute_result",
          "data": {
            "text/plain": [
              "<matplotlib.axes._subplots.AxesSubplot at 0x7f70dfd25940>"
            ]
          },
          "metadata": {
            "tags": []
          },
          "execution_count": 49
        },
        {
          "output_type": "display_data",
          "data": {
            "image/png": "[encoded data removed]",
            "text/plain": [
              "<Figure size 432x288 with 1 Axes>"
            ]
          },
          "metadata": {
            "tags": [],
            "needs_background": "light"
          }
        }
      ]
    },
    {
      "cell_type": "code",
      "metadata": {
        "colab_type": "code",
        "id": "0CntQtJ0U8dO",
        "colab": {}
      },
      "source": [
        "model.save(\"/content/drive/My Drive/Data_soduku/Digit_Model_P21.h5\")"
      ],
      "execution_count": null,
      "outputs": []
    },
    {
      "cell_type": "code",
      "metadata": {
        "colab_type": "code",
        "id": "eUqrSX49xNkn",
        "colab": {}
      },
      "source": [
        "import matplotlib.pyplot as plt"
      ],
      "execution_count": null,
      "outputs": []
    },
    {
      "cell_type": "code",
      "metadata": {
        "colab_type": "code",
        "id": "1ahVXrsUU_B5",
        "colab": {
          "base_uri": "https://localhost:8080/",
          "height": 349
        },
        "outputId": "6d4220d0-4b70-4d0f-a73e-ff75746e45ce"
      },
      "source": [
        "test_images = X_test[170:174]\n",
        "test_images = test_images.reshape(test_images.shape[0], 28, 28)\n",
        "print (\"Test images shape: {}\".format(test_images.shape))\n",
        "for i, test_image in enumerate(test_images, start=1):\n",
        "    org_image = test_image\n",
        "    test_image = test_image.reshape(1,28,28,1)\n",
        "    prediction = model.predict_classes(test_image, verbose=0)\n",
        "    print (\"Predicted digit: {}\".format(prediction[0]))\n",
        "    plt.subplot(220+i)\n",
        "    plt.axis('off')\n",
        "    plt.title(\"Predicted digit: {}\".format(prediction[0]))\n",
        "    plt.imshow(org_image, cmap=plt.get_cmap('gray'))\n",
        "plt.show()"
      ],
      "execution_count": null,
      "outputs": [
        {
          "output_type": "stream",
          "text": [
            "Test images shape: (4, 28, 28)\n",
            "Predicted digit: 7\n",
            "Predicted digit: 4\n",
            "Predicted digit: 7\n",
            "Predicted digit: 4\n"
          ],
          "name": "stdout"
        },
        {
          "output_type": "display_data",
          "data": {
            "image/png": "[encoded data removed]",
            "text/plain": [
              "<Figure size 432x288 with 4 Axes>"
            ]
          },
          "metadata": {
            "tags": [],
            "needs_background": "light"
          }
        }
      ]
    },
    {
      "cell_type": "code",
      "metadata": {
        "id": "mIKvbu0mN2f2",
        "colab_type": "code",
        "colab": {}
      },
      "source": [
        "import os\n",
        "import cv2\n",
        "import numpy as np\n",
        "from tensorflow.keras.models import load_model"
      ],
      "execution_count": null,
      "outputs": []
    },
    {
      "cell_type": "code",
      "metadata": {
        "id": "rzA2W6MmN2lQ",
        "colab_type": "code",
        "colab": {}
      },
      "source": [
        "new_model=load_model('/content/drive/My Drive/Data_soduku/Digit_Model_P21.h5')"
      ],
      "execution_count": null,
      "outputs": []
    },
    {
      "cell_type": "code",
      "metadata": {
        "id": "y-WZv4-jN2rn",
        "colab_type": "code",
        "colab": {}
      },
      "source": [
        "images_dir='/content/drive/My Drive/Data_soduku/Digits1/'"
      ],
      "execution_count": null,
      "outputs": []
    },
    {
      "cell_type": "code",
      "metadata": {
        "id": "IxeY1u3tN2xY",
        "colab_type": "code",
        "colab": {}
      },
      "source": [
        "images=os.listdir(images_dir)"
      ],
      "execution_count": null,
      "outputs": []
    },
    {
      "cell_type": "code",
      "metadata": {
        "id": "1oq9tRsYN225",
        "colab_type": "code",
        "colab": {
          "base_uri": "https://localhost:8080/",
          "height": 170
        },
        "outputId": "a71e2ce3-a268-4126-a583-5083c46b99f6"
      },
      "source": [
        "predict_grid= np.zeros((9,9))\n",
        "\n",
        "for image in images:\n",
        "    imagec=image.split(\".\")[0][5:7]\n",
        "    (x,y)=(int(imagec[0]),int(imagec[1]))\n",
        "    my_image=cv2.imread(images_dir+image,0)\n",
        "    #print(images_dir+image)\n",
        "    my_image=cv2.resize(my_image,(28,28))\n",
        "    my_image=np.array(my_image)\n",
        "    my_image=my_image\n",
        "    my_image=my_image/255\n",
        "    my_image = np.expand_dims(my_image, axis=0)\n",
        "    my_image = np.expand_dims(my_image, axis=0)\n",
        "    my_image=my_image.reshape(1,28,28,1)\n",
        "    predict_grid[x][y] = new_model.predict_classes(my_image, verbose=0)[0]\n",
        "    \n",
        "    #org_img=cv2.imread(images_dir+image,1)\n",
        "\n",
        "print(predict_grid)"
      ],
      "execution_count": null,
      "outputs": [
        {
          "output_type": "stream",
          "text": [
            "[[0. 0. 5. 0. 5. 7. 5. 0. 7.]\n",
            " [3. 0. 0. 0. 5. 0. 0. 7. 9.]\n",
            " [5. 0. 0. 0. 6. 5. 0. 0. 0.]\n",
            " [0. 5. 0. 0. 0. 5. 0. 6. 8.]\n",
            " [0. 6. 0. 3. 4. 0. 6. 0. 0.]\n",
            " [4. 0. 2. 0. 0. 0. 0. 0. 0.]\n",
            " [0. 3. 4. 0. 0. 0. 1. 0. 0.]\n",
            " [8. 0. 0. 9. 0. 0. 0. 9. 1.]\n",
            " [0. 1. 1. 2. 1. 1. 2. 2. 9.]]\n"
          ],
          "name": "stdout"
        }
      ]
    },
    {
      "cell_type": "code",
      "metadata": {
        "colab_type": "code",
        "id": "WxY4JdHuzPxZ",
        "colab": {}
      },
      "source": [
        ""
      ],
      "execution_count": null,
      "outputs": []
    }
  ]
}