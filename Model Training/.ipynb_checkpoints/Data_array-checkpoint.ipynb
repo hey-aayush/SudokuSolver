{
 "cells": [
  {
   "cell_type": "code",
   "execution_count": 2,
   "metadata": {
    "colab": {},
    "colab_type": "code",
    "id": "5j-vjSQyTFZb"
   },
   "outputs": [],
   "source": [
    "import os\n",
    "import cv2\n",
    "import random\n",
    "import numpy as np\n",
    "import pandas as pd\n",
    "from sklearn.model_selection import train_test_split"
   ]
  },
  {
   "cell_type": "code",
   "execution_count": 3,
   "metadata": {
    "colab": {},
    "colab_type": "code",
    "id": "dWlfN1uxTN5s"
   },
   "outputs": [],
   "source": [
    "images=[]\n",
    "labels=[]\n",
    "X_train=[]\n",
    "Y_train=[]\n",
    "X_test=[]\n",
    "Y_test=[]"
   ]
  },
  {
   "cell_type": "code",
   "execution_count": 4,
   "metadata": {},
   "outputs": [],
   "source": [
    "data_dir = '/home/aayush/SudokuSolver/Data/MNISTDATA/'"
   ]
  },
  {
   "cell_type": "code",
   "execution_count": 5,
   "metadata": {},
   "outputs": [],
   "source": [
    "image_size=(28,28)"
   ]
  },
  {
   "cell_type": "code",
   "execution_count": 6,
   "metadata": {
    "colab": {
     "base_uri": "https://localhost:8080/",
     "height": 1000
    },
    "colab_type": "code",
    "id": "ervtSfj_TPrj",
    "outputId": "33be4ac2-4dc4-4942-eb83-0edc899e6944"
   },
   "outputs": [
    {
     "name": "stdout",
     "output_type": "stream",
     "text": [
      "Total images Scanned : 1000\n",
      "Total images Scanned : 2000\n",
      "Total images Scanned : 3000\n",
      "Total images Scanned : 4000\n",
      "Total images Scanned : 5000\n",
      "Total images Scanned : 6000\n",
      "Total images Scanned : 7000\n",
      "Total images Scanned : 8000\n",
      "Total images Scanned : 9000\n",
      "Total images Scanned : 10000\n",
      "Total images Scanned : 11000\n",
      "Total images Scanned : 12000\n",
      "Total images Scanned : 13000\n",
      "Total images Scanned : 14000\n",
      "Total images Scanned : 15000\n",
      "Total images Scanned : 16000\n",
      "Total images Scanned : 17000\n",
      "Total images Scanned : 18000\n",
      "Total images Scanned : 19000\n",
      "Total images Scanned : 20000\n",
      "Total images Scanned : 21000\n",
      "Total images Scanned : 22000\n",
      "Total images Scanned : 23000\n",
      "Total images Scanned : 24000\n",
      "Total images Scanned : 25000\n",
      "Total images Scanned : 26000\n",
      "Total images Scanned : 27000\n",
      "Total images Scanned : 28000\n",
      "Total images Scanned : 29000\n",
      "Total images Scanned : 30000\n",
      "Total images Scanned : 31000\n",
      "Total images Scanned : 32000\n",
      "Total images Scanned : 33000\n",
      "Total images Scanned : 34000\n",
      "Total images Scanned : 35000\n",
      "Total images Scanned : 36000\n",
      "Total images Scanned : 37000\n",
      "Total images Scanned : 38000\n",
      "Total images Scanned : 39000\n",
      "Total images Scanned : 40000\n",
      "Total images Scanned : 41000\n",
      "Total images Scanned : 42000\n",
      "Total images Scanned : 43000\n",
      "Total images Scanned : 44000\n",
      "Total images Scanned : 45000\n",
      "Total images Scanned : 46000\n",
      "Total images Scanned : 47000\n",
      "Total images Scanned : 48000\n",
      "Total images Scanned : 49000\n",
      "Total images Scanned : 50000\n",
      "Total images Scanned : 51000\n",
      "Total images Scanned : 52000\n",
      "Total images Scanned : 53000\n",
      "Total images Scanned : 54000\n",
      "Total images Scanned : 55000\n",
      "Total images Scanned : 56000\n",
      "Total images Scanned : 57000\n",
      "Total images Scanned : 58000\n",
      "Total images Scanned : 59000\n",
      "Total images Scanned : 60000\n",
      "Total images Scanned : 61000\n",
      "Total images Scanned : 62000\n",
      "Total images Scanned : 63000\n",
      "Total images Scanned : 64000\n",
      "Total images Scanned : 65000\n",
      "Total images Scanned : 66000\n",
      "Total images Scanned : 67000\n",
      "Total images Scanned : 68000\n",
      "Total images Scanned : 69000\n",
      "Total images Scanned : 70000\n"
     ]
    }
   ],
   "source": [
    "counter=0\n",
    "for digitn in os.listdir(data_dir):\n",
    "    for image in os.listdir(data_dir+digitn):\n",
    "        digit_image=cv2.imread(data_dir+digitn+'/'+image)\n",
    "        gray_img = cv2.cvtColor(digit_image, cv2.COLOR_BGR2GRAY)\n",
    "        gray_img = cv2.resize(gray_img, image_size)\n",
    "        small_img = cv2.resize(gray_img,image_size)\n",
    "        images.append(np.asarray(list(small_img)).reshape(image_size))\n",
    "        labels.append(int(digitn[-1]))\n",
    "        counter+=1\n",
    "        if (counter%1000==0):\n",
    "          print(\"Total images Scanned : {}\".format(counter))"
   ]
  },
  {
   "cell_type": "code",
   "execution_count": 7,
   "metadata": {},
   "outputs": [],
   "source": [
    "data_dir = '/home/aayush/SudokuSolver/Data/74KData/'"
   ]
  },
  {
   "cell_type": "code",
   "execution_count": 8,
   "metadata": {},
   "outputs": [
    {
     "name": "stdout",
     "output_type": "stream",
     "text": [
      "Total images Scanned : 1000\n",
      "Total images Scanned : 2000\n",
      "Total images Scanned : 3000\n",
      "Total images Scanned : 4000\n",
      "Total images Scanned : 5000\n",
      "Total images Scanned : 6000\n",
      "Total images Scanned : 7000\n",
      "Total images Scanned : 8000\n",
      "Total images Scanned : 9000\n",
      "Total images Scanned : 10000\n",
      "Total images Scanned : 11000\n",
      "Total images Scanned : 12000\n",
      "Total images Scanned : 13000\n",
      "Total images Scanned : 14000\n",
      "Total images Scanned : 15000\n",
      "Total images Scanned : 16000\n",
      "Total images Scanned : 17000\n",
      "Total images Scanned : 18000\n",
      "Total images Scanned : 19000\n",
      "Total images Scanned : 20000\n",
      "Total images Scanned : 21000\n",
      "Total images Scanned : 22000\n",
      "Total images Scanned : 23000\n",
      "Total images Scanned : 24000\n",
      "Total images Scanned : 25000\n",
      "Total images Scanned : 26000\n",
      "Total images Scanned : 27000\n",
      "Total images Scanned : 28000\n",
      "Total images Scanned : 29000\n",
      "Total images Scanned : 30000\n",
      "Total images Scanned : 31000\n",
      "Total images Scanned : 32000\n",
      "Total images Scanned : 33000\n",
      "Total images Scanned : 34000\n",
      "Total images Scanned : 35000\n",
      "Total images Scanned : 36000\n",
      "Total images Scanned : 37000\n",
      "Total images Scanned : 38000\n",
      "Total images Scanned : 39000\n",
      "Total images Scanned : 40000\n",
      "Total images Scanned : 41000\n",
      "Total images Scanned : 42000\n",
      "Total images Scanned : 43000\n",
      "Total images Scanned : 44000\n",
      "Total images Scanned : 45000\n",
      "Total images Scanned : 46000\n",
      "Total images Scanned : 47000\n",
      "Total images Scanned : 48000\n",
      "Total images Scanned : 49000\n",
      "Total images Scanned : 50000\n",
      "Total images Scanned : 51000\n",
      "Total images Scanned : 52000\n",
      "Total images Scanned : 53000\n",
      "Total images Scanned : 54000\n",
      "Total images Scanned : 55000\n",
      "Total images Scanned : 56000\n",
      "Total images Scanned : 57000\n",
      "Total images Scanned : 58000\n",
      "Total images Scanned : 59000\n",
      "Total images Scanned : 60000\n",
      "Total images Scanned : 61000\n",
      "Total images Scanned : 62000\n",
      "Total images Scanned : 63000\n",
      "Total images Scanned : 64000\n",
      "Total images Scanned : 65000\n",
      "Total images Scanned : 66000\n",
      "Total images Scanned : 67000\n",
      "Total images Scanned : 68000\n",
      "Total images Scanned : 69000\n",
      "Total images Scanned : 70000\n"
     ]
    }
   ],
   "source": [
    "counter=0\n",
    "for digitn in os.listdir(data_dir):\n",
    "    for image in os.listdir(data_dir+digitn):\n",
    "\n",
    "        digit_image=cv2.imread(data_dir+digitn+'/'+image)\n",
    "        digit_image=255-digit_image\n",
    "        gray_img = cv2.cvtColor(digit_image, cv2.COLOR_BGR2GRAY)\n",
    "        gray_img = cv2.resize(gray_img, image_size)\n",
    "        small_img = cv2.resize(gray_img,image_size)\n",
    "        images.append(np.asarray(list(small_img)).reshape(image_size))\n",
    "        labels.append(int(digitn[-1]))\n",
    "        counter+=1\n",
    "        if (counter%1000==0):\n",
    "          print(\"Total images Scanned : {}\".format(counter))"
   ]
  },
  {
   "cell_type": "code",
   "execution_count": 9,
   "metadata": {
    "colab": {},
    "colab_type": "code",
    "id": "PkKdfMgaoJiO"
   },
   "outputs": [],
   "source": [
    "from numpy import asarray\n",
    "from numpy import save\n",
    "\n",
    "# define data\n",
    "image_data = asarray(images)\n",
    "label_data = asarray(labels)\n",
    "\n",
    "# save to npy file\n",
    "save('Processed_images20.npy', image_data)\n",
    "save('Processed_labels20.npy', label_data)"
   ]
  },
  {
   "cell_type": "code",
   "execution_count": 10,
   "metadata": {},
   "outputs": [
    {
     "data": {
      "text/plain": [
       "'/home/aayush/SudokuSolver/Model Training'"
      ]
     },
     "execution_count": 10,
     "metadata": {},
     "output_type": "execute_result"
    }
   ],
   "source": [
    "pwd"
   ]
  }
 ],
 "metadata": {
  "accelerator": "GPU",
  "colab": {
   "collapsed_sections": [],
   "name": "Digit classification.ipynb",
   "provenance": []
  },
  "kernelspec": {
   "display_name": "Python 3",
   "language": "python",
   "name": "python3"
  },
  "language_info": {
   "codemirror_mode": {
    "name": "ipython",
    "version": 3
   },
   "file_extension": ".py",
   "mimetype": "text/x-python",
   "name": "python",
   "nbconvert_exporter": "python",
   "pygments_lexer": "ipython3",
   "version": "3.8.3"
  }
 },
 "nbformat": 4,
 "nbformat_minor": 1
}
