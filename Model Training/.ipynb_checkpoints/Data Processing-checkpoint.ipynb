{
 "cells": [
  {
   "cell_type": "code",
   "execution_count": 4,
   "metadata": {},
   "outputs": [],
   "source": [
    "import os"
   ]
  },
  {
   "cell_type": "code",
   "execution_count": 5,
   "metadata": {},
   "outputs": [],
   "source": [
    "import cv2"
   ]
  },
  {
   "cell_type": "code",
   "execution_count": 6,
   "metadata": {},
   "outputs": [],
   "source": [
    "import random"
   ]
  },
  {
   "cell_type": "code",
   "execution_count": 7,
   "metadata": {},
   "outputs": [],
   "source": [
    "import numpy as np"
   ]
  },
  {
   "cell_type": "code",
   "execution_count": null,
   "metadata": {},
   "outputs": [],
   "source": [
    "from tensorflow.keras.datasets import mnist"
   ]
  },
  {
   "cell_type": "code",
   "execution_count": null,
   "metadata": {},
   "outputs": [],
   "source": [
    "(x_train,y_train),(x_test,y_test)= mnist.load_data()"
   ]
  },
  {
   "cell_type": "code",
   "execution_count": null,
   "metadata": {},
   "outputs": [],
   "source": [
    "x_train[500].max()"
   ]
  },
  {
   "cell_type": "code",
   "execution_count": null,
   "metadata": {},
   "outputs": [],
   "source": [
    "mnist_data_dir = '/home/aayush/SudokuSolver/Data/MNISTDATA/'"
   ]
  },
  {
   "cell_type": "code",
   "execution_count": null,
   "metadata": {},
   "outputs": [],
   "source": [
    "image_size=(28,28)"
   ]
  },
  {
   "cell_type": "code",
   "execution_count": null,
   "metadata": {},
   "outputs": [],
   "source": [
    "org_image = np.ones(image_size)*255"
   ]
  },
  {
   "cell_type": "code",
   "execution_count": null,
   "metadata": {},
   "outputs": [],
   "source": [
    "org_image.shape[0]"
   ]
  },
  {
   "cell_type": "code",
   "execution_count": 12,
   "metadata": {},
   "outputs": [],
   "source": [
    "for i in range(60000):\n",
    "    cur_image=x_train[i]\n",
    "    cur_label=y_train[i]\n",
    "    cv2.imwrite(mnist_data_dir+str(cur_label)+'/trainimg'+str(i)+'.jpg',cur_image)"
   ]
  },
  {
   "cell_type": "code",
   "execution_count": 13,
   "metadata": {},
   "outputs": [],
   "source": [
    "for i in range(10000):\n",
    "    cur_image=x_test[i]\n",
    "    cur_label=y_test[i]\n",
    "    cv2.imwrite(mnist_data_dir+str(cur_label)+'/tstimg'+str(i)+'.jpg',cur_image)"
   ]
  },
  {
   "cell_type": "code",
   "execution_count": 1,
   "metadata": {},
   "outputs": [],
   "source": [
    "def rotate_image(image, angle):\n",
    "    image=1-(image/255)\n",
    "    image_center = tuple(np.array(image.shape[1::-1]) / 2)\n",
    "    rot_mat = cv2.getRotationMatrix2D(image_center, angle, 1.0)\n",
    "    result = cv2.warpAffine(image, rot_mat, image.shape[1::-1], flags=cv2.INTER_LINEAR)\n",
    "    return (1-result)*255"
   ]
  },
  {
   "cell_type": "code",
   "execution_count": 2,
   "metadata": {},
   "outputs": [],
   "source": [
    "def make_border(image,left,right,upper,bottom,thickness):\n",
    "    side_length = image.shape[0]\n",
    "    if (left):\n",
    "        image=cv2.line(image,(0,0),(0,side_length),(255,255,255),thickness)\n",
    "    if (right):\n",
    "        image=cv2.line(image,(side_length,0),(side_length,side_length),(255,255,255),thickness)\n",
    "    if (upper):\n",
    "        image=cv2.line(image,(0,0),(side_length,0),(255,255,255),thickness)\n",
    "    if (bottom):\n",
    "        image=cv2.line(image,(0,side_length),(side_length,side_length),(255,255,255),thickness)\n",
    "    return image"
   ]
  },
  {
   "cell_type": "code",
   "execution_count": null,
   "metadata": {},
   "outputs": [],
   "source": [
    "kernel_sharpening = np.array([[-1,-1,-1],[-1,9,-1],[-1,-1,-1]])\n",
    "kernel_5x5 = np.ones((5, 5), np.float32) / 25\n",
    "def blur_shrp(image):\n",
    "    sharpened = cv2.filter2D(image, -1, kernel_sharpening)\n",
    "    return sharpened"
   ]
  },
  {
   "cell_type": "code",
   "execution_count": null,
   "metadata": {},
   "outputs": [],
   "source": [
    "kernel = np.ones((7,7), np.uint8)\n",
    "def openclose(image):\n",
    "    opening = cv2.morphologyEx(image, cv2.MORPH_OPEN, kernel)\n",
    "    closing = cv2.morphologyEx(image, cv2.MORPH_CLOSE, kernel)\n",
    "    return opening,closing"
   ]
  },
  {
   "cell_type": "code",
   "execution_count": null,
   "metadata": {},
   "outputs": [],
   "source": [
    "np.array(os.listdir(mnist_data_dir+\"0\")).shape"
   ]
  },
  {
   "cell_type": "code",
   "execution_count": 43,
   "metadata": {},
   "outputs": [],
   "source": [
    "for i in range(6903):\n",
    "    image=np.ones(image_size)*0\n",
    "    cv2.imwrite(mnist_data_dir+\"0/\"+\"img\"+str(i)+\".jpg\",image)"
   ]
  },
  {
   "cell_type": "code",
   "execution_count": 70,
   "metadata": {},
   "outputs": [
    {
     "name": "stdout",
     "output_type": "stream",
     "text": [
      "3 7141\n",
      "6 6876\n",
      "8 6825\n",
      "0 6903\n",
      "5 6313\n",
      "7 7293\n",
      "4 6824\n",
      "1 7877\n",
      "2 6990\n",
      "9 6958\n"
     ]
    }
   ],
   "source": [
    "for digit in os.listdir(mnist_data_dir):\n",
    "    \n",
    "    for image in os.listdir(mnist_data_dir+digit):\n",
    "    \n",
    "        cur_image=cv2.imread(mnist_data_dir+digit+\"/\"+image)\n",
    "        cur_image=cv2.resize(cur_image,image_size)\n",
    "        cur_image=make_border(cur_image,random.choice([0,1,1]),random.choice([1,0,1]),random.choice([1,0,1]),random.choice([0,1,1]),random.choice([1,2,3,4,5]))\n",
    "        if random.choice([0,0,1]):\n",
    "            cur_image=blur_shrp(cur_image)\n",
    "        if random.choice([0,0,0,1]):\n",
    "            cur_image=rotate_image(cur_image, random.choice([5,10,15,20]))\n",
    "        if random.choice([0,0,0,1]):\n",
    "            opened,closed=openclose(cur_image)\n",
    "            cur_img=closed\n",
    "\n",
    "        cv2.imwrite(mnist_data_dir+digit+\"/\"+image,cur_image)\n",
    "        \n",
    "    print(digit,np.array(os.listdir(mnist_data_dir+str(digit))).shape[0])"
   ]
  },
  {
   "cell_type": "code",
   "execution_count": 61,
   "metadata": {},
   "outputs": [],
   "source": [
    "data_dir = '/home/aayush/SudokuSolver/Data/74KData/'"
   ]
  },
  {
   "cell_type": "code",
   "execution_count": 66,
   "metadata": {},
   "outputs": [
    {
     "data": {
      "text/plain": [
       "1016"
      ]
     },
     "execution_count": 66,
     "metadata": {},
     "output_type": "execute_result"
    }
   ],
   "source": [
    "np.array(os.listdir(data_dir+\"0\")).shape[0]"
   ]
  },
  {
   "cell_type": "code",
   "execution_count": 65,
   "metadata": {},
   "outputs": [],
   "source": [
    "for i in range(1016):\n",
    "    image=np.ones(image_size)*255\n",
    "    cv2.imwrite(data_dir+\"0/\"+\"img\"+str(i)+\".jpg\",image)"
   ]
  },
  {
   "cell_type": "code",
   "execution_count": 67,
   "metadata": {},
   "outputs": [
    {
     "name": "stdout",
     "output_type": "stream",
     "text": [
      "3 1917\n",
      "6 1804\n",
      "8 1885\n",
      "0 1859\n",
      "5 1856\n",
      "7 1842\n",
      "4 1851\n",
      "1 1845\n",
      "2 1897\n",
      "9 1852\n"
     ]
    }
   ],
   "source": [
    "for digit in os.listdir(data_dir):\n",
    "    \n",
    "    for image in os.listdir(data_dir+digit):\n",
    "        \n",
    "        cur_image=cv2.imread(data_dir+digit+\"/\"+image)\n",
    "        cur_image=255-cur_image\n",
    "        cur_image=cv2.resize(cur_image,image_size)\n",
    "        cur_image=make_border(cur_image,random.choice([0,1,1]),random.choice([1,0,1]),random.choice([1,0,1]),random.choice([0,1,1]),random.choice([1,2,3,4,5]))\n",
    "        if random.choice([0,1]):\n",
    "            blur_image=blur_shrp(cur_image)\n",
    "            cv2.imwrite(data_dir+digit+\"/blur\"+image,blur_image)\n",
    "        if random.choice([0,0,1]):\n",
    "            rot_image=rotate_image(cur_image, random.choice([5,10,15,20]))\n",
    "            cv2.imwrite(data_dir+digit+\"/rot\"+image,rot_image)\n",
    "        cv2.imwrite(data_dir+digit+\"/\"+image,cur_image)\n",
    "        \n",
    "    print(digit,np.array(os.listdir(data_dir+str(digit))).shape[0])"
   ]
  },
  {
   "cell_type": "code",
   "execution_count": 68,
   "metadata": {},
   "outputs": [
    {
     "name": "stdout",
     "output_type": "stream",
     "text": [
      "3 1917\n",
      "6 1804\n",
      "8 1885\n",
      "0 1859\n",
      "5 1856\n",
      "7 1842\n",
      "4 1851\n",
      "1 1845\n",
      "2 1897\n",
      "9 1852\n"
     ]
    }
   ],
   "source": [
    "for digit in os.listdir(data_dir):\n",
    "    \n",
    "    for image in os.listdir(data_dir+digit):\n",
    "        \n",
    "        cur_image=cv2.imread(data_dir+digit+\"/\"+image)\n",
    "        cur_image=cv2.resize(cur_image,image_size)\n",
    "        cur_image=make_border(cur_image,random.choice([0,1,1]),random.choice([1,0,1]),random.choice([1,0,1]),random.choice([0,1,1]),random.choice([1,2,3,4,5]))\n",
    "        if random.choice([0,1]):\n",
    "            cur_image=blur_shrp(cur_image)\n",
    "            \n",
    "        if random.choice([0,0,1]):\n",
    "            cur_image=rotate_image(cur_image, random.choice([5,10,15,20]))\n",
    "            \n",
    "        cv2.imwrite(data_dir+digit+\"/\"+image,cur_image)\n",
    "        \n",
    "    print(digit,np.array(os.listdir(data_dir+str(digit))).shape[0])"
   ]
  },
  {
   "cell_type": "code",
   "execution_count": null,
   "metadata": {},
   "outputs": [],
   "source": []
  }
 ],
 "metadata": {
  "kernelspec": {
   "display_name": "Python 3",
   "language": "python",
   "name": "python3"
  },
  "language_info": {
   "codemirror_mode": {
    "name": "ipython",
    "version": 3
   },
   "file_extension": ".py",
   "mimetype": "text/x-python",
   "name": "python",
   "nbconvert_exporter": "python",
   "pygments_lexer": "ipython3",
   "version": "3.8.3"
  }
 },
 "nbformat": 4,
 "nbformat_minor": 4
}
