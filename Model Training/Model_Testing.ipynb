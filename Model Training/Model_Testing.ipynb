{
 "cells": [
  {
   "cell_type": "code",
   "execution_count": 1,
   "metadata": {},
   "outputs": [],
   "source": [
    "import os\n",
    "import cv2\n",
    "import numpy as np\n",
    "from tensorflow.keras.models import load_model"
   ]
  },
  {
   "cell_type": "code",
   "execution_count": 6,
   "metadata": {},
   "outputs": [],
   "source": [
    "new_model=load_model('/home/aayush/SudokuSolver/Saved models/Digit_Model_34.h5' )"
   ]
  },
  {
   "cell_type": "code",
   "execution_count": 7,
   "metadata": {},
   "outputs": [],
   "source": [
    "images_dir='/home/aayush/Work@ayu/Projects/Digits2/'"
   ]
  },
  {
   "cell_type": "code",
   "execution_count": 8,
   "metadata": {},
   "outputs": [],
   "source": [
    "images=os.listdir(images_dir)"
   ]
  },
  {
   "cell_type": "code",
   "execution_count": 9,
   "metadata": {},
   "outputs": [
    {
     "name": "stdout",
     "output_type": "stream",
     "text": [
      "[[3. 0. 0. 8. 0. 1. 0. 0. 1.]\n",
      " [2. 0. 1. 0. 3. 0. 8. 0. 4.]\n",
      " [0. 0. 0. 2. 0. 4. 0. 0. 0.]\n",
      " [8. 0. 9. 0. 0. 0. 1. 0. 8.]\n",
      " [0. 8. 0. 0. 0. 0. 0. 5. 0.]\n",
      " [7. 0. 2. 0. 0. 0. 4. 0. 9.]\n",
      " [0. 0. 0. 5. 0. 2. 0. 0. 0.]\n",
      " [9. 0. 4. 0. 8. 0. 7. 0. 5.]\n",
      " [6. 0. 0. 1. 0. 7. 0. 0. 3.]]\n"
     ]
    }
   ],
   "source": [
    "predict_grid= np.zeros((9,9))\n",
    "\n",
    "for image in images:\n",
    "    imagec=image.split(\".\")[0][5:7]\n",
    "    (x,y)=(int(imagec[0]),int(imagec[1]))\n",
    "    my_image=cv2.imread(images_dir+image,0)\n",
    "    my_image=cv2.resize(my_image,(28,28))\n",
    "    my_image=np.array(my_image)\n",
    "    my_image=255-my_image\n",
    "    my_image=my_image/255\n",
    "    my_image = np.expand_dims(my_image, axis=0)\n",
    "    my_image = np.expand_dims(my_image, axis=0)\n",
    "    my_image=my_image.reshape(1,28,28,1)\n",
    "    predict_grid[x][y] = new_model.predict_classes(my_image, verbose=0)[0]\n",
    "    \n",
    "    org_img=cv2.imread(images_dir+image,1)\n",
    "\n",
    "print(predict_grid)"
   ]
  },
  {
   "cell_type": "code",
   "execution_count": null,
   "metadata": {},
   "outputs": [],
   "source": []
  }
 ],
 "metadata": {
  "kernelspec": {
   "display_name": "Python 3",
   "language": "python",
   "name": "python3"
  },
  "language_info": {
   "codemirror_mode": {
    "name": "ipython",
    "version": 3
   },
   "file_extension": ".py",
   "mimetype": "text/x-python",
   "name": "python",
   "nbconvert_exporter": "python",
   "pygments_lexer": "ipython3",
   "version": "3.8.3"
  }
 },
 "nbformat": 4,
 "nbformat_minor": 4
}
