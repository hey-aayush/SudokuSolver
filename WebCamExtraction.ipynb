{
 "cells": [
  {
   "cell_type": "code",
   "execution_count": 10,
   "metadata": {},
   "outputs": [],
   "source": [
    "import cv2"
   ]
  },
  {
   "cell_type": "code",
   "execution_count": 11,
   "metadata": {},
   "outputs": [],
   "source": [
    "import numpy as np"
   ]
  },
  {
   "cell_type": "code",
   "execution_count": 12,
   "metadata": {},
   "outputs": [],
   "source": [
    "image = cv2.imread('SudokuTest2.jpg')"
   ]
  },
  {
   "cell_type": "code",
   "execution_count": 13,
   "metadata": {},
   "outputs": [],
   "source": [
    "def process_raw(image):\n",
    "    gray_img = cv2.cvtColor(image,cv2.COLOR_BGR2GRAY)\n",
    "    blur_gry=cv2.GaussianBlur(gray_img,(3,3),1)\n",
    "    _, th3 = cv2.threshold(blur_gry, 0, 255, cv2.THRESH_BINARY + cv2.THRESH_OTSU)\n",
    "    ret,thresh2 = cv2.threshold(th3, 127, 255, cv2.THRESH_BINARY_INV)\n",
    "\n",
    "    return thresh2"
   ]
  },
  {
   "cell_type": "code",
   "execution_count": 14,
   "metadata": {},
   "outputs": [],
   "source": [
    "def return_contours(processed):\n",
    "    contours, hierarchy = cv2.findContours(processed, cv2.RETR_EXTERNAL, cv2.CHAIN_APPROX_SIMPLE)\n",
    "    sorted_contours = sorted(contours, key=cv2.contourArea, reverse=True)\n",
    "    for i in range(len(sorted_contours)):\n",
    "        approx = cv2.approxPolyDP(sorted_contours[i], 0.01*cv2.arcLength(sorted_contours[i],True),True)\n",
    "        if len(approx) == 4:\n",
    "            return approx;\n",
    "    return [1]"
   ]
  },
  {
   "cell_type": "code",
   "execution_count": 15,
   "metadata": {},
   "outputs": [],
   "source": [
    "def sort_approx(approx):\n",
    "    sorted_approx = sorted(approx,key=lambda k:[k[0][1],k[0][0]])\n",
    "    sorted_approx[:2]= sorted(approx[0:2],key=lambda k:k[0][0])\n",
    "    sorted_approx[2:4]= sorted(approx[2:4],key=lambda k:k[0][0])\n",
    "    sorted_points=[] #pehele hi lst m convert krne hai !!\n",
    "    for i in range(4):\n",
    "        sorted_points.append(sorted_approx[i].tolist()[0])\n",
    "    return np.float32(sorted_points)"
   ]
  },
  {
   "cell_type": "code",
   "execution_count": 16,
   "metadata": {},
   "outputs": [],
   "source": [
    "def Extract_sudoko(sorted_points,image):\n",
    "    points_B = np.float32([[0,0], [450,0], [0,450], [450,450]])\n",
    "    M = cv2.getPerspectiveTransform(sorted_points, points_B)\n",
    "    warped = cv2.warpPerspective(image, M, (450,450))\n",
    "    return warped"
   ]
  },
  {
   "cell_type": "code",
   "execution_count": 17,
   "metadata": {},
   "outputs": [],
   "source": [
    "def show_frames(image):    \n",
    "    processed_img=process_raw(image)\n",
    "\n",
    "    approx = return_contours(processed_img)\n",
    "\n",
    "    Sudoku_grid= np.zeros((450,450))\n",
    "\n",
    "    if len(approx)==4:\n",
    "        sorted_points = sort_approx(approx)\n",
    "        cv2.drawContours(image, [approx], 0, (0,0,0), 5)\n",
    "        Sudoku_grid= Extract_sudoko(sorted_points,image)\n",
    "\n",
    "    return image,Sudoku_grid\n"
   ]
  },
  {
   "cell_type": "code",
   "execution_count": 9,
   "metadata": {},
   "outputs": [],
   "source": [
    "cap = cv2.VideoCapture(0)\n",
    "\n",
    "while (cap.isOpened()):\n",
    "    ret,frame=cap.read()\n",
    "    if ret == True:\n",
    "        img , grid = show_frames(frame)\n",
    "        cv2.imshow(\"feed\",img)\n",
    "        cv2.imshow(\"Sudoko\",grid)\n",
    "        if cv2.waitKey(1) & 0xFF ==ord(\"q\"):\n",
    "            break\n",
    "\n",
    "cap.release()\n",
    "cv2.destroyAllWindows()"
   ]
  },
  {
   "cell_type": "code",
   "execution_count": 18,
   "metadata": {},
   "outputs": [],
   "source": [
    "img , grid = show_frames(image)\n",
    "cv2.imshow(\"feed\",img)\n",
    "cv2.imshow(\"Sudoko\",grid)\n",
    "cv2.waitKey(0)\n",
    "cv2.imwrite('TestGrid2.jpg', grid)\n",
    "cv2.destroyAllWindows()"
   ]
  },
  {
   "cell_type": "code",
   "execution_count": null,
   "metadata": {},
   "outputs": [],
   "source": []
  }
 ],
 "metadata": {
  "kernelspec": {
   "display_name": "Python 3",
   "language": "python",
   "name": "python3"
  },
  "language_info": {
   "codemirror_mode": {
    "name": "ipython",
    "version": 3
   },
   "file_extension": ".py",
   "mimetype": "text/x-python",
   "name": "python",
   "nbconvert_exporter": "python",
   "pygments_lexer": "ipython3",
   "version": "3.8.3"
  }
 },
 "nbformat": 4,
 "nbformat_minor": 4
}
