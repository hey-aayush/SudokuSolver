{
 "cells": [
  {
   "cell_type": "code",
   "execution_count": 5,
   "metadata": {
    "colab": {},
    "colab_type": "code",
    "id": "5j-vjSQyTFZb"
   },
   "outputs": [],
   "source": [
    "import os\n",
    "import cv2\n",
    "import random\n",
    "import numpy as np\n",
    "import pandas as pd\n",
    "from sklearn.model_selection import train_test_split"
   ]
  },
  {
   "cell_type": "code",
   "execution_count": 6,
   "metadata": {
    "colab": {},
    "colab_type": "code",
    "id": "dWlfN1uxTN5s"
   },
   "outputs": [],
   "source": [
    "images=[]\n",
    "labels=[]\n",
    "X_train=[]\n",
    "Y_train=[]\n",
    "X_test=[]\n",
    "Y_test=[]"
   ]
  },
  {
   "cell_type": "code",
   "execution_count": 7,
   "metadata": {},
   "outputs": [],
   "source": [
    "data_dir = '/home/aayush/Work@ayu/Projects/Data/'"
   ]
  },
  {
   "cell_type": "code",
   "execution_count": 8,
   "metadata": {
    "colab": {
     "base_uri": "https://localhost:8080/",
     "height": 1000
    },
    "colab_type": "code",
    "id": "ervtSfj_TPrj",
    "outputId": "33be4ac2-4dc4-4942-eb83-0edc899e6944"
   },
   "outputs": [
    {
     "name": "stdout",
     "output_type": "stream",
     "text": [
      "Total images Scanned : 1000\n",
      "Total images Scanned : 2000\n",
      "Total images Scanned : 3000\n",
      "Total images Scanned : 4000\n",
      "Total images Scanned : 5000\n",
      "Total images Scanned : 6000\n",
      "Total images Scanned : 7000\n",
      "Total images Scanned : 8000\n",
      "Total images Scanned : 9000\n",
      "Total images Scanned : 10000\n",
      "Total images Scanned : 11000\n",
      "Total images Scanned : 12000\n",
      "Total images Scanned : 13000\n",
      "Total images Scanned : 14000\n",
      "Total images Scanned : 15000\n",
      "Total images Scanned : 16000\n",
      "Total images Scanned : 17000\n",
      "Total images Scanned : 18000\n",
      "Total images Scanned : 19000\n",
      "Total images Scanned : 20000\n",
      "Total images Scanned : 21000\n",
      "Total images Scanned : 22000\n",
      "Total images Scanned : 23000\n",
      "Total images Scanned : 24000\n",
      "Total images Scanned : 25000\n",
      "Total images Scanned : 26000\n",
      "Total images Scanned : 27000\n",
      "Total images Scanned : 28000\n",
      "Total images Scanned : 29000\n",
      "Total images Scanned : 30000\n",
      "Total images Scanned : 31000\n",
      "Total images Scanned : 32000\n",
      "Total images Scanned : 33000\n",
      "Total images Scanned : 34000\n",
      "Total images Scanned : 35000\n",
      "Total images Scanned : 36000\n",
      "Total images Scanned : 37000\n",
      "Total images Scanned : 38000\n",
      "Total images Scanned : 39000\n",
      "Total images Scanned : 40000\n",
      "Total images Scanned : 41000\n",
      "Total images Scanned : 42000\n",
      "Total images Scanned : 43000\n",
      "Total images Scanned : 44000\n",
      "Total images Scanned : 45000\n",
      "Total images Scanned : 46000\n",
      "Total images Scanned : 47000\n",
      "Total images Scanned : 48000\n",
      "Total images Scanned : 49000\n",
      "Total images Scanned : 50000\n",
      "Total images Scanned : 51000\n",
      "Total images Scanned : 52000\n",
      "Total images Scanned : 53000\n",
      "Total images Scanned : 54000\n",
      "Total images Scanned : 55000\n",
      "Total images Scanned : 56000\n",
      "Total images Scanned : 57000\n",
      "Total images Scanned : 58000\n",
      "Total images Scanned : 59000\n",
      "Total images Scanned : 60000\n",
      "Total images Scanned : 61000\n",
      "Total images Scanned : 62000\n",
      "Total images Scanned : 63000\n",
      "Total images Scanned : 64000\n",
      "Total images Scanned : 65000\n",
      "Total images Scanned : 66000\n",
      "Total images Scanned : 67000\n",
      "Total images Scanned : 68000\n",
      "Total images Scanned : 69000\n",
      "Total images Scanned : 70000\n",
      "Total images Scanned : 71000\n",
      "Total images Scanned : 72000\n",
      "Total images Scanned : 73000\n",
      "Total images Scanned : 74000\n",
      "Total images Scanned : 75000\n",
      "Total images Scanned : 76000\n",
      "Total images Scanned : 77000\n",
      "Total images Scanned : 78000\n",
      "Total images Scanned : 79000\n",
      "Total images Scanned : 80000\n",
      "Total images Scanned : 81000\n",
      "Total images Scanned : 82000\n",
      "Total images Scanned : 83000\n",
      "Total images Scanned : 84000\n",
      "Total images Scanned : 85000\n",
      "Total images Scanned : 86000\n",
      "Total images Scanned : 87000\n",
      "Total images Scanned : 88000\n",
      "Total images Scanned : 89000\n",
      "Total images Scanned : 90000\n",
      "Total images Scanned : 91000\n",
      "Total images Scanned : 92000\n",
      "Total images Scanned : 93000\n",
      "Total images Scanned : 94000\n",
      "Total images Scanned : 95000\n",
      "Total images Scanned : 96000\n",
      "Total images Scanned : 97000\n",
      "Total images Scanned : 98000\n",
      "Total images Scanned : 99000\n",
      "Total images Scanned : 100000\n",
      "Total images Scanned : 101000\n",
      "Total images Scanned : 102000\n",
      "Total images Scanned : 103000\n",
      "Total images Scanned : 104000\n",
      "Total images Scanned : 105000\n",
      "Total images Scanned : 106000\n",
      "Total images Scanned : 107000\n",
      "Total images Scanned : 108000\n",
      "Total images Scanned : 109000\n",
      "Total images Scanned : 110000\n",
      "Total images Scanned : 111000\n",
      "Total images Scanned : 112000\n",
      "Total images Scanned : 113000\n",
      "Total images Scanned : 114000\n",
      "Total images Scanned : 115000\n",
      "Total images Scanned : 116000\n",
      "Total images Scanned : 117000\n",
      "Total images Scanned : 118000\n",
      "Total images Scanned : 119000\n",
      "Total images Scanned : 120000\n",
      "Total images Scanned : 121000\n",
      "Total images Scanned : 122000\n",
      "Total images Scanned : 123000\n",
      "Total images Scanned : 124000\n",
      "Total images Scanned : 125000\n",
      "Total images Scanned : 126000\n",
      "Total images Scanned : 127000\n",
      "Total images Scanned : 128000\n",
      "Total images Scanned : 129000\n",
      "Total images Scanned : 130000\n",
      "Total images Scanned : 131000\n",
      "Total images Scanned : 132000\n"
     ]
    }
   ],
   "source": [
    "counter=0\n",
    "for digitn in os.listdir(data_dir):\n",
    "    for image in os.listdir(data_dir+digitn):\n",
    "        digit_image=cv2.imread(data_dir+digitn+'/'+image)\n",
    "        gray_img = cv2.cvtColor(digit_image, cv2.COLOR_BGR2GRAY)\n",
    "        gray_img = cv2.resize(gray_img, (28,28))\n",
    "        small_img = cv2.resize(gray_img,(28,28))\n",
    "        images.append(np.asarray(list(small_img)).reshape(28,28))\n",
    "        labels.append(int(digitn[-1]))\n",
    "        counter+=1\n",
    "        if (counter%1000==0):\n",
    "          print(\"Total images Scanned : {}\".format(counter))"
   ]
  },
  {
   "cell_type": "code",
   "execution_count": 9,
   "metadata": {
    "colab": {},
    "colab_type": "code",
    "id": "PkKdfMgaoJiO"
   },
   "outputs": [],
   "source": [
    "from numpy import asarray\n",
    "from numpy import save\n",
    "\n",
    "# define data\n",
    "image_data = asarray(images)\n",
    "label_data = asarray(labels)\n",
    "\n",
    "# save to npy file\n",
    "save('images.npy', image_data)\n",
    "save('labels.npy', label_data)"
   ]
  },
  {
   "cell_type": "code",
   "execution_count": 10,
   "metadata": {},
   "outputs": [
    {
     "data": {
      "text/plain": [
       "'/home/aayush/Work@ayu/Projects/Model_Training'"
      ]
     },
     "execution_count": 10,
     "metadata": {},
     "output_type": "execute_result"
    }
   ],
   "source": [
    "pwd"
   ]
  },
  {
   "cell_type": "code",
   "execution_count": 45,
   "metadata": {
    "colab": {
     "base_uri": "https://localhost:8080/",
     "height": 51
    },
    "colab_type": "code",
    "id": "QiFQBuBso8Hp",
    "outputId": "e02c825a-f4e9-4d3d-d18b-e5c88eedbfff"
   },
   "outputs": [
    {
     "name": "stdout",
     "output_type": "stream",
     "text": [
      "(10160, 28, 28)\n",
      "(10160,)\n"
     ]
    }
   ],
   "source": [
    "# load numpy array from npy file\n",
    "from numpy import load\n",
    "# load array\n",
    "loaded_image_data = load('images.npy')\n",
    "loaded_label_data = load('labels.npy')\n",
    "# print the array\n",
    "print(loaded_image_data.shape)\n",
    "print(loaded_label_data.shape)"
   ]
  },
  {
   "cell_type": "code",
   "execution_count": 4,
   "metadata": {
    "colab": {},
    "colab_type": "code",
    "id": "jYWLETpHT2ln"
   },
   "outputs": [],
   "source": [
    "X_train, X_test, Y_train, Y_test = train_test_split(images, labels, test_size=0.15)"
   ]
  },
  {
   "cell_type": "code",
   "execution_count": 5,
   "metadata": {
    "colab": {},
    "colab_type": "code",
    "id": "erYJ4xrzT7J3"
   },
   "outputs": [],
   "source": [
    "X_train=np.array(X_train)"
   ]
  },
  {
   "cell_type": "code",
   "execution_count": 6,
   "metadata": {
    "colab": {
     "base_uri": "https://localhost:8080/",
     "height": 34
    },
    "colab_type": "code",
    "id": "lGVEVliLT9oR",
    "outputId": "8acf095b-6454-492c-c050-98267354e3c4"
   },
   "outputs": [
    {
     "data": {
      "text/plain": [
       "(8636, 28, 28)"
      ]
     },
     "execution_count": 6,
     "metadata": {
      "tags": []
     },
     "output_type": "execute_result"
    }
   ],
   "source": [
    "X_train.shape"
   ]
  },
  {
   "cell_type": "code",
   "execution_count": 7,
   "metadata": {
    "colab": {},
    "colab_type": "code",
    "id": "qmcVd-WFT_BH"
   },
   "outputs": [],
   "source": [
    "Y_test=np.array(Y_test)"
   ]
  },
  {
   "cell_type": "code",
   "execution_count": 8,
   "metadata": {
    "colab": {},
    "colab_type": "code",
    "id": "rgEbWkdVUBOQ"
   },
   "outputs": [],
   "source": [
    "Y_train=np.array(Y_train)"
   ]
  },
  {
   "cell_type": "code",
   "execution_count": 9,
   "metadata": {
    "colab": {},
    "colab_type": "code",
    "id": "m8FR2DKxUEbC"
   },
   "outputs": [],
   "source": [
    "Y_train=np.array(Y_train)"
   ]
  },
  {
   "cell_type": "code",
   "execution_count": 10,
   "metadata": {
    "colab": {
     "base_uri": "https://localhost:8080/",
     "height": 34
    },
    "colab_type": "code",
    "id": "lduQ4RsLUGKy",
    "outputId": "95943d64-407c-4670-9bf0-ee43685b76a3"
   },
   "outputs": [
    {
     "data": {
      "text/plain": [
       "(8636,)"
      ]
     },
     "execution_count": 10,
     "metadata": {
      "tags": []
     },
     "output_type": "execute_result"
    }
   ],
   "source": [
    "Y_train.shape"
   ]
  },
  {
   "cell_type": "code",
   "execution_count": 11,
   "metadata": {
    "colab": {},
    "colab_type": "code",
    "id": "aJWOnf3oUIZ-"
   },
   "outputs": [],
   "source": [
    "combined = list(zip(X_train, Y_train))\n",
    "\n",
    "random.shuffle(combined)\n",
    "\n",
    "X_train, Y_train = zip(*combined)"
   ]
  },
  {
   "cell_type": "code",
   "execution_count": 12,
   "metadata": {
    "colab": {},
    "colab_type": "code",
    "id": "Lj8giZ4aUKJm"
   },
   "outputs": [],
   "source": [
    "combined = list(zip(X_test, Y_test))\n",
    "\n",
    "random.shuffle(combined)\n",
    "\n",
    "X_test, Y_test = zip(*combined)"
   ]
  },
  {
   "cell_type": "code",
   "execution_count": 13,
   "metadata": {
    "colab": {},
    "colab_type": "code",
    "id": "gzBWjiu_UL8z"
   },
   "outputs": [],
   "source": [
    "X_train=np.array(X_train)"
   ]
  },
  {
   "cell_type": "code",
   "execution_count": 14,
   "metadata": {
    "colab": {},
    "colab_type": "code",
    "id": "LEpSfp-mURGe"
   },
   "outputs": [],
   "source": [
    "Y_train=np.array(Y_train)"
   ]
  },
  {
   "cell_type": "code",
   "execution_count": 15,
   "metadata": {
    "colab": {},
    "colab_type": "code",
    "id": "vYNvhKR-USXl"
   },
   "outputs": [],
   "source": [
    "X_test=np.array(X_test)"
   ]
  },
  {
   "cell_type": "code",
   "execution_count": 16,
   "metadata": {
    "colab": {},
    "colab_type": "code",
    "id": "VTB89N2gUTv3"
   },
   "outputs": [],
   "source": [
    "Y_test=np.array(Y_test)"
   ]
  },
  {
   "cell_type": "code",
   "execution_count": 17,
   "metadata": {
    "colab": {
     "base_uri": "https://localhost:8080/",
     "height": 34
    },
    "colab_type": "code",
    "id": "ynMEksZ_UVKK",
    "outputId": "1906e561-5999-452c-9711-e8f94980eb9c"
   },
   "outputs": [
    {
     "data": {
      "text/plain": [
       "(8636, 28, 28)"
      ]
     },
     "execution_count": 17,
     "metadata": {
      "tags": []
     },
     "output_type": "execute_result"
    }
   ],
   "source": [
    "(X_train).shape"
   ]
  },
  {
   "cell_type": "code",
   "execution_count": 18,
   "metadata": {
    "colab": {},
    "colab_type": "code",
    "id": "6TQjmkSGUWmN"
   },
   "outputs": [],
   "source": [
    "X_train=1-X_train/255"
   ]
  },
  {
   "cell_type": "code",
   "execution_count": 23,
   "metadata": {
    "colab": {},
    "colab_type": "code",
    "id": "9w-DbSaXUYxc"
   },
   "outputs": [],
   "source": [
    "X_train = X_train.reshape(8636,28,28,1)"
   ]
  },
  {
   "cell_type": "code",
   "execution_count": 24,
   "metadata": {
    "colab": {
     "base_uri": "https://localhost:8080/",
     "height": 34
    },
    "colab_type": "code",
    "id": "Gq2NGOTnUZ_f",
    "outputId": "07dee587-5fa8-483e-8f6f-2a860246d9ae"
   },
   "outputs": [
    {
     "data": {
      "text/plain": [
       "(1524, 28, 28)"
      ]
     },
     "execution_count": 24,
     "metadata": {
      "tags": []
     },
     "output_type": "execute_result"
    }
   ],
   "source": [
    "(X_test).shape"
   ]
  },
  {
   "cell_type": "code",
   "execution_count": 25,
   "metadata": {
    "colab": {},
    "colab_type": "code",
    "id": "QDsxTRG0UbmT"
   },
   "outputs": [],
   "source": [
    "X_test=1-X_test/255"
   ]
  },
  {
   "cell_type": "code",
   "execution_count": 26,
   "metadata": {
    "colab": {
     "base_uri": "https://localhost:8080/",
     "height": 34
    },
    "colab_type": "code",
    "id": "l5RTngYTUdTg",
    "outputId": "99d7958f-5e79-48a3-e32f-216caabd40a4"
   },
   "outputs": [
    {
     "data": {
      "text/plain": [
       "(1524, 28, 28)"
      ]
     },
     "execution_count": 26,
     "metadata": {
      "tags": []
     },
     "output_type": "execute_result"
    }
   ],
   "source": [
    "X_test.shape"
   ]
  },
  {
   "cell_type": "code",
   "execution_count": 27,
   "metadata": {
    "colab": {},
    "colab_type": "code",
    "id": "rijASU32UfLL"
   },
   "outputs": [],
   "source": [
    "X_test = X_test.reshape(1524,28,28,1)"
   ]
  },
  {
   "cell_type": "code",
   "execution_count": 28,
   "metadata": {
    "colab": {},
    "colab_type": "code",
    "id": "kp2e_pjtUg1-"
   },
   "outputs": [],
   "source": [
    "from tensorflow.keras.utils import to_categorical"
   ]
  },
  {
   "cell_type": "code",
   "execution_count": 29,
   "metadata": {
    "colab": {},
    "colab_type": "code",
    "id": "qSZEuMAoUipQ"
   },
   "outputs": [],
   "source": [
    "Y_cat_train = to_categorical(Y_train,num_classes=10)\n",
    "Y_cat_test = to_categorical(Y_test,num_classes=10)"
   ]
  },
  {
   "cell_type": "code",
   "execution_count": 30,
   "metadata": {
    "colab": {},
    "colab_type": "code",
    "id": "eGkGNRKVUkBT"
   },
   "outputs": [],
   "source": [
    "from tensorflow.keras.models import Sequential"
   ]
  },
  {
   "cell_type": "code",
   "execution_count": 31,
   "metadata": {
    "colab": {},
    "colab_type": "code",
    "id": "L-LEvGxCUlbv"
   },
   "outputs": [],
   "source": [
    "from tensorflow.keras.layers import Dense,Conv2D,MaxPool2D,Flatten,Dropout"
   ]
  },
  {
   "cell_type": "code",
   "execution_count": 32,
   "metadata": {
    "colab": {},
    "colab_type": "code",
    "id": "s2IweMKLUnYJ"
   },
   "outputs": [],
   "source": [
    "model = Sequential()\n",
    "model.add(Conv2D(32, kernel_size=(3, 3),\n",
    "                 activation='relu',\n",
    "                 input_shape=(28,28,1)))\n",
    "model.add(Conv2D(64, (3, 3), activation='relu'))\n",
    "model.add(MaxPool2D(pool_size=(2, 2)))\n",
    "model.add(Dropout(0.25))\n",
    "model.add(Flatten())\n",
    "model.add(Dense(128, activation='relu'))\n",
    "model.add(Dropout(0.5))\n",
    "model.add(Dense(10, activation='softmax'))\n",
    "model.compile(loss='categorical_crossentropy',\n",
    "              optimizer='Adadelta',\n",
    "              metrics=['accuracy'])"
   ]
  },
  {
   "cell_type": "code",
   "execution_count": 33,
   "metadata": {
    "colab": {
     "base_uri": "https://localhost:8080/",
     "height": 425
    },
    "colab_type": "code",
    "id": "KHCIM_aIUp2j",
    "outputId": "2ff4d309-cb73-4895-df0f-43e96cfd3f80"
   },
   "outputs": [
    {
     "name": "stdout",
     "output_type": "stream",
     "text": [
      "Model: \"sequential\"\n",
      "_________________________________________________________________\n",
      "Layer (type)                 Output Shape              Param #   \n",
      "=================================================================\n",
      "conv2d (Conv2D)              (None, 26, 26, 32)        320       \n",
      "_________________________________________________________________\n",
      "conv2d_1 (Conv2D)            (None, 24, 24, 64)        18496     \n",
      "_________________________________________________________________\n",
      "max_pooling2d (MaxPooling2D) (None, 12, 12, 64)        0         \n",
      "_________________________________________________________________\n",
      "dropout (Dropout)            (None, 12, 12, 64)        0         \n",
      "_________________________________________________________________\n",
      "flatten (Flatten)            (None, 9216)              0         \n",
      "_________________________________________________________________\n",
      "dense (Dense)                (None, 128)               1179776   \n",
      "_________________________________________________________________\n",
      "dropout_1 (Dropout)          (None, 128)               0         \n",
      "_________________________________________________________________\n",
      "dense_1 (Dense)              (None, 10)                1290      \n",
      "=================================================================\n",
      "Total params: 1,199,882\n",
      "Trainable params: 1,199,882\n",
      "Non-trainable params: 0\n",
      "_________________________________________________________________\n"
     ]
    }
   ],
   "source": [
    "model.summary()"
   ]
  },
  {
   "cell_type": "code",
   "execution_count": 34,
   "metadata": {
    "colab": {},
    "colab_type": "code",
    "id": "Fh8xBmB-Ur09"
   },
   "outputs": [],
   "source": [
    "from tensorflow.keras.callbacks import EarlyStopping"
   ]
  },
  {
   "cell_type": "code",
   "execution_count": 35,
   "metadata": {
    "colab": {},
    "colab_type": "code",
    "id": "btZ1A2hYUu9a"
   },
   "outputs": [],
   "source": [
    "early_stop = EarlyStopping(monitor='val_loss',patience=1)"
   ]
  },
  {
   "cell_type": "code",
   "execution_count": 36,
   "metadata": {
    "colab": {
     "base_uri": "https://localhost:8080/",
     "height": 1000
    },
    "colab_type": "code",
    "id": "GRbrpe-fUwQP",
    "outputId": "90e48cbc-7d85-4eb6-9bb6-8caa83325062"
   },
   "outputs": [
    {
     "name": "stdout",
     "output_type": "stream",
     "text": [
      "Epoch 1/500\n",
      "270/270 [==============================] - 1s 5ms/step - loss: 2.3043 - accuracy: 0.1062 - val_loss: 2.2941 - val_accuracy: 0.1660\n",
      "Epoch 2/500\n",
      "270/270 [==============================] - 1s 4ms/step - loss: 2.2883 - accuracy: 0.1479 - val_loss: 2.2764 - val_accuracy: 0.3058\n",
      "Epoch 3/500\n",
      "270/270 [==============================] - 1s 4ms/step - loss: 2.2721 - accuracy: 0.1997 - val_loss: 2.2577 - val_accuracy: 0.4278\n",
      "Epoch 4/500\n",
      "270/270 [==============================] - 1s 4ms/step - loss: 2.2552 - accuracy: 0.2551 - val_loss: 2.2381 - val_accuracy: 0.5230\n",
      "Epoch 5/500\n",
      "270/270 [==============================] - 1s 4ms/step - loss: 2.2360 - accuracy: 0.3073 - val_loss: 2.2171 - val_accuracy: 0.6181\n",
      "Epoch 6/500\n",
      "270/270 [==============================] - 1s 4ms/step - loss: 2.2163 - accuracy: 0.3504 - val_loss: 2.1940 - val_accuracy: 0.6680\n",
      "Epoch 7/500\n",
      "270/270 [==============================] - 1s 4ms/step - loss: 2.1958 - accuracy: 0.3876 - val_loss: 2.1690 - val_accuracy: 0.7028\n",
      "Epoch 8/500\n",
      "270/270 [==============================] - 1s 4ms/step - loss: 2.1692 - accuracy: 0.4296 - val_loss: 2.1416 - val_accuracy: 0.7303\n",
      "Epoch 9/500\n",
      "270/270 [==============================] - 1s 4ms/step - loss: 2.1444 - accuracy: 0.4541 - val_loss: 2.1118 - val_accuracy: 0.7539\n",
      "Epoch 10/500\n",
      "270/270 [==============================] - 1s 4ms/step - loss: 2.1158 - accuracy: 0.4785 - val_loss: 2.0793 - val_accuracy: 0.7736\n",
      "Epoch 11/500\n",
      "270/270 [==============================] - 1s 4ms/step - loss: 2.0825 - accuracy: 0.5038 - val_loss: 2.0430 - val_accuracy: 0.7881\n",
      "Epoch 12/500\n",
      "270/270 [==============================] - 1s 4ms/step - loss: 2.0477 - accuracy: 0.5214 - val_loss: 2.0029 - val_accuracy: 0.7992\n",
      "Epoch 13/500\n",
      "270/270 [==============================] - 1s 4ms/step - loss: 2.0092 - accuracy: 0.5522 - val_loss: 1.9591 - val_accuracy: 0.8150\n",
      "Epoch 14/500\n",
      "270/270 [==============================] - 1s 4ms/step - loss: 1.9684 - accuracy: 0.5651 - val_loss: 1.9107 - val_accuracy: 0.8307\n",
      "Epoch 15/500\n",
      "270/270 [==============================] - 1s 4ms/step - loss: 1.9223 - accuracy: 0.5827 - val_loss: 1.8578 - val_accuracy: 0.8419\n",
      "Epoch 16/500\n",
      "270/270 [==============================] - 1s 4ms/step - loss: 1.8709 - accuracy: 0.6009 - val_loss: 1.8002 - val_accuracy: 0.8524\n",
      "Epoch 17/500\n",
      "270/270 [==============================] - 1s 4ms/step - loss: 1.8167 - accuracy: 0.6120 - val_loss: 1.7383 - val_accuracy: 0.8570\n",
      "Epoch 18/500\n",
      "270/270 [==============================] - 1s 4ms/step - loss: 1.7565 - accuracy: 0.6334 - val_loss: 1.6723 - val_accuracy: 0.8629\n",
      "Epoch 19/500\n",
      "270/270 [==============================] - 1s 4ms/step - loss: 1.7067 - accuracy: 0.6377 - val_loss: 1.6038 - val_accuracy: 0.8668\n",
      "Epoch 20/500\n",
      "270/270 [==============================] - 1s 4ms/step - loss: 1.6360 - accuracy: 0.6493 - val_loss: 1.5317 - val_accuracy: 0.8727\n",
      "Epoch 21/500\n",
      "270/270 [==============================] - 1s 4ms/step - loss: 1.5736 - accuracy: 0.6726 - val_loss: 1.4576 - val_accuracy: 0.8799\n",
      "Epoch 22/500\n",
      "270/270 [==============================] - 1s 4ms/step - loss: 1.5102 - accuracy: 0.6820 - val_loss: 1.3840 - val_accuracy: 0.8852\n",
      "Epoch 23/500\n",
      "270/270 [==============================] - 1s 4ms/step - loss: 1.4434 - accuracy: 0.6875 - val_loss: 1.3102 - val_accuracy: 0.8865\n",
      "Epoch 24/500\n",
      "270/270 [==============================] - 1s 4ms/step - loss: 1.3811 - accuracy: 0.6995 - val_loss: 1.2379 - val_accuracy: 0.8898\n",
      "Epoch 25/500\n",
      "270/270 [==============================] - 1s 4ms/step - loss: 1.3215 - accuracy: 0.7097 - val_loss: 1.1684 - val_accuracy: 0.8930\n",
      "Epoch 26/500\n",
      "270/270 [==============================] - 1s 4ms/step - loss: 1.2642 - accuracy: 0.7184 - val_loss: 1.1015 - val_accuracy: 0.8950\n",
      "Epoch 27/500\n",
      "270/270 [==============================] - 1s 4ms/step - loss: 1.2007 - accuracy: 0.7360 - val_loss: 1.0377 - val_accuracy: 0.8957\n",
      "Epoch 28/500\n",
      "270/270 [==============================] - 1s 4ms/step - loss: 1.1604 - accuracy: 0.7371 - val_loss: 0.9789 - val_accuracy: 0.8983\n",
      "Epoch 29/500\n",
      "270/270 [==============================] - 1s 4ms/step - loss: 1.0992 - accuracy: 0.7481 - val_loss: 0.9236 - val_accuracy: 0.9029\n",
      "Epoch 30/500\n",
      "270/270 [==============================] - 1s 4ms/step - loss: 1.0606 - accuracy: 0.7546 - val_loss: 0.8722 - val_accuracy: 0.9042\n",
      "Epoch 31/500\n",
      "270/270 [==============================] - 1s 4ms/step - loss: 1.0142 - accuracy: 0.7559 - val_loss: 0.8250 - val_accuracy: 0.9055\n",
      "Epoch 32/500\n",
      "270/270 [==============================] - 1s 4ms/step - loss: 0.9751 - accuracy: 0.7634 - val_loss: 0.7823 - val_accuracy: 0.9075\n",
      "Epoch 33/500\n",
      "270/270 [==============================] - 1s 4ms/step - loss: 0.9384 - accuracy: 0.7767 - val_loss: 0.7426 - val_accuracy: 0.9075\n",
      "Epoch 34/500\n",
      "270/270 [==============================] - 1s 4ms/step - loss: 0.8969 - accuracy: 0.7820 - val_loss: 0.7059 - val_accuracy: 0.9101\n",
      "Epoch 35/500\n",
      "270/270 [==============================] - 1s 4ms/step - loss: 0.8665 - accuracy: 0.7930 - val_loss: 0.6727 - val_accuracy: 0.9114\n",
      "Epoch 36/500\n",
      "270/270 [==============================] - 1s 4ms/step - loss: 0.8354 - accuracy: 0.7982 - val_loss: 0.6419 - val_accuracy: 0.9121\n",
      "Epoch 37/500\n",
      "270/270 [==============================] - 1s 4ms/step - loss: 0.8153 - accuracy: 0.8033 - val_loss: 0.6141 - val_accuracy: 0.9134\n",
      "Epoch 38/500\n",
      "270/270 [==============================] - 1s 4ms/step - loss: 0.7753 - accuracy: 0.8109 - val_loss: 0.5875 - val_accuracy: 0.9127\n",
      "Epoch 39/500\n",
      "270/270 [==============================] - 1s 4ms/step - loss: 0.7686 - accuracy: 0.8072 - val_loss: 0.5640 - val_accuracy: 0.9147\n",
      "Epoch 40/500\n",
      "270/270 [==============================] - 1s 4ms/step - loss: 0.7347 - accuracy: 0.8211 - val_loss: 0.5421 - val_accuracy: 0.9154\n",
      "Epoch 41/500\n",
      "270/270 [==============================] - 1s 4ms/step - loss: 0.7090 - accuracy: 0.8277 - val_loss: 0.5216 - val_accuracy: 0.9180\n",
      "Epoch 42/500\n",
      "270/270 [==============================] - 1s 4ms/step - loss: 0.6791 - accuracy: 0.8345 - val_loss: 0.5029 - val_accuracy: 0.9167\n",
      "Epoch 43/500\n",
      "270/270 [==============================] - 1s 4ms/step - loss: 0.6783 - accuracy: 0.8316 - val_loss: 0.4856 - val_accuracy: 0.9199\n",
      "Epoch 44/500\n",
      "270/270 [==============================] - 1s 4ms/step - loss: 0.6539 - accuracy: 0.8379 - val_loss: 0.4697 - val_accuracy: 0.9199\n",
      "Epoch 45/500\n",
      "270/270 [==============================] - 1s 4ms/step - loss: 0.6378 - accuracy: 0.8418 - val_loss: 0.4556 - val_accuracy: 0.9219\n",
      "Epoch 46/500\n",
      "270/270 [==============================] - 1s 4ms/step - loss: 0.6227 - accuracy: 0.8411 - val_loss: 0.4422 - val_accuracy: 0.9219\n",
      "Epoch 47/500\n",
      "270/270 [==============================] - 1s 4ms/step - loss: 0.6072 - accuracy: 0.8497 - val_loss: 0.4295 - val_accuracy: 0.9232\n",
      "Epoch 48/500\n",
      "270/270 [==============================] - 1s 4ms/step - loss: 0.5963 - accuracy: 0.8517 - val_loss: 0.4181 - val_accuracy: 0.9239\n",
      "Epoch 49/500\n",
      "270/270 [==============================] - 1s 4ms/step - loss: 0.5859 - accuracy: 0.8510 - val_loss: 0.4072 - val_accuracy: 0.9239\n",
      "Epoch 50/500\n",
      "270/270 [==============================] - 1s 4ms/step - loss: 0.5742 - accuracy: 0.8547 - val_loss: 0.3977 - val_accuracy: 0.9232\n",
      "Epoch 51/500\n",
      "270/270 [==============================] - 1s 4ms/step - loss: 0.5558 - accuracy: 0.8583 - val_loss: 0.3878 - val_accuracy: 0.9232\n",
      "Epoch 52/500\n",
      "270/270 [==============================] - 1s 4ms/step - loss: 0.5529 - accuracy: 0.8586 - val_loss: 0.3791 - val_accuracy: 0.9232\n",
      "Epoch 53/500\n",
      "270/270 [==============================] - 1s 4ms/step - loss: 0.5400 - accuracy: 0.8646 - val_loss: 0.3711 - val_accuracy: 0.9232\n",
      "Epoch 54/500\n",
      "270/270 [==============================] - 1s 4ms/step - loss: 0.5277 - accuracy: 0.8690 - val_loss: 0.3630 - val_accuracy: 0.9226\n",
      "Epoch 55/500\n",
      "270/270 [==============================] - 1s 4ms/step - loss: 0.5236 - accuracy: 0.8675 - val_loss: 0.3560 - val_accuracy: 0.9245\n",
      "Epoch 56/500\n",
      "270/270 [==============================] - 1s 4ms/step - loss: 0.5042 - accuracy: 0.8739 - val_loss: 0.3488 - val_accuracy: 0.9245\n",
      "Epoch 57/500\n",
      "270/270 [==============================] - 1s 4ms/step - loss: 0.4988 - accuracy: 0.8767 - val_loss: 0.3423 - val_accuracy: 0.9259\n",
      "Epoch 58/500\n",
      "270/270 [==============================] - 1s 4ms/step - loss: 0.5010 - accuracy: 0.8736 - val_loss: 0.3364 - val_accuracy: 0.9259\n",
      "Epoch 59/500\n",
      "270/270 [==============================] - 1s 4ms/step - loss: 0.4876 - accuracy: 0.8700 - val_loss: 0.3309 - val_accuracy: 0.9252\n",
      "Epoch 60/500\n",
      "270/270 [==============================] - 1s 4ms/step - loss: 0.4872 - accuracy: 0.8781 - val_loss: 0.3256 - val_accuracy: 0.9259\n",
      "Epoch 61/500\n",
      "270/270 [==============================] - 1s 4ms/step - loss: 0.4720 - accuracy: 0.8814 - val_loss: 0.3206 - val_accuracy: 0.9259\n",
      "Epoch 62/500\n",
      "270/270 [==============================] - 1s 4ms/step - loss: 0.4666 - accuracy: 0.8784 - val_loss: 0.3158 - val_accuracy: 0.9259\n",
      "Epoch 63/500\n",
      "270/270 [==============================] - 1s 4ms/step - loss: 0.4653 - accuracy: 0.8806 - val_loss: 0.3113 - val_accuracy: 0.9259\n",
      "Epoch 64/500\n",
      "270/270 [==============================] - 1s 4ms/step - loss: 0.4485 - accuracy: 0.8873 - val_loss: 0.3065 - val_accuracy: 0.9259\n",
      "Epoch 65/500\n",
      "270/270 [==============================] - 1s 4ms/step - loss: 0.4582 - accuracy: 0.8832 - val_loss: 0.3025 - val_accuracy: 0.9252\n",
      "Epoch 66/500\n",
      "270/270 [==============================] - 1s 4ms/step - loss: 0.4434 - accuracy: 0.8865 - val_loss: 0.2984 - val_accuracy: 0.9252\n",
      "Epoch 67/500\n",
      "270/270 [==============================] - 1s 4ms/step - loss: 0.4398 - accuracy: 0.8856 - val_loss: 0.2947 - val_accuracy: 0.9265\n",
      "Epoch 68/500\n",
      "270/270 [==============================] - 1s 4ms/step - loss: 0.4259 - accuracy: 0.8924 - val_loss: 0.2910 - val_accuracy: 0.9272\n",
      "Epoch 69/500\n",
      "270/270 [==============================] - 1s 4ms/step - loss: 0.4273 - accuracy: 0.8865 - val_loss: 0.2875 - val_accuracy: 0.9272\n",
      "Epoch 70/500\n",
      "270/270 [==============================] - 1s 4ms/step - loss: 0.4147 - accuracy: 0.8934 - val_loss: 0.2844 - val_accuracy: 0.9272\n",
      "Epoch 71/500\n",
      "270/270 [==============================] - 1s 4ms/step - loss: 0.4189 - accuracy: 0.8913 - val_loss: 0.2810 - val_accuracy: 0.9291\n",
      "Epoch 72/500\n",
      "270/270 [==============================] - 1s 4ms/step - loss: 0.4103 - accuracy: 0.8936 - val_loss: 0.2777 - val_accuracy: 0.9291\n",
      "Epoch 73/500\n",
      "270/270 [==============================] - 1s 4ms/step - loss: 0.4094 - accuracy: 0.8917 - val_loss: 0.2748 - val_accuracy: 0.9291\n",
      "Epoch 74/500\n",
      "270/270 [==============================] - 1s 4ms/step - loss: 0.4060 - accuracy: 0.8925 - val_loss: 0.2719 - val_accuracy: 0.9304\n",
      "Epoch 75/500\n",
      "270/270 [==============================] - 1s 4ms/step - loss: 0.4007 - accuracy: 0.8942 - val_loss: 0.2693 - val_accuracy: 0.9318\n",
      "Epoch 76/500\n",
      "270/270 [==============================] - 1s 4ms/step - loss: 0.3905 - accuracy: 0.8974 - val_loss: 0.2661 - val_accuracy: 0.9318\n",
      "Epoch 77/500\n",
      "270/270 [==============================] - 1s 4ms/step - loss: 0.3904 - accuracy: 0.9000 - val_loss: 0.2635 - val_accuracy: 0.9337\n",
      "Epoch 78/500\n",
      "270/270 [==============================] - 1s 4ms/step - loss: 0.3946 - accuracy: 0.8984 - val_loss: 0.2612 - val_accuracy: 0.9331\n",
      "Epoch 79/500\n",
      "270/270 [==============================] - 1s 4ms/step - loss: 0.3756 - accuracy: 0.9025 - val_loss: 0.2591 - val_accuracy: 0.9337\n",
      "Epoch 80/500\n",
      "270/270 [==============================] - 1s 4ms/step - loss: 0.3756 - accuracy: 0.9028 - val_loss: 0.2564 - val_accuracy: 0.9337\n",
      "Epoch 81/500\n",
      "270/270 [==============================] - 1s 4ms/step - loss: 0.3806 - accuracy: 0.9015 - val_loss: 0.2543 - val_accuracy: 0.9344\n",
      "Epoch 82/500\n",
      "270/270 [==============================] - 1s 4ms/step - loss: 0.3756 - accuracy: 0.9039 - val_loss: 0.2523 - val_accuracy: 0.9344\n",
      "Epoch 83/500\n",
      "270/270 [==============================] - 1s 4ms/step - loss: 0.3679 - accuracy: 0.9020 - val_loss: 0.2501 - val_accuracy: 0.9344\n",
      "Epoch 84/500\n",
      "270/270 [==============================] - 1s 4ms/step - loss: 0.3693 - accuracy: 0.9009 - val_loss: 0.2476 - val_accuracy: 0.9357\n",
      "Epoch 85/500\n",
      "270/270 [==============================] - 1s 4ms/step - loss: 0.3603 - accuracy: 0.9052 - val_loss: 0.2457 - val_accuracy: 0.9357\n",
      "Epoch 86/500\n",
      "270/270 [==============================] - 1s 4ms/step - loss: 0.3677 - accuracy: 0.9059 - val_loss: 0.2438 - val_accuracy: 0.9370\n",
      "Epoch 87/500\n",
      "270/270 [==============================] - 1s 4ms/step - loss: 0.3583 - accuracy: 0.9038 - val_loss: 0.2420 - val_accuracy: 0.9370\n",
      "Epoch 88/500\n",
      "270/270 [==============================] - 1s 4ms/step - loss: 0.3597 - accuracy: 0.9045 - val_loss: 0.2401 - val_accuracy: 0.9370\n",
      "Epoch 89/500\n",
      "270/270 [==============================] - 1s 4ms/step - loss: 0.3513 - accuracy: 0.9041 - val_loss: 0.2382 - val_accuracy: 0.9364\n",
      "Epoch 90/500\n",
      "270/270 [==============================] - 1s 4ms/step - loss: 0.3490 - accuracy: 0.9083 - val_loss: 0.2363 - val_accuracy: 0.9370\n",
      "Epoch 91/500\n",
      "270/270 [==============================] - 1s 4ms/step - loss: 0.3403 - accuracy: 0.9070 - val_loss: 0.2344 - val_accuracy: 0.9370\n",
      "Epoch 92/500\n",
      "270/270 [==============================] - 1s 4ms/step - loss: 0.3424 - accuracy: 0.9099 - val_loss: 0.2328 - val_accuracy: 0.9370\n",
      "Epoch 93/500\n",
      "270/270 [==============================] - 1s 4ms/step - loss: 0.3438 - accuracy: 0.9089 - val_loss: 0.2314 - val_accuracy: 0.9383\n",
      "Epoch 94/500\n",
      "270/270 [==============================] - 1s 4ms/step - loss: 0.3448 - accuracy: 0.9092 - val_loss: 0.2300 - val_accuracy: 0.9390\n",
      "Epoch 95/500\n",
      "270/270 [==============================] - 1s 4ms/step - loss: 0.3399 - accuracy: 0.9079 - val_loss: 0.2283 - val_accuracy: 0.9390\n",
      "Epoch 96/500\n",
      "270/270 [==============================] - 1s 4ms/step - loss: 0.3364 - accuracy: 0.9079 - val_loss: 0.2268 - val_accuracy: 0.9390\n",
      "Epoch 97/500\n",
      "270/270 [==============================] - 1s 4ms/step - loss: 0.3315 - accuracy: 0.9085 - val_loss: 0.2256 - val_accuracy: 0.9396\n",
      "Epoch 98/500\n",
      "270/270 [==============================] - 1s 4ms/step - loss: 0.3307 - accuracy: 0.9135 - val_loss: 0.2240 - val_accuracy: 0.9390\n",
      "Epoch 99/500\n",
      "270/270 [==============================] - 1s 4ms/step - loss: 0.3324 - accuracy: 0.9116 - val_loss: 0.2225 - val_accuracy: 0.9409\n",
      "Epoch 100/500\n",
      "270/270 [==============================] - 1s 4ms/step - loss: 0.3213 - accuracy: 0.9111 - val_loss: 0.2213 - val_accuracy: 0.9383\n",
      "Epoch 101/500\n",
      "270/270 [==============================] - 1s 4ms/step - loss: 0.3307 - accuracy: 0.9137 - val_loss: 0.2198 - val_accuracy: 0.9390\n",
      "Epoch 102/500\n",
      "270/270 [==============================] - 1s 4ms/step - loss: 0.3232 - accuracy: 0.9130 - val_loss: 0.2185 - val_accuracy: 0.9396\n",
      "Epoch 103/500\n",
      "270/270 [==============================] - 1s 4ms/step - loss: 0.3235 - accuracy: 0.9118 - val_loss: 0.2174 - val_accuracy: 0.9396\n",
      "Epoch 104/500\n",
      "270/270 [==============================] - 1s 4ms/step - loss: 0.3248 - accuracy: 0.9112 - val_loss: 0.2161 - val_accuracy: 0.9403\n",
      "Epoch 105/500\n",
      "270/270 [==============================] - 1s 4ms/step - loss: 0.3209 - accuracy: 0.9129 - val_loss: 0.2148 - val_accuracy: 0.9423\n",
      "Epoch 106/500\n",
      "270/270 [==============================] - 1s 4ms/step - loss: 0.3154 - accuracy: 0.9154 - val_loss: 0.2135 - val_accuracy: 0.9423\n",
      "Epoch 107/500\n",
      "270/270 [==============================] - 1s 4ms/step - loss: 0.3160 - accuracy: 0.9178 - val_loss: 0.2121 - val_accuracy: 0.9429\n",
      "Epoch 108/500\n",
      "270/270 [==============================] - 1s 4ms/step - loss: 0.3099 - accuracy: 0.9152 - val_loss: 0.2110 - val_accuracy: 0.9436\n",
      "Epoch 109/500\n",
      "270/270 [==============================] - 1s 4ms/step - loss: 0.3184 - accuracy: 0.9143 - val_loss: 0.2103 - val_accuracy: 0.9436\n",
      "Epoch 110/500\n",
      "270/270 [==============================] - 1s 4ms/step - loss: 0.3108 - accuracy: 0.9202 - val_loss: 0.2089 - val_accuracy: 0.9436\n",
      "Epoch 111/500\n",
      "270/270 [==============================] - 1s 4ms/step - loss: 0.3019 - accuracy: 0.9193 - val_loss: 0.2078 - val_accuracy: 0.9449\n",
      "Epoch 112/500\n",
      "270/270 [==============================] - 1s 4ms/step - loss: 0.3096 - accuracy: 0.9152 - val_loss: 0.2067 - val_accuracy: 0.9449\n",
      "Epoch 113/500\n",
      "270/270 [==============================] - 1s 4ms/step - loss: 0.3042 - accuracy: 0.9173 - val_loss: 0.2054 - val_accuracy: 0.9449\n",
      "Epoch 114/500\n",
      "270/270 [==============================] - 1s 4ms/step - loss: 0.3084 - accuracy: 0.9151 - val_loss: 0.2045 - val_accuracy: 0.9455\n",
      "Epoch 115/500\n",
      "270/270 [==============================] - 1s 4ms/step - loss: 0.3045 - accuracy: 0.9147 - val_loss: 0.2035 - val_accuracy: 0.9455\n",
      "Epoch 116/500\n",
      "270/270 [==============================] - 1s 4ms/step - loss: 0.2997 - accuracy: 0.9211 - val_loss: 0.2024 - val_accuracy: 0.9462\n",
      "Epoch 117/500\n",
      "270/270 [==============================] - 1s 4ms/step - loss: 0.2951 - accuracy: 0.9191 - val_loss: 0.2014 - val_accuracy: 0.9462\n",
      "Epoch 118/500\n",
      "270/270 [==============================] - 1s 4ms/step - loss: 0.2971 - accuracy: 0.9198 - val_loss: 0.2004 - val_accuracy: 0.9449\n",
      "Epoch 119/500\n",
      "270/270 [==============================] - 1s 4ms/step - loss: 0.2984 - accuracy: 0.9174 - val_loss: 0.1993 - val_accuracy: 0.9469\n",
      "Epoch 120/500\n",
      "270/270 [==============================] - 1s 4ms/step - loss: 0.2990 - accuracy: 0.9192 - val_loss: 0.1983 - val_accuracy: 0.9449\n",
      "Epoch 121/500\n",
      "270/270 [==============================] - 1s 4ms/step - loss: 0.2900 - accuracy: 0.9216 - val_loss: 0.1972 - val_accuracy: 0.9449\n",
      "Epoch 122/500\n",
      "270/270 [==============================] - 1s 4ms/step - loss: 0.2941 - accuracy: 0.9207 - val_loss: 0.1964 - val_accuracy: 0.9462\n",
      "Epoch 123/500\n",
      "270/270 [==============================] - 1s 4ms/step - loss: 0.2948 - accuracy: 0.9206 - val_loss: 0.1954 - val_accuracy: 0.9469\n",
      "Epoch 124/500\n",
      "270/270 [==============================] - 1s 4ms/step - loss: 0.2901 - accuracy: 0.9214 - val_loss: 0.1947 - val_accuracy: 0.9469\n",
      "Epoch 125/500\n",
      "270/270 [==============================] - 1s 4ms/step - loss: 0.2891 - accuracy: 0.9203 - val_loss: 0.1941 - val_accuracy: 0.9462\n",
      "Epoch 126/500\n",
      "270/270 [==============================] - 1s 4ms/step - loss: 0.2881 - accuracy: 0.9209 - val_loss: 0.1931 - val_accuracy: 0.9462\n",
      "Epoch 127/500\n",
      "270/270 [==============================] - 1s 4ms/step - loss: 0.2781 - accuracy: 0.9254 - val_loss: 0.1920 - val_accuracy: 0.9469\n",
      "Epoch 128/500\n",
      "270/270 [==============================] - 1s 4ms/step - loss: 0.2813 - accuracy: 0.9251 - val_loss: 0.1912 - val_accuracy: 0.9455\n",
      "Epoch 129/500\n",
      "270/270 [==============================] - 1s 4ms/step - loss: 0.2780 - accuracy: 0.9255 - val_loss: 0.1903 - val_accuracy: 0.9462\n",
      "Epoch 130/500\n",
      "270/270 [==============================] - 1s 4ms/step - loss: 0.2765 - accuracy: 0.9244 - val_loss: 0.1897 - val_accuracy: 0.9469\n",
      "Epoch 131/500\n",
      "270/270 [==============================] - 1s 4ms/step - loss: 0.2781 - accuracy: 0.9254 - val_loss: 0.1889 - val_accuracy: 0.9482\n",
      "Epoch 132/500\n",
      "270/270 [==============================] - 1s 4ms/step - loss: 0.2714 - accuracy: 0.9244 - val_loss: 0.1878 - val_accuracy: 0.9482\n",
      "Epoch 133/500\n",
      "270/270 [==============================] - 1s 4ms/step - loss: 0.2760 - accuracy: 0.9237 - val_loss: 0.1868 - val_accuracy: 0.9488\n",
      "Epoch 134/500\n",
      "270/270 [==============================] - 1s 4ms/step - loss: 0.2736 - accuracy: 0.9243 - val_loss: 0.1862 - val_accuracy: 0.9488\n",
      "Epoch 135/500\n",
      "270/270 [==============================] - 1s 4ms/step - loss: 0.2737 - accuracy: 0.9274 - val_loss: 0.1853 - val_accuracy: 0.9488\n",
      "Epoch 136/500\n",
      "270/270 [==============================] - 1s 4ms/step - loss: 0.2696 - accuracy: 0.9250 - val_loss: 0.1845 - val_accuracy: 0.9495\n",
      "Epoch 137/500\n",
      "270/270 [==============================] - 1s 4ms/step - loss: 0.2740 - accuracy: 0.9244 - val_loss: 0.1839 - val_accuracy: 0.9488\n",
      "Epoch 138/500\n",
      "270/270 [==============================] - 1s 4ms/step - loss: 0.2655 - accuracy: 0.9252 - val_loss: 0.1833 - val_accuracy: 0.9488\n",
      "Epoch 139/500\n",
      "270/270 [==============================] - 1s 4ms/step - loss: 0.2657 - accuracy: 0.9302 - val_loss: 0.1824 - val_accuracy: 0.9482\n",
      "Epoch 140/500\n",
      "270/270 [==============================] - 1s 4ms/step - loss: 0.2699 - accuracy: 0.9242 - val_loss: 0.1817 - val_accuracy: 0.9501\n",
      "Epoch 141/500\n",
      "270/270 [==============================] - 1s 4ms/step - loss: 0.2656 - accuracy: 0.9264 - val_loss: 0.1810 - val_accuracy: 0.9495\n",
      "Epoch 142/500\n",
      "270/270 [==============================] - 1s 4ms/step - loss: 0.2609 - accuracy: 0.9268 - val_loss: 0.1805 - val_accuracy: 0.9495\n",
      "Epoch 143/500\n",
      "270/270 [==============================] - 1s 4ms/step - loss: 0.2655 - accuracy: 0.9274 - val_loss: 0.1796 - val_accuracy: 0.9495\n",
      "Epoch 144/500\n",
      "270/270 [==============================] - 1s 4ms/step - loss: 0.2698 - accuracy: 0.9235 - val_loss: 0.1788 - val_accuracy: 0.9501\n",
      "Epoch 145/500\n",
      "270/270 [==============================] - 1s 4ms/step - loss: 0.2601 - accuracy: 0.9283 - val_loss: 0.1783 - val_accuracy: 0.9501\n",
      "Epoch 146/500\n",
      "270/270 [==============================] - 1s 4ms/step - loss: 0.2601 - accuracy: 0.9301 - val_loss: 0.1776 - val_accuracy: 0.9508\n",
      "Epoch 147/500\n",
      "270/270 [==============================] - 1s 4ms/step - loss: 0.2636 - accuracy: 0.9289 - val_loss: 0.1771 - val_accuracy: 0.9508\n",
      "Epoch 148/500\n",
      "270/270 [==============================] - 1s 4ms/step - loss: 0.2575 - accuracy: 0.9308 - val_loss: 0.1763 - val_accuracy: 0.9508\n",
      "Epoch 149/500\n",
      "270/270 [==============================] - 1s 4ms/step - loss: 0.2606 - accuracy: 0.9257 - val_loss: 0.1757 - val_accuracy: 0.9508\n",
      "Epoch 150/500\n",
      "270/270 [==============================] - 1s 4ms/step - loss: 0.2552 - accuracy: 0.9282 - val_loss: 0.1752 - val_accuracy: 0.9508\n",
      "Epoch 151/500\n",
      "270/270 [==============================] - 1s 4ms/step - loss: 0.2578 - accuracy: 0.9289 - val_loss: 0.1746 - val_accuracy: 0.9514\n",
      "Epoch 152/500\n",
      "270/270 [==============================] - 1s 4ms/step - loss: 0.2529 - accuracy: 0.9299 - val_loss: 0.1739 - val_accuracy: 0.9514\n",
      "Epoch 153/500\n",
      "270/270 [==============================] - 1s 4ms/step - loss: 0.2580 - accuracy: 0.9286 - val_loss: 0.1733 - val_accuracy: 0.9514\n",
      "Epoch 154/500\n",
      "270/270 [==============================] - 1s 4ms/step - loss: 0.2549 - accuracy: 0.9291 - val_loss: 0.1726 - val_accuracy: 0.9508\n",
      "Epoch 155/500\n",
      "270/270 [==============================] - 1s 4ms/step - loss: 0.2630 - accuracy: 0.9276 - val_loss: 0.1722 - val_accuracy: 0.9508\n",
      "Epoch 156/500\n",
      "270/270 [==============================] - 1s 4ms/step - loss: 0.2538 - accuracy: 0.9291 - val_loss: 0.1714 - val_accuracy: 0.9508\n",
      "Epoch 157/500\n",
      "270/270 [==============================] - 1s 4ms/step - loss: 0.2581 - accuracy: 0.9260 - val_loss: 0.1710 - val_accuracy: 0.9514\n",
      "Epoch 158/500\n",
      "270/270 [==============================] - 1s 4ms/step - loss: 0.2503 - accuracy: 0.9292 - val_loss: 0.1706 - val_accuracy: 0.9508\n",
      "Epoch 159/500\n",
      "270/270 [==============================] - 1s 4ms/step - loss: 0.2441 - accuracy: 0.9303 - val_loss: 0.1701 - val_accuracy: 0.9521\n",
      "Epoch 160/500\n",
      "270/270 [==============================] - 1s 4ms/step - loss: 0.2453 - accuracy: 0.9305 - val_loss: 0.1694 - val_accuracy: 0.9521\n",
      "Epoch 161/500\n",
      "270/270 [==============================] - 1s 4ms/step - loss: 0.2488 - accuracy: 0.9303 - val_loss: 0.1686 - val_accuracy: 0.9521\n",
      "Epoch 162/500\n",
      "270/270 [==============================] - 1s 4ms/step - loss: 0.2555 - accuracy: 0.9267 - val_loss: 0.1680 - val_accuracy: 0.9528\n",
      "Epoch 163/500\n",
      "270/270 [==============================] - 1s 4ms/step - loss: 0.2491 - accuracy: 0.9279 - val_loss: 0.1675 - val_accuracy: 0.9508\n",
      "Epoch 164/500\n",
      "270/270 [==============================] - 1s 4ms/step - loss: 0.2512 - accuracy: 0.9291 - val_loss: 0.1671 - val_accuracy: 0.9508\n",
      "Epoch 165/500\n",
      "270/270 [==============================] - 1s 4ms/step - loss: 0.2410 - accuracy: 0.9333 - val_loss: 0.1664 - val_accuracy: 0.9514\n",
      "Epoch 166/500\n",
      "270/270 [==============================] - 1s 4ms/step - loss: 0.2441 - accuracy: 0.9326 - val_loss: 0.1658 - val_accuracy: 0.9514\n",
      "Epoch 167/500\n",
      "270/270 [==============================] - 1s 4ms/step - loss: 0.2463 - accuracy: 0.9309 - val_loss: 0.1655 - val_accuracy: 0.9528\n",
      "Epoch 168/500\n",
      "270/270 [==============================] - 1s 4ms/step - loss: 0.2399 - accuracy: 0.9333 - val_loss: 0.1648 - val_accuracy: 0.9521\n",
      "Epoch 169/500\n",
      "270/270 [==============================] - 1s 4ms/step - loss: 0.2422 - accuracy: 0.9317 - val_loss: 0.1644 - val_accuracy: 0.9528\n",
      "Epoch 170/500\n",
      "270/270 [==============================] - 1s 4ms/step - loss: 0.2445 - accuracy: 0.9321 - val_loss: 0.1639 - val_accuracy: 0.9528\n",
      "Epoch 171/500\n",
      "270/270 [==============================] - 1s 4ms/step - loss: 0.2414 - accuracy: 0.9314 - val_loss: 0.1636 - val_accuracy: 0.9528\n",
      "Epoch 172/500\n",
      "270/270 [==============================] - 1s 4ms/step - loss: 0.2437 - accuracy: 0.9313 - val_loss: 0.1630 - val_accuracy: 0.9528\n",
      "Epoch 173/500\n",
      "270/270 [==============================] - 1s 4ms/step - loss: 0.2315 - accuracy: 0.9340 - val_loss: 0.1626 - val_accuracy: 0.9534\n",
      "Epoch 174/500\n",
      "270/270 [==============================] - 1s 4ms/step - loss: 0.2376 - accuracy: 0.9320 - val_loss: 0.1620 - val_accuracy: 0.9534\n",
      "Epoch 175/500\n",
      "270/270 [==============================] - 1s 4ms/step - loss: 0.2347 - accuracy: 0.9350 - val_loss: 0.1616 - val_accuracy: 0.9534\n",
      "Epoch 176/500\n",
      "270/270 [==============================] - 1s 4ms/step - loss: 0.2422 - accuracy: 0.9327 - val_loss: 0.1612 - val_accuracy: 0.9534\n",
      "Epoch 177/500\n",
      "270/270 [==============================] - 1s 4ms/step - loss: 0.2364 - accuracy: 0.9304 - val_loss: 0.1607 - val_accuracy: 0.9534\n",
      "Epoch 178/500\n",
      "270/270 [==============================] - 1s 4ms/step - loss: 0.2392 - accuracy: 0.9306 - val_loss: 0.1603 - val_accuracy: 0.9534\n",
      "Epoch 179/500\n",
      "270/270 [==============================] - 1s 4ms/step - loss: 0.2279 - accuracy: 0.9349 - val_loss: 0.1598 - val_accuracy: 0.9528\n",
      "Epoch 180/500\n",
      "270/270 [==============================] - 1s 4ms/step - loss: 0.2300 - accuracy: 0.9340 - val_loss: 0.1594 - val_accuracy: 0.9547\n",
      "Epoch 181/500\n",
      "270/270 [==============================] - 1s 4ms/step - loss: 0.2243 - accuracy: 0.9358 - val_loss: 0.1588 - val_accuracy: 0.9547\n",
      "Epoch 182/500\n",
      "270/270 [==============================] - 1s 4ms/step - loss: 0.2331 - accuracy: 0.9331 - val_loss: 0.1585 - val_accuracy: 0.9547\n",
      "Epoch 183/500\n",
      "270/270 [==============================] - 1s 4ms/step - loss: 0.2345 - accuracy: 0.9364 - val_loss: 0.1579 - val_accuracy: 0.9547\n",
      "Epoch 184/500\n",
      "270/270 [==============================] - 1s 4ms/step - loss: 0.2302 - accuracy: 0.9324 - val_loss: 0.1574 - val_accuracy: 0.9547\n",
      "Epoch 185/500\n",
      "270/270 [==============================] - 1s 4ms/step - loss: 0.2343 - accuracy: 0.9356 - val_loss: 0.1569 - val_accuracy: 0.9541\n",
      "Epoch 186/500\n",
      "270/270 [==============================] - 1s 4ms/step - loss: 0.2322 - accuracy: 0.9331 - val_loss: 0.1566 - val_accuracy: 0.9547\n",
      "Epoch 187/500\n",
      "270/270 [==============================] - 1s 4ms/step - loss: 0.2235 - accuracy: 0.9383 - val_loss: 0.1561 - val_accuracy: 0.9547\n",
      "Epoch 188/500\n",
      "270/270 [==============================] - 1s 4ms/step - loss: 0.2329 - accuracy: 0.9338 - val_loss: 0.1556 - val_accuracy: 0.9547\n",
      "Epoch 189/500\n",
      "270/270 [==============================] - 1s 4ms/step - loss: 0.2286 - accuracy: 0.9339 - val_loss: 0.1553 - val_accuracy: 0.9547\n",
      "Epoch 190/500\n",
      "270/270 [==============================] - 1s 4ms/step - loss: 0.2315 - accuracy: 0.9363 - val_loss: 0.1546 - val_accuracy: 0.9554\n",
      "Epoch 191/500\n",
      "270/270 [==============================] - 1s 4ms/step - loss: 0.2331 - accuracy: 0.9339 - val_loss: 0.1545 - val_accuracy: 0.9547\n",
      "Epoch 192/500\n",
      "270/270 [==============================] - 1s 4ms/step - loss: 0.2235 - accuracy: 0.9361 - val_loss: 0.1540 - val_accuracy: 0.9554\n",
      "Epoch 193/500\n",
      "270/270 [==============================] - 1s 4ms/step - loss: 0.2259 - accuracy: 0.9346 - val_loss: 0.1534 - val_accuracy: 0.9554\n",
      "Epoch 194/500\n",
      "270/270 [==============================] - 1s 4ms/step - loss: 0.2297 - accuracy: 0.9345 - val_loss: 0.1530 - val_accuracy: 0.9554\n",
      "Epoch 195/500\n",
      "270/270 [==============================] - 1s 4ms/step - loss: 0.2227 - accuracy: 0.9363 - val_loss: 0.1525 - val_accuracy: 0.9554\n",
      "Epoch 196/500\n",
      "270/270 [==============================] - 1s 4ms/step - loss: 0.2222 - accuracy: 0.9339 - val_loss: 0.1522 - val_accuracy: 0.9554\n",
      "Epoch 197/500\n",
      "270/270 [==============================] - 1s 4ms/step - loss: 0.2272 - accuracy: 0.9345 - val_loss: 0.1519 - val_accuracy: 0.9567\n",
      "Epoch 198/500\n",
      "270/270 [==============================] - 1s 4ms/step - loss: 0.2283 - accuracy: 0.9340 - val_loss: 0.1515 - val_accuracy: 0.9560\n",
      "Epoch 199/500\n",
      "270/270 [==============================] - 1s 4ms/step - loss: 0.2205 - accuracy: 0.9394 - val_loss: 0.1513 - val_accuracy: 0.9560\n",
      "Epoch 200/500\n",
      "270/270 [==============================] - 1s 4ms/step - loss: 0.2267 - accuracy: 0.9352 - val_loss: 0.1509 - val_accuracy: 0.9560\n",
      "Epoch 201/500\n",
      "270/270 [==============================] - 1s 4ms/step - loss: 0.2280 - accuracy: 0.9330 - val_loss: 0.1507 - val_accuracy: 0.9560\n",
      "Epoch 202/500\n",
      "270/270 [==============================] - 1s 4ms/step - loss: 0.2182 - accuracy: 0.9369 - val_loss: 0.1502 - val_accuracy: 0.9554\n",
      "Epoch 203/500\n",
      "270/270 [==============================] - 1s 4ms/step - loss: 0.2267 - accuracy: 0.9350 - val_loss: 0.1499 - val_accuracy: 0.9560\n",
      "Epoch 204/500\n",
      "270/270 [==============================] - 1s 4ms/step - loss: 0.2173 - accuracy: 0.9375 - val_loss: 0.1497 - val_accuracy: 0.9560\n",
      "Epoch 205/500\n",
      "270/270 [==============================] - 1s 4ms/step - loss: 0.2129 - accuracy: 0.9404 - val_loss: 0.1492 - val_accuracy: 0.9554\n",
      "Epoch 206/500\n",
      "270/270 [==============================] - 1s 4ms/step - loss: 0.2190 - accuracy: 0.9370 - val_loss: 0.1490 - val_accuracy: 0.9554\n",
      "Epoch 207/500\n",
      "270/270 [==============================] - 1s 4ms/step - loss: 0.2228 - accuracy: 0.9376 - val_loss: 0.1486 - val_accuracy: 0.9560\n",
      "Epoch 208/500\n",
      "270/270 [==============================] - 1s 4ms/step - loss: 0.2163 - accuracy: 0.9379 - val_loss: 0.1483 - val_accuracy: 0.9560\n",
      "Epoch 209/500\n",
      "270/270 [==============================] - 1s 4ms/step - loss: 0.2166 - accuracy: 0.9368 - val_loss: 0.1479 - val_accuracy: 0.9560\n",
      "Epoch 210/500\n",
      "270/270 [==============================] - 1s 4ms/step - loss: 0.2209 - accuracy: 0.9369 - val_loss: 0.1475 - val_accuracy: 0.9560\n",
      "Epoch 211/500\n",
      "270/270 [==============================] - 1s 4ms/step - loss: 0.2224 - accuracy: 0.9354 - val_loss: 0.1471 - val_accuracy: 0.9560\n",
      "Epoch 212/500\n",
      "270/270 [==============================] - 1s 4ms/step - loss: 0.2114 - accuracy: 0.9414 - val_loss: 0.1468 - val_accuracy: 0.9560\n",
      "Epoch 213/500\n",
      "270/270 [==============================] - 1s 4ms/step - loss: 0.2108 - accuracy: 0.9418 - val_loss: 0.1465 - val_accuracy: 0.9560\n",
      "Epoch 214/500\n",
      "270/270 [==============================] - 1s 4ms/step - loss: 0.2105 - accuracy: 0.9382 - val_loss: 0.1462 - val_accuracy: 0.9560\n",
      "Epoch 215/500\n",
      "270/270 [==============================] - 1s 4ms/step - loss: 0.2150 - accuracy: 0.9358 - val_loss: 0.1458 - val_accuracy: 0.9560\n",
      "Epoch 216/500\n",
      "270/270 [==============================] - 1s 4ms/step - loss: 0.2140 - accuracy: 0.9404 - val_loss: 0.1455 - val_accuracy: 0.9560\n",
      "Epoch 217/500\n",
      "270/270 [==============================] - 1s 4ms/step - loss: 0.2173 - accuracy: 0.9369 - val_loss: 0.1451 - val_accuracy: 0.9560\n",
      "Epoch 218/500\n",
      "270/270 [==============================] - 1s 4ms/step - loss: 0.2173 - accuracy: 0.9398 - val_loss: 0.1450 - val_accuracy: 0.9560\n",
      "Epoch 219/500\n",
      "270/270 [==============================] - 1s 4ms/step - loss: 0.2120 - accuracy: 0.9369 - val_loss: 0.1445 - val_accuracy: 0.9560\n",
      "Epoch 220/500\n",
      "270/270 [==============================] - 1s 4ms/step - loss: 0.2056 - accuracy: 0.9414 - val_loss: 0.1441 - val_accuracy: 0.9560\n",
      "Epoch 221/500\n",
      "270/270 [==============================] - 1s 4ms/step - loss: 0.2111 - accuracy: 0.9387 - val_loss: 0.1435 - val_accuracy: 0.9567\n",
      "Epoch 222/500\n",
      "270/270 [==============================] - 1s 4ms/step - loss: 0.2130 - accuracy: 0.9385 - val_loss: 0.1432 - val_accuracy: 0.9567\n",
      "Epoch 223/500\n",
      "270/270 [==============================] - 1s 4ms/step - loss: 0.2066 - accuracy: 0.9418 - val_loss: 0.1429 - val_accuracy: 0.9580\n",
      "Epoch 224/500\n",
      "270/270 [==============================] - 1s 4ms/step - loss: 0.2065 - accuracy: 0.9370 - val_loss: 0.1426 - val_accuracy: 0.9573\n",
      "Epoch 225/500\n",
      "270/270 [==============================] - 1s 4ms/step - loss: 0.2081 - accuracy: 0.9394 - val_loss: 0.1422 - val_accuracy: 0.9573\n",
      "Epoch 226/500\n",
      "270/270 [==============================] - 1s 4ms/step - loss: 0.2066 - accuracy: 0.9413 - val_loss: 0.1419 - val_accuracy: 0.9573\n",
      "Epoch 227/500\n",
      "270/270 [==============================] - 1s 4ms/step - loss: 0.2060 - accuracy: 0.9412 - val_loss: 0.1418 - val_accuracy: 0.9560\n",
      "Epoch 228/500\n",
      "270/270 [==============================] - 1s 4ms/step - loss: 0.2104 - accuracy: 0.9382 - val_loss: 0.1415 - val_accuracy: 0.9573\n",
      "Epoch 229/500\n",
      "270/270 [==============================] - 1s 4ms/step - loss: 0.2137 - accuracy: 0.9368 - val_loss: 0.1412 - val_accuracy: 0.9580\n",
      "Epoch 230/500\n",
      "270/270 [==============================] - 1s 4ms/step - loss: 0.2094 - accuracy: 0.9381 - val_loss: 0.1411 - val_accuracy: 0.9573\n",
      "Epoch 231/500\n",
      "270/270 [==============================] - 1s 4ms/step - loss: 0.2025 - accuracy: 0.9408 - val_loss: 0.1408 - val_accuracy: 0.9580\n",
      "Epoch 232/500\n",
      "270/270 [==============================] - 1s 4ms/step - loss: 0.2039 - accuracy: 0.9405 - val_loss: 0.1405 - val_accuracy: 0.9573\n",
      "Epoch 233/500\n",
      "270/270 [==============================] - 1s 4ms/step - loss: 0.2061 - accuracy: 0.9396 - val_loss: 0.1400 - val_accuracy: 0.9580\n",
      "Epoch 234/500\n",
      "270/270 [==============================] - 1s 4ms/step - loss: 0.2068 - accuracy: 0.9409 - val_loss: 0.1397 - val_accuracy: 0.9587\n",
      "Epoch 235/500\n",
      "270/270 [==============================] - 1s 4ms/step - loss: 0.2086 - accuracy: 0.9377 - val_loss: 0.1395 - val_accuracy: 0.9580\n",
      "Epoch 236/500\n",
      "270/270 [==============================] - 1s 4ms/step - loss: 0.2007 - accuracy: 0.9416 - val_loss: 0.1391 - val_accuracy: 0.9573\n",
      "Epoch 237/500\n",
      "270/270 [==============================] - 1s 4ms/step - loss: 0.2107 - accuracy: 0.9406 - val_loss: 0.1390 - val_accuracy: 0.9573\n",
      "Epoch 238/500\n",
      "270/270 [==============================] - 1s 4ms/step - loss: 0.1949 - accuracy: 0.9434 - val_loss: 0.1386 - val_accuracy: 0.9567\n",
      "Epoch 239/500\n",
      "270/270 [==============================] - 1s 4ms/step - loss: 0.2066 - accuracy: 0.9426 - val_loss: 0.1384 - val_accuracy: 0.9580\n",
      "Epoch 240/500\n",
      "270/270 [==============================] - 1s 4ms/step - loss: 0.2035 - accuracy: 0.9419 - val_loss: 0.1381 - val_accuracy: 0.9593\n",
      "Epoch 241/500\n",
      "270/270 [==============================] - 1s 4ms/step - loss: 0.1999 - accuracy: 0.9409 - val_loss: 0.1378 - val_accuracy: 0.9587\n",
      "Epoch 242/500\n",
      "270/270 [==============================] - 1s 4ms/step - loss: 0.2113 - accuracy: 0.9386 - val_loss: 0.1376 - val_accuracy: 0.9587\n",
      "Epoch 243/500\n",
      "270/270 [==============================] - 1s 4ms/step - loss: 0.2010 - accuracy: 0.9411 - val_loss: 0.1371 - val_accuracy: 0.9587\n",
      "Epoch 244/500\n",
      "270/270 [==============================] - 1s 4ms/step - loss: 0.2056 - accuracy: 0.9397 - val_loss: 0.1371 - val_accuracy: 0.9593\n",
      "Epoch 245/500\n",
      "270/270 [==============================] - 1s 4ms/step - loss: 0.1974 - accuracy: 0.9444 - val_loss: 0.1369 - val_accuracy: 0.9587\n",
      "Epoch 246/500\n",
      "270/270 [==============================] - 1s 4ms/step - loss: 0.2004 - accuracy: 0.9412 - val_loss: 0.1363 - val_accuracy: 0.9587\n",
      "Epoch 247/500\n",
      "270/270 [==============================] - 1s 4ms/step - loss: 0.2001 - accuracy: 0.9419 - val_loss: 0.1360 - val_accuracy: 0.9587\n",
      "Epoch 248/500\n",
      "270/270 [==============================] - 1s 4ms/step - loss: 0.2001 - accuracy: 0.9406 - val_loss: 0.1358 - val_accuracy: 0.9580\n",
      "Epoch 249/500\n",
      "270/270 [==============================] - 1s 4ms/step - loss: 0.1945 - accuracy: 0.9437 - val_loss: 0.1354 - val_accuracy: 0.9600\n",
      "Epoch 250/500\n",
      "270/270 [==============================] - 1s 4ms/step - loss: 0.2011 - accuracy: 0.9391 - val_loss: 0.1350 - val_accuracy: 0.9600\n",
      "Epoch 251/500\n",
      "270/270 [==============================] - 1s 4ms/step - loss: 0.2059 - accuracy: 0.9399 - val_loss: 0.1349 - val_accuracy: 0.9600\n",
      "Epoch 252/500\n",
      "270/270 [==============================] - 1s 4ms/step - loss: 0.1997 - accuracy: 0.9416 - val_loss: 0.1348 - val_accuracy: 0.9600\n",
      "Epoch 253/500\n",
      "270/270 [==============================] - 1s 4ms/step - loss: 0.1922 - accuracy: 0.9440 - val_loss: 0.1343 - val_accuracy: 0.9600\n",
      "Epoch 254/500\n",
      "270/270 [==============================] - 1s 4ms/step - loss: 0.2005 - accuracy: 0.9409 - val_loss: 0.1340 - val_accuracy: 0.9600\n",
      "Epoch 255/500\n",
      "270/270 [==============================] - 1s 4ms/step - loss: 0.1981 - accuracy: 0.9422 - val_loss: 0.1336 - val_accuracy: 0.9593\n",
      "Epoch 256/500\n",
      "270/270 [==============================] - 1s 4ms/step - loss: 0.1984 - accuracy: 0.9428 - val_loss: 0.1334 - val_accuracy: 0.9593\n",
      "Epoch 257/500\n",
      "270/270 [==============================] - 1s 4ms/step - loss: 0.2015 - accuracy: 0.9393 - val_loss: 0.1335 - val_accuracy: 0.9600\n"
     ]
    },
    {
     "data": {
      "text/plain": [
       "<tensorflow.python.keras.callbacks.History at 0x7f9c80062dd8>"
      ]
     },
     "execution_count": 36,
     "metadata": {
      "tags": []
     },
     "output_type": "execute_result"
    }
   ],
   "source": [
    "model.fit(X_train,Y_cat_train,epochs=500,validation_data=(X_test,Y_cat_test),callbacks=[early_stop])"
   ]
  },
  {
   "cell_type": "code",
   "execution_count": 37,
   "metadata": {
    "colab": {},
    "colab_type": "code",
    "id": "rvfFpldgWTMk"
   },
   "outputs": [],
   "source": [
    "metrics = pd.DataFrame(model.history.history)"
   ]
  },
  {
   "cell_type": "code",
   "execution_count": 38,
   "metadata": {
    "colab": {
     "base_uri": "https://localhost:8080/",
     "height": 282
    },
    "colab_type": "code",
    "id": "LNdrg_4gU25u",
    "outputId": "5737be07-8c19-4132-a2a8-edf8ccfff9db"
   },
   "outputs": [
    {
     "data": {
      "text/plain": [
       "<matplotlib.axes._subplots.AxesSubplot at 0x7f9c2e770860>"
      ]
     },
     "execution_count": 38,
     "metadata": {
      "tags": []
     },
     "output_type": "execute_result"
    },
    {
     "data": {
      "image/png": "[encoded data removed]",
      "text/plain": [
       "<Figure size 432x288 with 1 Axes>"
      ]
     },
     "metadata": {
      "needs_background": "light",
      "tags": []
     },
     "output_type": "display_data"
    }
   ],
   "source": [
    "metrics[['loss','val_loss']].plot()"
   ]
  },
  {
   "cell_type": "code",
   "execution_count": 39,
   "metadata": {
    "colab": {},
    "colab_type": "code",
    "id": "0CntQtJ0U8dO"
   },
   "outputs": [],
   "source": [
    "model.save('Digit_Model.h5')"
   ]
  },
  {
   "cell_type": "code",
   "execution_count": 42,
   "metadata": {
    "colab": {},
    "colab_type": "code",
    "id": "eUqrSX49xNkn"
   },
   "outputs": [],
   "source": [
    "import matplotlib.pyplot as plt"
   ]
  },
  {
   "cell_type": "code",
   "execution_count": 43,
   "metadata": {
    "colab": {
     "base_uri": "https://localhost:8080/",
     "height": 349
    },
    "colab_type": "code",
    "id": "1ahVXrsUU_B5",
    "outputId": "629240c8-e6e9-4297-ba2a-2b9a99fbf59b"
   },
   "outputs": [
    {
     "name": "stdout",
     "output_type": "stream",
     "text": [
      "Test images shape: (4, 28, 28)\n",
      "Predicted digit: 4\n",
      "Predicted digit: 6\n",
      "Predicted digit: 3\n",
      "Predicted digit: 6\n"
     ]
    },
    {
     "data": {
      "image/png": "[encoded data removed]",
      "text/plain": [
       "<Figure size 432x288 with 4 Axes>"
      ]
     },
     "metadata": {
      "needs_background": "light",
      "tags": []
     },
     "output_type": "display_data"
    }
   ],
   "source": [
    "test_images = X_test[0:4]\n",
    "test_images = test_images.reshape(test_images.shape[0], 28, 28)\n",
    "print (\"Test images shape: {}\".format(test_images.shape))\n",
    "for i, test_image in enumerate(test_images, start=1):\n",
    "    org_image = test_image\n",
    "    test_image = test_image.reshape(1,28,28,1)\n",
    "    prediction = model.predict_classes(test_image, verbose=0)\n",
    "    print (\"Predicted digit: {}\".format(prediction[0]))\n",
    "    plt.subplot(220+i)\n",
    "    plt.axis('off')\n",
    "    plt.title(\"Predicted digit: {}\".format(prediction[0]))\n",
    "    plt.imshow(org_image, cmap=plt.get_cmap('gray'))\n",
    "plt.show()"
   ]
  },
  {
   "cell_type": "code",
   "execution_count": 46,
   "metadata": {
    "colab": {},
    "colab_type": "code",
    "id": "_HQTcm6-VBBD"
   },
   "outputs": [],
   "source": [
    "from tensorflow.keras.datasets import mnist\n",
    "import keras"
   ]
  },
  {
   "cell_type": "code",
   "execution_count": 47,
   "metadata": {
    "colab": {
     "base_uri": "https://localhost:8080/",
     "height": 51
    },
    "colab_type": "code",
    "id": "zPDzZE6byXYd",
    "outputId": "ba142258-7b13-46e7-ad51-acebfb4a6e62"
   },
   "outputs": [
    {
     "name": "stdout",
     "output_type": "stream",
     "text": [
      "Downloading data from https://storage.googleapis.com/tensorflow/tf-keras-datasets/mnist.npz\n",
      "11493376/11490434 [==============================] - 0s 0us/step\n"
     ]
    }
   ],
   "source": [
    "(x_train,y_train),(x_test,y_test)= mnist.load_data()"
   ]
  },
  {
   "cell_type": "code",
   "execution_count": 48,
   "metadata": {
    "colab": {},
    "colab_type": "code",
    "id": "nf7s-4vtyY0h"
   },
   "outputs": [],
   "source": [
    "y_cat_test = to_categorical(y_test,num_classes=10)\n",
    "y_cat_train = to_categorical(y_train,num_classes=10)"
   ]
  },
  {
   "cell_type": "code",
   "execution_count": 49,
   "metadata": {
    "colab": {},
    "colab_type": "code",
    "id": "ArRAZsXoydrw"
   },
   "outputs": [],
   "source": [
    "x_train = x_train/255\n",
    "x_test = x_test/255"
   ]
  },
  {
   "cell_type": "code",
   "execution_count": 50,
   "metadata": {
    "colab": {},
    "colab_type": "code",
    "id": "2P5QeAaeyfC1"
   },
   "outputs": [],
   "source": [
    "x_train = x_train.reshape(60000,28,28,1)"
   ]
  },
  {
   "cell_type": "code",
   "execution_count": 51,
   "metadata": {
    "colab": {},
    "colab_type": "code",
    "id": "RcGf_xyvyg6E"
   },
   "outputs": [],
   "source": [
    "x_test = x_test.reshape(10000,28,28,1)"
   ]
  },
  {
   "cell_type": "code",
   "execution_count": 52,
   "metadata": {
    "colab": {
     "base_uri": "https://localhost:8080/",
     "height": 408
    },
    "colab_type": "code",
    "id": "PTsbQ5OTykBJ",
    "outputId": "1707dfa5-5a61-4bb4-88ea-373b1e790224"
   },
   "outputs": [
    {
     "name": "stdout",
     "output_type": "stream",
     "text": [
      "Epoch 1/11\n",
      "1875/1875 [==============================] - 7s 4ms/step - loss: 1.8499 - accuracy: 0.4755 - val_loss: 1.2138 - val_accuracy: 0.6033\n",
      "Epoch 2/11\n",
      "1875/1875 [==============================] - 7s 4ms/step - loss: 1.2918 - accuracy: 0.5750 - val_loss: 0.9328 - val_accuracy: 0.7181\n",
      "Epoch 3/11\n",
      "1875/1875 [==============================] - 7s 4ms/step - loss: 1.0860 - accuracy: 0.6445 - val_loss: 0.7678 - val_accuracy: 0.7702\n",
      "Epoch 4/11\n",
      "1875/1875 [==============================] - 7s 4ms/step - loss: 0.9581 - accuracy: 0.6871 - val_loss: 0.6603 - val_accuracy: 0.8001\n",
      "Epoch 5/11\n",
      "1875/1875 [==============================] - 7s 4ms/step - loss: 0.8621 - accuracy: 0.7193 - val_loss: 0.5851 - val_accuracy: 0.8238\n",
      "Epoch 6/11\n",
      "1875/1875 [==============================] - 7s 4ms/step - loss: 0.7942 - accuracy: 0.7412 - val_loss: 0.5310 - val_accuracy: 0.8402\n",
      "Epoch 7/11\n",
      "1875/1875 [==============================] - 7s 4ms/step - loss: 0.7454 - accuracy: 0.7602 - val_loss: 0.4903 - val_accuracy: 0.8523\n",
      "Epoch 8/11\n",
      "1875/1875 [==============================] - 7s 4ms/step - loss: 0.7014 - accuracy: 0.7746 - val_loss: 0.4575 - val_accuracy: 0.8632\n",
      "Epoch 9/11\n",
      "1875/1875 [==============================] - 7s 4ms/step - loss: 0.6651 - accuracy: 0.7877 - val_loss: 0.4304 - val_accuracy: 0.8724\n",
      "Epoch 10/11\n",
      "1875/1875 [==============================] - 7s 4ms/step - loss: 0.6403 - accuracy: 0.7961 - val_loss: 0.4091 - val_accuracy: 0.8820\n",
      "Epoch 11/11\n",
      "1875/1875 [==============================] - 7s 4ms/step - loss: 0.6156 - accuracy: 0.8059 - val_loss: 0.3903 - val_accuracy: 0.8860\n"
     ]
    },
    {
     "data": {
      "text/plain": [
       "<tensorflow.python.keras.callbacks.History at 0x7f9c2e949ba8>"
      ]
     },
     "execution_count": 52,
     "metadata": {
      "tags": []
     },
     "output_type": "execute_result"
    }
   ],
   "source": [
    "model.fit(x_train,y_cat_train,epochs=11,validation_data=(x_test,y_cat_test),callbacks=[early_stop])"
   ]
  },
  {
   "cell_type": "code",
   "execution_count": 53,
   "metadata": {
    "colab": {},
    "colab_type": "code",
    "id": "BTa49jkCyrXj"
   },
   "outputs": [],
   "source": [
    "metrics = pd.DataFrame(model.history.history)"
   ]
  },
  {
   "cell_type": "code",
   "execution_count": 54,
   "metadata": {
    "colab": {
     "base_uri": "https://localhost:8080/",
     "height": 282
    },
    "colab_type": "code",
    "id": "UUEUwlSXzAJ1",
    "outputId": "e0bf79c8-4ecd-43b5-f391-c7ba3aff51b7"
   },
   "outputs": [
    {
     "data": {
      "text/plain": [
       "<matplotlib.axes._subplots.AxesSubplot at 0x7f9c26f63860>"
      ]
     },
     "execution_count": 54,
     "metadata": {
      "tags": []
     },
     "output_type": "execute_result"
    },
    {
     "data": {
      "image/png": "[encoded data removed]",
      "text/plain": [
       "<Figure size 432x288 with 1 Axes>"
      ]
     },
     "metadata": {
      "needs_background": "light",
      "tags": []
     },
     "output_type": "display_data"
    }
   ],
   "source": [
    "metrics[['loss','val_loss']].plot()"
   ]
  },
  {
   "cell_type": "code",
   "execution_count": 55,
   "metadata": {
    "colab": {},
    "colab_type": "code",
    "id": "ruBMole7zC6C"
   },
   "outputs": [],
   "source": [
    "model.save('New_Digit_Model.h5')"
   ]
  },
  {
   "cell_type": "code",
   "execution_count": 56,
   "metadata": {
    "colab": {
     "base_uri": "https://localhost:8080/",
     "height": 349
    },
    "colab_type": "code",
    "id": "FI69AR7izK4s",
    "outputId": "3d93958e-dfde-4951-f561-579a5a5ca290"
   },
   "outputs": [
    {
     "name": "stdout",
     "output_type": "stream",
     "text": [
      "Test images shape: (4, 28, 28)\n",
      "Predicted digit: 7\n",
      "Predicted digit: 2\n",
      "Predicted digit: 1\n",
      "Predicted digit: 0\n"
     ]
    },
    {
     "data": {
      "image/png": "[encoded data removed]",
      "text/plain": [
       "<Figure size 432x288 with 4 Axes>"
      ]
     },
     "metadata": {
      "needs_background": "light",
      "tags": []
     },
     "output_type": "display_data"
    }
   ],
   "source": [
    "test_images = x_test[0:4]\n",
    "test_images = test_images.reshape(test_images.shape[0], 28, 28)\n",
    "print (\"Test images shape: {}\".format(test_images.shape))\n",
    "for i, test_image in enumerate(test_images, start=1):\n",
    "    org_image = test_image\n",
    "    test_image = test_image.reshape(1,28,28,1)\n",
    "    prediction = model.predict_classes(test_image, verbose=0)\n",
    "    print (\"Predicted digit: {}\".format(prediction[0]))\n",
    "    plt.subplot(220+i)\n",
    "    plt.axis('off')\n",
    "    plt.title(\"Predicted digit: {}\".format(prediction[0]))\n",
    "    plt.imshow(org_image, cmap=plt.get_cmap('gray'))\n",
    "plt.show()"
   ]
  },
  {
   "cell_type": "code",
   "execution_count": null,
   "metadata": {
    "colab": {},
    "colab_type": "code",
    "id": "WxY4JdHuzPxZ"
   },
   "outputs": [],
   "source": []
  }
 ],
 "metadata": {
  "accelerator": "GPU",
  "colab": {
   "collapsed_sections": [],
   "name": "Digit classification.ipynb",
   "provenance": []
  },
  "kernelspec": {
   "display_name": "Python 3",
   "language": "python",
   "name": "python3"
  },
  "language_info": {
   "codemirror_mode": {
    "name": "ipython",
    "version": 3
   },
   "file_extension": ".py",
   "mimetype": "text/x-python",
   "name": "python",
   "nbconvert_exporter": "python",
   "pygments_lexer": "ipython3",
   "version": "3.8.3"
  }
 },
 "nbformat": 4,
 "nbformat_minor": 1
}
