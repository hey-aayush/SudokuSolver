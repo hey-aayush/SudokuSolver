{
 "cells": [
  {
   "cell_type": "code",
   "execution_count": 329,
   "metadata": {},
   "outputs": [],
   "source": [
    "import cv2\n",
    "import numpy as np"
   ]
  },
  {
   "cell_type": "code",
   "execution_count": 330,
   "metadata": {},
   "outputs": [],
   "source": [
    "orginal_image = cv2.imread('Processed1.jpg')"
   ]
  },
  {
   "cell_type": "code",
   "execution_count": 331,
   "metadata": {},
   "outputs": [],
   "source": [
    "image = orginal_image"
   ]
  },
  {
   "cell_type": "code",
   "execution_count": 332,
   "metadata": {},
   "outputs": [],
   "source": [
    "cv2.imshow(\"Original\",image)\n",
    "cv2.waitKey(0)\n",
    "cv2.destroyAllWindows()"
   ]
  },
  {
   "cell_type": "code",
   "execution_count": 333,
   "metadata": {},
   "outputs": [],
   "source": [
    "gray = cv2.cvtColor(image, cv2.COLOR_BGR2GRAY)\n",
    "edges = cv2.Canny(gray, 100, 170, apertureSize = 3)"
   ]
  },
  {
   "cell_type": "code",
   "execution_count": 334,
   "metadata": {},
   "outputs": [],
   "source": [
    "cv2.imshow(\"edges\",edges)\n",
    "cv2.waitKey(0)\n",
    "cv2.destroyAllWindows()"
   ]
  },
  {
   "cell_type": "code",
   "execution_count": 335,
   "metadata": {},
   "outputs": [],
   "source": [
    "contours, hierarchy = cv2.findContours(edges, cv2.RETR_TREE, cv2.CHAIN_APPROX_SIMPLE)\n",
    "sorted_contours = sorted(contours, key=cv2.contourArea, reverse=True)[:130]\n",
    "approx_contours = []\n",
    "\n",
    "for cnt in sorted_contours:\n",
    "    approx = cv2.approxPolyDP(cnt, 0.02*cv2.arcLength(cnt,True),True)\n",
    "    if len(approx)<=10:\n",
    "        approx_contours.append(approx)"
   ]
  },
  {
   "cell_type": "code",
   "execution_count": 336,
   "metadata": {},
   "outputs": [],
   "source": [
    "cv2.drawContours(image, approx_contours, -1, (0,255,0), 3)\n",
    "cv2.imshow('Canny Edges After Contouring', image)\n",
    "cv2.waitKey(0)\n",
    "cv2.destroyAllWindows()"
   ]
  },
  {
   "cell_type": "code",
   "execution_count": 337,
   "metadata": {},
   "outputs": [
    {
     "data": {
      "text/plain": [
       "130"
      ]
     },
     "execution_count": 337,
     "metadata": {},
     "output_type": "execute_result"
    }
   ],
   "source": [
    "len(approx_contours)"
   ]
  },
  {
   "cell_type": "code",
   "execution_count": 338,
   "metadata": {},
   "outputs": [],
   "source": [
    "def centroid(cnt):\n",
    "    M = cv2.moments(cnt)\n",
    "    cx = int(M['m10'] / M['m00'])\n",
    "    cy = int(M['m01'] / M['m00']) \n",
    "    return (cx,cy)"
   ]
  },
  {
   "cell_type": "code",
   "execution_count": 339,
   "metadata": {},
   "outputs": [],
   "source": [
    "for cnt in sorted_contours:\n",
    "    cv2.circle(image,centroid(cnt),2,(255,255,0),-1)"
   ]
  },
  {
   "cell_type": "code",
   "execution_count": 340,
   "metadata": {},
   "outputs": [],
   "source": [
    "def sorting_contours_by_X(cnt):\n",
    "    (cx,cy)=centroid(cnt)\n",
    "    return cx\n",
    "\n",
    "def sorting_contours_by_Y(cnt):\n",
    "    (cx,cy)=centroid(cnt)\n",
    "    return cy"
   ]
  },
  {
   "cell_type": "code",
   "execution_count": 341,
   "metadata": {},
   "outputs": [],
   "source": [
    "sorted_contours = sorted(sorted_contours, key=sorting_contours_by_X, reverse=False)"
   ]
  },
  {
   "cell_type": "code",
   "execution_count": 342,
   "metadata": {},
   "outputs": [],
   "source": [
    "sorted_contours = sorted(sorted_contours, key=sorting_contours_by_Y, reverse=False)"
   ]
  },
  {
   "cell_type": "code",
   "execution_count": 343,
   "metadata": {},
   "outputs": [],
   "source": [
    "for c in sorted_contours[:82]:\n",
    "    cv2.drawContours(image, [c], -1, (255,0,0), 3)\n",
    "    (x, y, w, h) = cv2.boundingRect(c)  \n",
    "    cropped_contour =image[y:y + h, x:x + w]\n",
    "    cv2.imshow('Contours by area',image)\n",
    "    cv2.imshow('CroppedBox',cropped_contour)\n",
    "    cv2.waitKey(0)\n",
    "cv2.destroyAllWindows()"
   ]
  }
 ],
 "metadata": {
  "kernelspec": {
   "display_name": "Python 3",
   "language": "python",
   "name": "python3"
  },
  "language_info": {
   "codemirror_mode": {
    "name": "ipython",
    "version": 3
   },
   "file_extension": ".py",
   "mimetype": "text/x-python",
   "name": "python",
   "nbconvert_exporter": "python",
   "pygments_lexer": "ipython3",
   "version": "3.8.3"
  }
 },
 "nbformat": 4,
 "nbformat_minor": 4
}
