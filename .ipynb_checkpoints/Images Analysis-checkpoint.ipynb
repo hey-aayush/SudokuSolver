{
 "cells": [
  {
   "cell_type": "code",
   "execution_count": 29,
   "metadata": {},
   "outputs": [],
   "source": [
    "import cv2\n",
    "import numpy as np"
   ]
  },
  {
   "cell_type": "code",
   "execution_count": 30,
   "metadata": {},
   "outputs": [],
   "source": [
    "import SudokuSolve.SudokuGrid\n",
    "import SudokuSolve.WebCamExtract\n",
    "import SudokuSolve.ModelPredict\n",
    "import SudokuSolve.ImageCrop"
   ]
  },
  {
   "cell_type": "code",
   "execution_count": 31,
   "metadata": {},
   "outputs": [],
   "source": [
    "from tensorflow.keras.models import load_model"
   ]
  },
  {
   "cell_type": "code",
   "execution_count": 32,
   "metadata": {},
   "outputs": [],
   "source": [
    "image = cv2.imread(\"/home/aayush/SudokuSolver/Images/sudokuTestEasy.png\")"
   ]
  },
  {
   "cell_type": "code",
   "execution_count": 36,
   "metadata": {},
   "outputs": [],
   "source": [
    "Image,Grid_img = SudokuSolve.WebCamExtract.show_frames(image,(576,576))"
   ]
  },
  {
   "cell_type": "code",
   "execution_count": 38,
   "metadata": {},
   "outputs": [],
   "source": [
    "cv2.imshow(\"Grid_img\",Grid_img)\n",
    "cv2.waitKey(0)\n",
    "cv2.destroyAllWindows()"
   ]
  },
  {
   "cell_type": "code",
   "execution_count": 39,
   "metadata": {},
   "outputs": [],
   "source": [
    "Grid_img=cv2.imread(\"/home/aayush/SudokuSolver/Images/sudokuTestEasy.png\")\n",
    "Grid_img=cv2.resize(Grid_img,(576,576))"
   ]
  },
  {
   "cell_type": "code",
   "execution_count": 40,
   "metadata": {},
   "outputs": [],
   "source": [
    "Pro_grid_img = SudokuSolve.SudokuGrid.Sudokugrid(Grid_img)"
   ]
  },
  {
   "cell_type": "code",
   "execution_count": 41,
   "metadata": {},
   "outputs": [],
   "source": [
    "cv2.imshow(\"Pro_Grid_img\",Pro_grid_img)\n",
    "cv2.waitKey(0)\n",
    "cv2.destroyAllWindows()"
   ]
  },
  {
   "cell_type": "code",
   "execution_count": 23,
   "metadata": {},
   "outputs": [
    {
     "data": {
      "text/plain": [
       "255"
      ]
     },
     "execution_count": 23,
     "metadata": {},
     "output_type": "execute_result"
    }
   ],
   "source": [
    "Pro_grid_img.max()"
   ]
  },
  {
   "cell_type": "code",
   "execution_count": null,
   "metadata": {},
   "outputs": [],
   "source": [
    "model = load_model('/home/aayush/SudokuSolver/Saved models/Digit_Model_1.h5')"
   ]
  },
  {
   "cell_type": "code",
   "execution_count": 14,
   "metadata": {
    "collapsed": true
   },
   "outputs": [
    {
     "name": "stdout",
     "output_type": "stream",
     "text": [
      "3\n",
      "3\n",
      "0\n",
      "0\n",
      "1\n",
      "0\n",
      "0\n",
      "0\n",
      "0\n",
      "4\n",
      "0\n",
      "0\n",
      "1\n",
      "4\n",
      "5\n",
      "0\n",
      "0\n",
      "0\n",
      "0\n",
      "9\n",
      "4\n",
      "0\n",
      "0\n",
      "0\n",
      "0\n",
      "6\n",
      "0\n",
      "4\n",
      "0\n",
      "0\n",
      "0\n",
      "6\n",
      "0\n",
      "0\n",
      "0\n",
      "1\n",
      "4\n",
      "0\n",
      "0\n",
      "4\n",
      "0\n",
      "3\n",
      "0\n",
      "0\n",
      "5\n",
      "1\n",
      "0\n",
      "0\n",
      "0\n",
      "1\n",
      "0\n",
      "0\n",
      "0\n",
      "6\n",
      "0\n",
      "5\n",
      "0\n",
      "0\n",
      "0\n",
      "0\n",
      "7\n",
      "6\n",
      "0\n",
      "0\n",
      "0\n",
      "0\n",
      "4\n",
      "1\n",
      "9\n",
      "0\n",
      "0\n",
      "5\n",
      "0\n",
      "0\n",
      "0\n",
      "0\n",
      "4\n",
      "0\n",
      "0\n",
      "1\n",
      "1\n"
     ]
    }
   ],
   "source": [
    "for i in range(9):\n",
    "    for j in range(9):\n",
    "        img_croped=SudokuSolve.ImageCrop.img_crop(i,j,Pro_grid_img)\n",
    "        tst=img_croped/255\n",
    "        tst_img=np.array(tst).reshape(1,64,64,1)\n",
    "        #grid_array = model.predict_classes(tst_img,verbose=0)[0]\n",
    "        X=np.argmax(model.predict(tst_img,verbose=0), axis=-1)[0]\n",
    "        #print(grid_array)\n",
    "        print(X)\n",
    "        cv2.imshow(\"Pro_Grid_img\",tst)\n",
    "        cv2.waitKey(0)\n",
    "cv2.destroyAllWindows()"
   ]
  },
  {
   "cell_type": "code",
   "execution_count": 42,
   "metadata": {},
   "outputs": [],
   "source": [
    "import pytesseract\n",
    "from PIL import Image"
   ]
  },
  {
   "cell_type": "code",
   "execution_count": 43,
   "metadata": {},
   "outputs": [
    {
     "name": "stdout",
     "output_type": "stream",
     "text": [
      "\f",
      "\n",
      "\f",
      "\n",
      "\f",
      "\n",
      "\f",
      "\n",
      "\f",
      "\n",
      "\f",
      "\n",
      "\f",
      "\n",
      "\f",
      "\n",
      "\f",
      "\n",
      "\f",
      "\n",
      "\f",
      "\n",
      "\f",
      "\n",
      "\f",
      "\n",
      "\f",
      "\n",
      "\f",
      "\n",
      "\f",
      "\n",
      "\f",
      "\n",
      "\f",
      "\n",
      "\f",
      "\n",
      "\f",
      "\n",
      "\f",
      "\n",
      "\f",
      "\n",
      "\f",
      "\n",
      "\f",
      "\n",
      "\f",
      "\n",
      "\f",
      "\n",
      "\f",
      "\n",
      "\f",
      "\n",
      "\f",
      "\n",
      "\f",
      "\n",
      "\f",
      "\n",
      "\f",
      "\n",
      "\f",
      "\n",
      "\f",
      "\n",
      "\f",
      "\n",
      "\f",
      "\n",
      "\f",
      "\n",
      "\f",
      "\n",
      "\f",
      "\n",
      "\f",
      "\n",
      "\f",
      "\n",
      "\f",
      "\n",
      "\f",
      "\n",
      "\f",
      "\n",
      "\f",
      "\n",
      "\f",
      "\n",
      "\f",
      "\n",
      "\f",
      "\n",
      "\f",
      "\n",
      "\f",
      "\n",
      "\f",
      "\n",
      "\f",
      "\n",
      "\f",
      "\n",
      "\f",
      "\n",
      "\f",
      "\n",
      "\f",
      "\n",
      "\f",
      "\n",
      "\f",
      "\n",
      "\f",
      "\n",
      "\f",
      "\n",
      "\f",
      "\n",
      "\f",
      "\n",
      "\f",
      "\n",
      "\f",
      "\n",
      "\f",
      "\n",
      "\f",
      "\n",
      "\f",
      "\n",
      "\f",
      "\n",
      "\f",
      "\n",
      "\f",
      "\n",
      "\f",
      "\n",
      "\f",
      "\n",
      "\f",
      "\n",
      "\f",
      "\n",
      "\f",
      "\n",
      "\f",
      "\n",
      "\f",
      "\n",
      "\f",
      "\n",
      "\f",
      "\n",
      "\f",
      "\n",
      "\f",
      "\n"
     ]
    }
   ],
   "source": [
    "for i in range(9):\n",
    "    for j in range(9):\n",
    "        img_croped=SudokuSolve.ImageCrop.img_crop(i,j,Pro_grid_img)\n",
    "        cv2.imwrite(\"Tst.jpg\",img_croped)\n",
    "        #tst=img_croped/255\n",
    "        #tst_img=np.array(tst).reshape(1,64,64,1)\n",
    "        #grid_array = model.predict_classes(tst_img,verbose=0)[0]\n",
    "        print(pytesseract.image_to_string(Image.open(\"Tst.jpg\")))\n",
    "        #print(grid_array)\n",
    "        #print(X)\n",
    "        cv2.imshow(\"Pro_Grid_img\",img_croped)\n",
    "        cv2.waitKey(0)\n",
    "cv2.destroyAllWindows()"
   ]
  }
 ],
 "metadata": {
  "kernelspec": {
   "display_name": "Python 3",
   "language": "python",
   "name": "python3"
  },
  "language_info": {
   "codemirror_mode": {
    "name": "ipython",
    "version": 3
   },
   "file_extension": ".py",
   "mimetype": "text/x-python",
   "name": "python",
   "nbconvert_exporter": "python",
   "pygments_lexer": "ipython3",
   "version": "3.8.3"
  }
 },
 "nbformat": 4,
 "nbformat_minor": 4
}
