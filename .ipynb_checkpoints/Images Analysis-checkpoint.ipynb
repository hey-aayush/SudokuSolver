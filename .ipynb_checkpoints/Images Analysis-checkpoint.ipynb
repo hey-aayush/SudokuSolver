{
 "cells": [
  {
   "cell_type": "code",
   "execution_count": 1,
   "metadata": {},
   "outputs": [],
   "source": [
    "import cv2\n",
    "import numpy as np"
   ]
  },
  {
   "cell_type": "code",
   "execution_count": 2,
   "metadata": {},
   "outputs": [],
   "source": [
    "import SudokuSolve.SudokuGrid\n",
    "import SudokuSolve.WebCamExtract\n",
    "import SudokuSolve.ModelPredict"
   ]
  },
  {
   "cell_type": "code",
   "execution_count": 3,
   "metadata": {},
   "outputs": [],
   "source": [
    "from tensorflow.keras.models import load_model"
   ]
  },
  {
   "cell_type": "code",
   "execution_count": 4,
   "metadata": {},
   "outputs": [],
   "source": [
    "image = cv2.imread(\"/home/aayush/SudokuSolver/Images/SudokuTest2.jpg\")"
   ]
  },
  {
   "cell_type": "code",
   "execution_count": 5,
   "metadata": {},
   "outputs": [],
   "source": [
    "Image,Grid_img = SudokuSolve.WebCamExtract.show_frames(image,(252,252))"
   ]
  },
  {
   "cell_type": "code",
   "execution_count": 6,
   "metadata": {},
   "outputs": [],
   "source": [
    "cv2.imshow(\"Grid_img\",Grid_img)\n",
    "cv2.waitKey(0)\n",
    "cv2.destroyAllWindows()"
   ]
  },
  {
   "cell_type": "code",
   "execution_count": 7,
   "metadata": {},
   "outputs": [],
   "source": [
    "Pro_grid_img = SudokuSolve.SudokuGrid.Sudokugrid(Grid_img)"
   ]
  },
  {
   "cell_type": "code",
   "execution_count": 8,
   "metadata": {},
   "outputs": [],
   "source": [
    "cv2.imshow(\"Pro_Grid_img\",Pro_grid_img)\n",
    "cv2.waitKey(0)\n",
    "cv2.destroyAllWindows()"
   ]
  },
  {
   "cell_type": "code",
   "execution_count": 9,
   "metadata": {},
   "outputs": [
    {
     "data": {
      "text/plain": [
       "255"
      ]
     },
     "execution_count": 9,
     "metadata": {},
     "output_type": "execute_result"
    }
   ],
   "source": [
    "Pro_grid_img.max()"
   ]
  },
  {
   "cell_type": "code",
   "execution_count": 10,
   "metadata": {},
   "outputs": [],
   "source": [
    "model = load_model('/home/aayush/SudokuSolver/Saved models/New_Digit_Model.h5')"
   ]
  },
  {
   "cell_type": "code",
   "execution_count": 11,
   "metadata": {},
   "outputs": [
    {
     "name": "stdout",
     "output_type": "stream",
     "text": [
      "WARNING:tensorflow:From <ipython-input-11-5448a112d34e>:6: Sequential.predict_classes (from tensorflow.python.keras.engine.sequential) is deprecated and will be removed after 2021-01-01.\n",
      "Instructions for updating:\n",
      "Please use instead:* `np.argmax(model.predict(x), axis=-1)`,   if your model does multi-class classification   (e.g. if it uses a `softmax` last-layer activation).* `(model.predict(x) > 0.5).astype(\"int32\")`,   if your model does binary classification   (e.g. if it uses a `sigmoid` last-layer activation).\n",
      "1\n",
      "[1]\n",
      "5\n",
      "[5]\n",
      "5\n",
      "[5]\n",
      "6\n",
      "[6]\n",
      "5\n",
      "[5]\n",
      "1\n",
      "[1]\n",
      "7\n",
      "[7]\n",
      "7\n",
      "[7]\n",
      "7\n",
      "[7]\n",
      "2\n",
      "[2]\n",
      "5\n",
      "[5]\n",
      "1\n",
      "[1]\n",
      "5\n",
      "[5]\n",
      "3\n",
      "[3]\n",
      "5\n",
      "[5]\n",
      "6\n",
      "[6]\n",
      "7\n",
      "[7]\n",
      "4\n",
      "[4]\n",
      "7\n",
      "[7]\n",
      "5\n",
      "[5]\n",
      "5\n",
      "[5]\n",
      "2\n",
      "[2]\n",
      "7\n",
      "[7]\n",
      "4\n",
      "[4]\n",
      "7\n",
      "[7]\n",
      "7\n",
      "[7]\n",
      "7\n",
      "[7]\n",
      "5\n",
      "[5]\n",
      "5\n",
      "[5]\n",
      "5\n",
      "[5]\n",
      "7\n",
      "[7]\n",
      "7\n",
      "[7]\n",
      "7\n",
      "[7]\n",
      "7\n",
      "[7]\n",
      "7\n",
      "[7]\n",
      "7\n",
      "[7]\n",
      "5\n",
      "[5]\n",
      "6\n",
      "[6]\n",
      "5\n",
      "[5]\n",
      "7\n",
      "[7]\n",
      "7\n",
      "[7]\n",
      "7\n",
      "[7]\n",
      "7\n",
      "[7]\n",
      "5\n",
      "[5]\n",
      "7\n",
      "[7]\n",
      "7\n",
      "[7]\n",
      "5\n",
      "[5]\n",
      "2\n",
      "[2]\n",
      "7\n",
      "[7]\n",
      "7\n",
      "[7]\n",
      "7\n",
      "[7]\n",
      "4\n",
      "[4]\n",
      "7\n",
      "[7]\n",
      "7\n",
      "[7]\n",
      "7\n",
      "[7]\n",
      "7\n",
      "[7]\n",
      "7\n",
      "[7]\n",
      "5\n",
      "[5]\n",
      "7\n",
      "[7]\n",
      "5\n",
      "[5]\n",
      "7\n",
      "[7]\n",
      "7\n",
      "[7]\n",
      "7\n",
      "[7]\n",
      "5\n",
      "[5]\n",
      "7\n",
      "[7]\n",
      "4\n",
      "[4]\n",
      "7\n",
      "[7]\n",
      "1\n",
      "[1]\n",
      "7\n",
      "[7]\n",
      "7\n",
      "[7]\n",
      "7\n",
      "[7]\n",
      "5\n",
      "[5]\n",
      "6\n",
      "[6]\n",
      "7\n",
      "[7]\n",
      "7\n",
      "[7]\n",
      "7\n",
      "[7]\n",
      "7\n",
      "[7]\n",
      "7\n",
      "[7]\n",
      "7\n",
      "[7]\n",
      "2\n",
      "[2]\n",
      "3\n",
      "[3]\n"
     ]
    }
   ],
   "source": [
    "for i in range(9):\n",
    "    for j in range(9):\n",
    "        img_croped=SudokuSolve.ImageCrop.img_crop(i,j,Pro_grid_img)\n",
    "        tst=img_croped/255\n",
    "        tst_img=np.array(tst).reshape(1,28,28,1)\n",
    "        #grid_array = model.predict_classes(tst_img,verbose=0)[0]\n",
    "        X=np.argmax(model.predict(tst_img,verbose=0), axis=-1)[0]\n",
    "        print(grid_array)\n",
    "        print(X)\n",
    "        cv2.imshow(\"Pro_Grid_img\",tst)\n",
    "        cv2.waitKey(0)\n",
    "cv2.destroyAllWindows()"
   ]
  },
  {
   "cell_type": "code",
   "execution_count": null,
   "metadata": {},
   "outputs": [],
   "source": [
    "\n",
    "\n",
    "\n",
    "\n",
    "\n",
    "\n",
    "\n",
    "\n"
   ]
  }
 ],
 "metadata": {
  "kernelspec": {
   "display_name": "Python 3",
   "language": "python",
   "name": "python3"
  },
  "language_info": {
   "codemirror_mode": {
    "name": "ipython",
    "version": 3
   },
   "file_extension": ".py",
   "mimetype": "text/x-python",
   "name": "python",
   "nbconvert_exporter": "python",
   "pygments_lexer": "ipython3",
   "version": "3.8.3"
  }
 },
 "nbformat": 4,
 "nbformat_minor": 4
}
