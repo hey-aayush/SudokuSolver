{
 "cells": [
  {
   "cell_type": "code",
   "execution_count": 2,
   "metadata": {},
   "outputs": [],
   "source": [
    "import cv2\n",
    "import numpy as np"
   ]
  },
  {
   "cell_type": "code",
   "execution_count": 3,
   "metadata": {},
   "outputs": [],
   "source": [
    "import SudokuSolve.SudokuGrid\n",
    "import SudokuSolve.WebCamExtract\n",
    "import SudokuSolve.ModelPredict\n",
    "import SudokuSolve.ImageCrop"
   ]
  },
  {
   "cell_type": "code",
   "execution_count": 4,
   "metadata": {},
   "outputs": [],
   "source": [
    "from tensorflow.keras.models import load_model"
   ]
  },
  {
   "cell_type": "code",
   "execution_count": 79,
   "metadata": {},
   "outputs": [],
   "source": [
    "image = cv2.imread(\"/home/aayush/SudokuSolver/Images/SudokuTest02.jpg\")"
   ]
  },
  {
   "cell_type": "code",
   "execution_count": 80,
   "metadata": {},
   "outputs": [],
   "source": [
    "Image,Grid_img = SudokuSolve.WebCamExtract.show_frames(image,(252,252))"
   ]
  },
  {
   "cell_type": "code",
   "execution_count": 81,
   "metadata": {},
   "outputs": [],
   "source": [
    "cv2.imshow(\"Grid_img\",Grid_img)\n",
    "cv2.waitKey(0)\n",
    "cv2.destroyAllWindows()"
   ]
  },
  {
   "cell_type": "code",
   "execution_count": 82,
   "metadata": {},
   "outputs": [],
   "source": [
    "def Sudokugrid(Sudoku_image):\n",
    "    \n",
    "    image_copy=Sudoku_image\n",
    "    grid_side_length=image_copy.shape[0]\n",
    "    gray_image = cv2.cvtColor(image_copy, cv2.COLOR_BGR2GRAY)\n",
    "    blur = cv2.GaussianBlur(gray_image, (3,3), 0)\n",
    "    #thresh = cv2.adaptiveThreshold(gray_image, 255, cv2.ADAPTIVE_THRESH_MEAN_C,cv2.THRESH_BINARY, 3, 5)\n",
    "    _, th3 = cv2.threshold(blur, 0, 255, cv2.THRESH_BINARY + cv2.THRESH_OTSU)\n",
    "    ret,thresh2 = cv2.threshold(th3, 127, 255, cv2.THRESH_BINARY_INV)\n",
    "    return thresh2"
   ]
  },
  {
   "cell_type": "code",
   "execution_count": 71,
   "metadata": {},
   "outputs": [
    {
     "data": {
      "text/plain": [
       "13"
      ]
     },
     "execution_count": 71,
     "metadata": {},
     "output_type": "execute_result"
    }
   ],
   "source": [
    "kernel = np.ones((3,3), np.uint8)\n",
    "\n",
    "# Now we erode\n",
    "erosion = cv2.erode(image, kernel, iterations = 1)\n",
    "cv2.imshow('Erosion', erosion)\n",
    "cv2.waitKey(0)\n",
    "\n",
    "# \n",
    "dilation = cv2.dilate(image, kernel, iterations = 1)\n",
    "cv2.imshow('Dilation', dilation)\n",
    "cv2.waitKey(0)"
   ]
  },
  {
   "cell_type": "code",
   "execution_count": 98,
   "metadata": {},
   "outputs": [],
   "source": [
    "Pro_grid_img = Sudokugrid(img)"
   ]
  },
  {
   "cell_type": "code",
   "execution_count": 97,
   "metadata": {},
   "outputs": [],
   "source": [
    "img = cv2.imread(\"/home/aayush/SudokuSolver/Images/sudokuTestEasy.png\")\n",
    "img = cv2.resize(Pro_grid_img,(252,252))"
   ]
  },
  {
   "cell_type": "code",
   "execution_count": 99,
   "metadata": {},
   "outputs": [],
   "source": [
    "cv2.imshow(\"Pro_Grid_img\",Pro_grid_img)\n",
    "cv2.waitKey(0)\n",
    "cv2.destroyAllWindows()"
   ]
  },
  {
   "cell_type": "code",
   "execution_count": 7,
   "metadata": {},
   "outputs": [
    {
     "data": {
      "text/plain": [
       "255"
      ]
     },
     "execution_count": 7,
     "metadata": {},
     "output_type": "execute_result"
    }
   ],
   "source": [
    "Pro_grid_img.max()"
   ]
  },
  {
   "cell_type": "code",
   "execution_count": 100,
   "metadata": {},
   "outputs": [],
   "source": [
    "model = load_model('/home/aayush/SudokuSolver/Saved models/Digit_Model_P15.h5')"
   ]
  },
  {
   "cell_type": "code",
   "execution_count": 20,
   "metadata": {},
   "outputs": [
    {
     "name": "stdout",
     "output_type": "stream",
     "text": [
      "3\n",
      "0.9999949\n",
      "0\n",
      "1.0\n",
      "0\n",
      "1.0\n",
      "8\n",
      "0.97224957\n",
      "0\n",
      "1.0\n",
      "1\n",
      "0.9949268\n",
      "0\n",
      "1.0\n",
      "0\n",
      "0.65927964\n",
      "2\n",
      "0.9999143\n",
      "2\n",
      "0.9998442\n",
      "0\n",
      "1.0\n",
      "1\n",
      "0.9753196\n",
      "0\n",
      "1.0\n",
      "3\n",
      "0.9999876\n",
      "0\n",
      "1.0\n",
      "6\n",
      "0.6421366\n",
      "0\n",
      "1.0\n",
      "4\n",
      "0.6753162\n",
      "0\n",
      "1.0\n",
      "0\n",
      "1.0\n",
      "0\n",
      "1.0\n",
      "2\n",
      "1.0\n",
      "0\n",
      "1.0\n",
      "4\n",
      "0.99991965\n",
      "0\n",
      "1.0\n",
      "0\n",
      "1.0\n",
      "0\n",
      "1.0\n",
      "8\n",
      "0.9952899\n",
      "0\n",
      "1.0\n",
      "9\n",
      "0.9966407\n",
      "0\n",
      "1.0\n",
      "0\n",
      "1.0\n",
      "0\n",
      "1.0\n",
      "4\n",
      "0.48919663\n",
      "0\n",
      "1.0\n",
      "8\n",
      "0.983959\n",
      "0\n",
      "1.0\n",
      "8\n",
      "0.8172079\n",
      "0\n",
      "1.0\n",
      "0\n",
      "1.0\n",
      "0\n",
      "1.0\n",
      "0\n",
      "1.0\n",
      "0\n",
      "1.0\n",
      "5\n",
      "0.9998467\n",
      "0\n",
      "1.0\n",
      "7\n",
      "0.99890983\n",
      "0\n",
      "1.0\n",
      "2\n",
      "0.99999905\n",
      "0\n",
      "1.0\n",
      "0\n",
      "1.0\n",
      "0\n",
      "1.0\n",
      "4\n",
      "0.9981262\n",
      "0\n",
      "1.0\n",
      "8\n",
      "0.2545617\n",
      "0\n",
      "1.0\n",
      "0\n",
      "1.0\n",
      "0\n",
      "1.0\n",
      "5\n",
      "0.99987495\n",
      "0\n",
      "1.0\n",
      "9\n",
      "0.8858357\n",
      "0\n",
      "1.0\n",
      "0\n",
      "1.0\n",
      "0\n",
      "1.0\n",
      "9\n",
      "0.9549884\n",
      "0\n",
      "1.0\n",
      "4\n",
      "0.9961293\n",
      "0\n",
      "1.0\n",
      "8\n",
      "0.98528904\n",
      "0\n",
      "1.0\n",
      "7\n",
      "0.9991511\n",
      "0\n",
      "1.0\n",
      "5\n",
      "0.99999774\n",
      "6\n",
      "0.99496377\n",
      "0\n",
      "1.0\n",
      "0\n",
      "1.0\n",
      "1\n",
      "0.7244417\n",
      "0\n",
      "1.0\n",
      "7\n",
      "0.9944088\n",
      "0\n",
      "1.0\n",
      "0\n",
      "1.0\n",
      "3\n",
      "0.99999046\n"
     ]
    }
   ],
   "source": [
    "for i in range(9):\n",
    "    for j in range(9):\n",
    "        img_croped=SudokuSolve.ImageCrop.img_crop(i,j,Pro_grid_img)\n",
    "        tst=img_croped/255\n",
    "        tst_img=np.array(tst).reshape(1,28,28,1)\n",
    "        #grid_array = model.predict_classes(tst_img,verbose=0)[0]\n",
    "        predictions=model.predict(tst_img,verbose=0)\n",
    "        X=np.argmax(predictions, axis=-1)[0]\n",
    "        #print(grid_array)\n",
    "        print(X)\n",
    "        print(np.array(predictions)[0][X])\n",
    "        cv2.imshow(\"Pro_Grid_img\",tst)\n",
    "        cv2.waitKey(0)\n",
    "cv2.destroyAllWindows()"
   ]
  },
  {
   "cell_type": "code",
   "execution_count": 18,
   "metadata": {},
   "outputs": [
    {
     "data": {
      "text/plain": [
       "2.144205e-13"
      ]
     },
     "execution_count": 18,
     "metadata": {},
     "output_type": "execute_result"
    }
   ],
   "source": [
    "predictions[0][3]"
   ]
  },
  {
   "cell_type": "code",
   "execution_count": 101,
   "metadata": {},
   "outputs": [
    {
     "data": {
      "text/plain": [
       "array([[5., 3., 0., 0., 7., 0., 0., 0., 0.],\n",
       "       [6., 0., 0., 1., 9., 5., 0., 0., 0.],\n",
       "       [0., 9., 8., 0., 0., 0., 0., 6., 0.],\n",
       "       [8., 0., 0., 0., 6., 0., 0., 0., 3.],\n",
       "       [4., 0., 0., 8., 0., 3., 0., 0., 1.],\n",
       "       [7., 0., 0., 0., 2., 0., 0., 0., 6.],\n",
       "       [0., 6., 0., 0., 0., 0., 2., 8., 0.],\n",
       "       [0., 0., 0., 4., 1., 9., 0., 0., 5.],\n",
       "       [0., 0., 0., 0., 3., 0., 0., 2., 9.]])"
      ]
     },
     "execution_count": 101,
     "metadata": {},
     "output_type": "execute_result"
    }
   ],
   "source": [
    "SudokuSolve.ModelPredict.modelPredictGrid(Pro_grid_img,model)"
   ]
  },
  {
   "cell_type": "code",
   "execution_count": 88,
   "metadata": {},
   "outputs": [],
   "source": [
    "def confidence(i,j):\n",
    "    img_croped=SudokuSolve.ImageCrop.img_crop(i,j,Pro_grid_img)\n",
    "    tst=img_croped/255\n",
    "    tst_img=np.array(tst).reshape(1,28,28,1)\n",
    "    #grid_array = model.predict_classes(tst_img,verbose=0)[0]\n",
    "    predictions=model.predict(tst_img,verbose=0)\n",
    "    X=np.argmax(predictions, axis=-1)[0]\n",
    "    #print(grid_array)\n",
    "    print(X)\n",
    "    print(np.array(predictions)[0][X])\n",
    "    cv2.imshow(\"Pro_Grid_img\",tst)\n",
    "    cv2.waitKey(0)\n",
    "    cv2.destroyAllWindows()"
   ]
  },
  {
   "cell_type": "code",
   "execution_count": null,
   "metadata": {},
   "outputs": [],
   "source": [
    "confidence(i,j)"
   ]
  }
 ],
 "metadata": {
  "kernelspec": {
   "display_name": "Python 3",
   "language": "python",
   "name": "python3"
  },
  "language_info": {
   "codemirror_mode": {
    "name": "ipython",
    "version": 3
   },
   "file_extension": ".py",
   "mimetype": "text/x-python",
   "name": "python",
   "nbconvert_exporter": "python",
   "pygments_lexer": "ipython3",
   "version": "3.8.3"
  }
 },
 "nbformat": 4,
 "nbformat_minor": 4
}
